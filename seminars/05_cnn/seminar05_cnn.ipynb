{
  "cells": [
    {
      "cell_type": "markdown",
      "metadata": {
        "id": "MnIVc28YITvO"
      },
      "source": [
        "# 05. Обучение свёрточных нейронных сетей (CNN)"
      ]
    },
    {
      "cell_type": "markdown",
      "metadata": {
        "id": "2jL3TJmvIe4w"
      },
      "source": [
        "## План\n",
        "1. Базовый подход на датасете CIFAR-10\n",
        "2. Добавление аугментаций данных\n",
        "3. Использование предобученных моделей (Fine-tuning)\n",
        "4. Стратегии планирования скорости обучения"
      ]
    },
    {
      "cell_type": "markdown",
      "metadata": {
        "id": "PC7psz336QRr"
      },
      "source": [
        " ### 0. Настройка Wandb для логирования экспериментов"
      ]
    },
    {
      "cell_type": "code",
      "execution_count": null,
      "metadata": {
        "id": "WP7dbAs86Y4q"
      },
      "outputs": [],
      "source": [
        "! pip install wandb -q"
      ]
    },
    {
      "cell_type": "code",
      "execution_count": null,
      "metadata": {
        "colab": {
          "base_uri": "https://localhost:8080/",
          "height": 148
        },
        "id": "d8mi2JEB6QRr",
        "outputId": "f3a1b969-ce25-4b5f-aa07-417a28131fdc"
      },
      "outputs": [],
      "source": [
        "import wandb\n",
        "\n",
        "wandb.login()"
      ]
    },
    {
      "cell_type": "code",
      "execution_count": null,
      "metadata": {
        "id": "HyIyVy4vTKfk"
      },
      "outputs": [],
      "source": [
        "%config InlineBackend.figure_format='retina'"
      ]
    },
    {
      "cell_type": "markdown",
      "metadata": {
        "id": "_CZp6_cCKXBQ"
      },
      "source": [
        " ## 1. Базовый подход на датасете CIFAR-10"
      ]
    },
    {
      "cell_type": "markdown",
      "metadata": {
        "id": "G8mPPXr6ILZN"
      },
      "source": [
        "На предыдущих занятиях мы освоили построение базовых архитектур нейронных сетей и их обучение на различных наборах изображений.\n",
        "В рамках данного семинара мы рассмотрим методы улучшения качества моделей за счёт настройки различных параметров.\n",
        "\n",
        "Ключевые аспекты, влияющие на качество модели:"
      ]
    },
    {
      "cell_type": "markdown",
      "metadata": {
        "id": "LIUTk2uW6QRs"
      },
      "source": [
        "* **Архитектурные решения**\n",
        "  * Выбор семейства архитектур (**ResNet**, **EfficientNet** и др.)\n",
        "  * Размер модели (**ResNet18** vs **ResNet101**)\n",
        "  * Количество обучаемых слоев\n",
        "  * Стратегия постепенного размораживания слоев\n",
        "\n",
        "* **Параметры оптимизации**\n",
        "  * Алгоритм оптимизации (**SGD**, **Adam** и их варианты)\n",
        "  * Скорость обучения и ее изменение в процессе обучения\n",
        "  * Добавление момента\n",
        "  * Регуляризация (weight decay)\n",
        "  \n",
        "* **Обработка данных**\n",
        "  * Взвешивание классов и стратегии семплирования\n",
        "  * Набор аугментаций и их интенсивность\n",
        "  * Предобработка и очистка данных\n",
        "\n",
        "* **Параметры обучения**\n",
        "  * Размер мини-пакета\n",
        "  * Функция потерь\n",
        "  * Критерии оценки (помимо val_loss)\n",
        "  * Условия остановки обучения\n"
      ]
    },
    {
      "cell_type": "markdown",
      "metadata": {
        "id": "ENjd7aWaO1mV"
      },
      "source": [
        "### 1.1. Загрузка и подготовка данных"
      ]
    },
    {
      "cell_type": "code",
      "execution_count": null,
      "metadata": {
        "id": "Z-AnWHvVKNYw"
      },
      "outputs": [],
      "source": [
        "import os\n",
        "import glob\n",
        "import pickle\n",
        "import tqdm\n",
        "import cv2\n",
        "from torchvision.datasets import CIFAR10"
      ]
    },
    {
      "cell_type": "markdown",
      "metadata": {
        "id": "LGF99FATIMOm"
      },
      "source": [
        "### 1.2. Создание датасета и анализ данных"
      ]
    },
    {
      "cell_type": "code",
      "execution_count": null,
      "metadata": {
        "id": "WFPI1sXxIMqU"
      },
      "outputs": [],
      "source": [
        "import numpy as np\n",
        "import matplotlib.pyplot as plt\n",
        "\n",
        "from sklearn.metrics import roc_auc_score, accuracy_score, confusion_matrix\n",
        "\n",
        "import torch\n",
        "from torch import nn\n",
        "from torch.utils.data import Dataset, DataLoader\n",
        "from torchvision import transforms as T"
      ]
    },
    {
      "cell_type": "markdown",
      "metadata": {
        "id": "FK7049Cu6QRs"
      },
      "source": [
        "Ранее мы обрабатывали изображения непосредственно в датасете. \n",
        "\n",
        "Рекомендуется использовать механизм трансформаций для стандартизации предобработки данных:"
      ]
    },
    {
      "cell_type": "code",
      "execution_count": null,
      "metadata": {
        "id": "a-Qah-YVMIOk"
      },
      "outputs": [],
      "source": [
        "transforms_simple = T.Compose(\n",
        "    [\n",
        "        T.ToTensor(),\n",
        "        T.Normalize([0.5, 0.5, 0.5], [0.25, 0.25, 0.25])\n",
        "    ]  # ⬆︎ — \"стандарт по-умолчанию\" для быстрого старта, в реальных задачах берём из набора данных\n",
        ")\n",
        "# normalized_tensor = (tensor - mean) / std"
      ]
    },
    {
      "cell_type": "markdown",
      "metadata": {
        "id": "IP0_TSrS6QRs"
      },
      "source": [
        "Для трансформаций данных мы используем модуль `torchvision.transforms`, однако существуют и альтернативные библиотеки (которые будут рассмотрены далее).\n",
        "\n",
        "На текущем этапе ограничимся базовыми операциями преобразования - конвертацией в тензор и нормализацией."
      ]
    },
    {
      "cell_type": "code",
      "execution_count": null,
      "metadata": {
        "colab": {
          "base_uri": "https://localhost:8080/"
        },
        "id": "GSZl2qJJL5zA",
        "outputId": "9d3c5905-6960-4b53-e339-9fbe6c36b9e1"
      },
      "outputs": [],
      "source": [
        "dataset_train = CIFAR10(\"./\", train=True, download=True, transform=transforms_simple)"
      ]
    },
    {
      "cell_type": "code",
      "execution_count": null,
      "metadata": {
        "colab": {
          "base_uri": "https://localhost:8080/"
        },
        "id": "DIXAR_Ao6QRt",
        "outputId": "906d4373-59aa-4b91-d6ca-de06614b1c7a"
      },
      "outputs": [],
      "source": [
        "image, label = dataset_train[0]\n",
        "image.shape, label"
      ]
    },
    {
      "cell_type": "code",
      "execution_count": null,
      "metadata": {
        "colab": {
          "base_uri": "https://localhost:8080/"
        },
        "id": "ElhwpZvY6QRt",
        "outputId": "6748de46-d204-427b-9a72-d4767809b11e"
      },
      "outputs": [],
      "source": [
        "cifar10_class_map = {idx: idx_class for idx_class, idx in dataset_train.class_to_idx.items()}\n",
        "cifar10_class_map"
      ]
    },
    {
      "cell_type": "markdown",
      "metadata": {
        "id": "ioV3JLns6QRt"
      },
      "source": [
        "Для визуализации нормализованных тензоров необходимо выполнить обратное преобразование — денормализацию:\n",
        "\n",
        "**Задача**: реализовать функцию `tensor_to_image`, преобразующую нормализованный тензор размерности `(3, h, w)` в денормализованный массив `(h, w, 3)`."
      ]
    },
    {
      "cell_type": "code",
      "execution_count": null,
      "metadata": {
        "id": "4_f5l7CTM83I"
      },
      "outputs": [],
      "source": [
        "def tensor_to_image(tensor, mean=(0.5, 0.5, 0.5), std=(0.25, 0.25, 0.25)):\n",
        "    ### YOUR CODE HERE\n",
        "\n",
        "    # mean, std -> ...\n",
        "\n",
        "    ### END OF YOUR CODE\n",
        "\n",
        "    return image"
      ]
    },
    {
      "cell_type": "code",
      "execution_count": null,
      "metadata": {
        "id": "uxEpz0GB6QRt"
      },
      "outputs": [],
      "source": [
        "image = np.random.uniform(size=(32, 32, 3))\n",
        "tensor = (torch.from_numpy(image).permute(2, 0, 1) - 0.5) / 0.25\n",
        "\n",
        "np.testing.assert_array_equal(image, tensor_to_image(tensor))"
      ]
    },
    {
      "cell_type": "markdown",
      "metadata": {
        "id": "jp9CkuFy6QRt"
      },
      "source": [
        "Посмотрим глазами на данные:"
      ]
    },
    {
      "cell_type": "code",
      "execution_count": null,
      "metadata": {
        "colab": {
          "base_uri": "https://localhost:8080/",
          "height": 1000
        },
        "id": "Ukptd7M9L6zz",
        "outputId": "6dca2215-ecf8-46a6-f145-74bbb8f62c3e"
      },
      "outputs": [],
      "source": [
        "indexes_to_show = np.random.choice(len(dataset_train), size=64, replace=False)\n",
        "\n",
        "plt.figure(figsize=(18, 14))\n",
        "for i, index in enumerate(indexes_to_show):\n",
        "    tensor, label = dataset_train[index]\n",
        "    image = tensor_to_image(tensor)\n",
        "    plt.subplot(8, 8, i + 1)\n",
        "    plt.imshow(image)\n",
        "    plt.axis(False)\n",
        "    plt.title(f\"GT: {label} ({cifar10_class_map[label]})\")\n",
        "plt.show()"
      ]
    },
    {
      "cell_type": "markdown",
      "metadata": {
        "id": "4EFjIrKjPJ50"
      },
      "source": [
        "Стандартной практикой является проведение разведывательного анализа данных (Exploratory Data Analysis, EDA). \n",
        "\n",
        "На данном этапе ограничимся анализом распределения количества изображений по классам.\n",
        "\n",
        "**Задача**: используя любой удобный метод, определить количество изображений для каждого класса в обучающей выборке."
      ]
    },
    {
      "cell_type": "code",
      "execution_count": null,
      "metadata": {
        "id": "59s_OCSw6QRt"
      },
      "outputs": [],
      "source": [
        "labels_train = np.array([label for _, label in dataset_train])"
      ]
    },
    {
      "cell_type": "code",
      "execution_count": null,
      "metadata": {
        "colab": {
          "base_uri": "https://localhost:8080/"
        },
        "id": "l3jx-D58P-1_",
        "outputId": "63053508-01aa-465b-d107-e8139edd9026"
      },
      "outputs": [],
      "source": [
        "### YOUR CODE HERE\n",
        "\n",
        "### END OF YOUR CODE"
      ]
    },
    {
      "cell_type": "markdown",
      "metadata": {
        "id": "s3TTzLbQ6QRt"
      },
      "source": [
        "Создадим валидационный набор данных и перейдем к следующему этапу:"
      ]
    },
    {
      "cell_type": "code",
      "execution_count": null,
      "metadata": {
        "id": "L8exmChjPmIp"
      },
      "outputs": [],
      "source": [
        "dataset_val = CIFAR10(\"./\", train=False, download=False, transform=transforms_simple)"
      ]
    },
    {
      "cell_type": "code",
      "execution_count": null,
      "metadata": {
        "id": "Vu_keslB6QRt"
      },
      "outputs": [],
      "source": [
        "labels_val = np.array([label for _, label in dataset_val])"
      ]
    },
    {
      "cell_type": "code",
      "execution_count": null,
      "metadata": {
        "colab": {
          "base_uri": "https://localhost:8080/"
        },
        "id": "vai2uEOJ6QRu",
        "outputId": "9772dcb1-6e67-48bc-ff43-e46d1d5d40a4"
      },
      "outputs": [],
      "source": [
        "### YOUR CODE HERE\n",
        "\n",
        "### END OF YOUR CODE"
      ]
    },
    {
      "cell_type": "markdown",
      "metadata": {
        "id": "TpyBiwm1Q2-3"
      },
      "source": [
        "### 1.3. Построение модели"
      ]
    },
    {
      "cell_type": "markdown",
      "metadata": {
        "id": "W3THP9pzRIcP"
      },
      "source": [
        "Начнем с базовой архитектуры, которую можно быстро реализовать и протестировать.\n",
        "В дальнейшем в качестве базового решения можно рассматривать ResNet34, но для начала реализуем простую архитектуру."
      ]
    },
    {
      "cell_type": "markdown",
      "metadata": {
        "id": "dVUl036B6QRu"
      },
      "source": [
        "**Задание**: реализовать класс CNNBlock для построения блока свёрточной сети со следующей структурой:\n",
        "* Сверточный слой 3x3\n",
        "* Пакетная нормализация\n",
        "* ReLU активация\n",
        "* Сверточный слой 3x3\n",
        "* Пакетная нормализация\n",
        "* ReLU активация\n",
        "* (Опционально) MaxPooling 2x2"
      ]
    },
    {
      "cell_type": "code",
      "execution_count": null,
      "metadata": {
        "id": "o1jQC25eP4R9"
      },
      "outputs": [],
      "source": [
        "class CNNBlock(nn.Module):\n",
        "    def __init__(self, in_channels, out_channels, pool=True):\n",
        "        super(CNNBlock, self).__init__()\n",
        "\n",
        "        ### YOUR CODE HERE\n",
        "        \n",
        "        ### END OF YOUR CODE\n",
        "\n",
        "    def forward(self, x):\n",
        "        x = self.conv1(x)\n",
        "        x = self.bn1(x)\n",
        "        x = self.relu(x)\n",
        "        x = self.conv2(x)\n",
        "        x = self.bn2(x)\n",
        "        x = self.relu(x)\n",
        "        x = self.maxpool(x)\n",
        "        return x"
      ]
    },
    {
      "cell_type": "markdown",
      "metadata": {
        "id": "ya84b_EU6QRu"
      },
      "source": [
        "Соберём из этих блоков сеть:"
      ]
    },
    {
      "cell_type": "code",
      "execution_count": null,
      "metadata": {
        "id": "5AXYKl0ATBSO"
      },
      "outputs": [],
      "source": [
        "cnn_baseline = nn.Sequential(\n",
        "    CNNBlock(3, 32),\n",
        "    CNNBlock(32, 64),\n",
        "    CNNBlock(64, 128),\n",
        "    CNNBlock(128, 256),\n",
        "    CNNBlock(256, 512),\n",
        "    # v NOTE THIS\n",
        "    nn.AdaptiveAvgPool2d((1, 1)),  # B x 512 x 1 x 1\n",
        "    # ^ NOTE THIS ^\n",
        "    nn.Flatten(),  # B x 512\n",
        "    nn.Linear(512, 10),\n",
        ").eval()"
      ]
    },
    {
      "cell_type": "code",
      "execution_count": null,
      "metadata": {
        "colab": {
          "base_uri": "https://localhost:8080/"
        },
        "id": "8adj93WgTtll",
        "outputId": "430f56cd-1f1d-450e-e219-4fc599939d65"
      },
      "outputs": [],
      "source": [
        "x = torch.randn(4, 3, 32, 32)\n",
        "y = cnn_baseline(x)\n",
        "y.shape"
      ]
    },
    {
      "cell_type": "markdown",
      "metadata": {
        "id": "XnXxvwS-UDUq"
      },
      "source": [
        "### 1.4. Процесс обучения\n",
        "#### 1.4.1 Настройка логирования с использованием Wandb"
      ]
    },
    {
      "cell_type": "code",
      "execution_count": null,
      "metadata": {
        "colab": {
          "base_uri": "https://localhost:8080/"
        },
        "id": "x9yycWLIFyk4",
        "outputId": "dd8a8739-7bf8-4855-c5dd-b1d5190734e5"
      },
      "outputs": [],
      "source": [
        "len(dataset_train)"
      ]
    },
    {
      "cell_type": "code",
      "execution_count": null,
      "metadata": {
        "colab": {
          "base_uri": "https://localhost:8080/",
          "height": 146
        },
        "id": "P_5X0zaX6QRu",
        "outputId": "963c0cee-d0f2-475e-c2c4-b74d5650c736"
      },
      "outputs": [],
      "source": [
        "import wandb\n",
        "\n",
        "config = {\n",
        "    \"learning_rate\": 3e-4,\n",
        "    \"weight_decay\": 0.01,\n",
        "    \"batch_size\": 50,\n",
        "    \"num_epochs\": 5,\n",
        "    \"optimizer\": torch.optim.AdamW,\n",
        "}\n",
        "\n",
        "wandb.init(\n",
        "    # set the wandb project where this run will be logged\n",
        "    project=\"seminar-05-cnn-2025\",\n",
        "    name=\"baseline\",\n",
        "    reinit=True,\n",
        "    # track hyperparameters and run metadata\n",
        "    config=config,\n",
        ")"
      ]
    },
    {
      "cell_type": "code",
      "execution_count": null,
      "metadata": {
        "colab": {
          "base_uri": "https://localhost:8080/"
        },
        "id": "H6GZw6u4UDCU",
        "outputId": "1b91e642-3b82-4c19-8dc7-d29836892ae2"
      },
      "outputs": [],
      "source": [
        "# Автоматический выбор устройства с приоритетом: MPS -> CUDA -> CPU\n",
        "device = torch.device(\n",
        "    \"mps\" if torch.backends.mps.is_available() and torch.backends.mps.is_built() else\n",
        "    \"cuda\" if torch.cuda.is_available() else \n",
        "    \"cpu\"\n",
        ")\n",
        "\n",
        "print(f\"Используемое устройство: {device}\")"
      ]
    },
    {
      "cell_type": "code",
      "execution_count": null,
      "metadata": {
        "colab": {
          "base_uri": "https://localhost:8080/"
        },
        "id": "wA06f9NgFLxN",
        "outputId": "a9455764-892d-4a19-8a8d-851440d7cc7f"
      },
      "outputs": [],
      "source": [
        "import os\n",
        "\n",
        "num_workers = os.cpu_count()\n",
        "num_workers"
      ]
    },
    {
      "cell_type": "code",
      "execution_count": null,
      "metadata": {
        "id": "trrW6vpoT0Qs"
      },
      "outputs": [],
      "source": [
        "dataloader_train = DataLoader(\n",
        "    dataset_train,\n",
        "    batch_size=config[\"batch_size\"],\n",
        "    shuffle=True,\n",
        "    drop_last=True,\n",
        "    num_workers=num_workers,\n",
        "    pin_memory=True,\n",
        "    prefetch_factor=4,\n",
        ")\n",
        "\n",
        "dataloader_val = DataLoader(\n",
        "    dataset_val,\n",
        "    batch_size=config[\"batch_size\"],\n",
        "    shuffle=False,\n",
        "    drop_last=False,\n",
        "    num_workers=num_workers,\n",
        "    pin_memory=True,\n",
        "    prefetch_factor=4,\n",
        ")"
      ]
    },
    {
      "cell_type": "markdown",
      "metadata": {
        "id": "4bSngwHiWplz"
      },
      "source": [
        "Инициализируйте функцию потерь и оптимизатор Adam, используя соответствующие модули PyTorch:"
      ]
    },
    {
      "cell_type": "code",
      "execution_count": null,
      "metadata": {
        "colab": {
          "base_uri": "https://localhost:8080/"
        },
        "id": "Dx5gSSediCJA",
        "outputId": "4d634066-349d-4ec7-a4c5-f6653ed09701"
      },
      "outputs": [],
      "source": [
        "config"
      ]
    },
    {
      "cell_type": "code",
      "execution_count": null,
      "metadata": {
        "id": "chiFfTDuWpAd"
      },
      "outputs": [],
      "source": [
        "### YOUR CODE HERE\n",
        "\n",
        "# loss_fn = ...\n",
        "# optimizer = ...\n",
        "\n",
        "### END OF YOUR CODE"
      ]
    },
    {
      "cell_type": "markdown",
      "metadata": {
        "id": "Bk4PdC_VVT5z"
      },
      "source": [
        "Ранее мы использовали раздельные методы для этапов обучения и валидации. Теперь объединим их в единую функцию:"
      ]
    },
    {
      "cell_type": "code",
      "execution_count": null,
      "metadata": {
        "id": "GFQKkzQ_T1ff"
      },
      "outputs": [],
      "source": [
        "def run_epoch(stage, model, dataloader, loss_fn, optimizer, epoch, device):\n",
        "    # v NOTE THIS v\n",
        "    if stage == \"train\":\n",
        "        model.train()\n",
        "        torch.set_grad_enabled(True)\n",
        "    else:\n",
        "        torch.set_grad_enabled(False)\n",
        "        model.eval()\n",
        "    # ^ NOTE THIS ^\n",
        "\n",
        "    model = model.to(device)\n",
        "    num_steps = len(dataloader)\n",
        "    losses = []\n",
        "    for i, batch in enumerate(tqdm.tqdm(dataloader, total=len(dataloader), desc=f\"epoch: {str(epoch).zfill(3)} | {stage:5}\")):\n",
        "        xs, ys_true = batch\n",
        "\n",
        "        ys_pred = model(xs.to(device))\n",
        "        loss = loss_fn(ys_pred, ys_true.to(device))\n",
        "\n",
        "        if stage == \"train\":\n",
        "            optimizer.zero_grad()\n",
        "            loss.backward()\n",
        "            optimizer.step()\n",
        "            # логгируем номер шага при обучении\n",
        "            wandb.log({\n",
        "                \"training_step\": i + num_steps * epoch,\n",
        "                \"lr\": optimizer.param_groups[0][\"lr\"],\n",
        "                \"loss\": loss,\n",
        "            })\n",
        "\n",
        "        losses.append(loss.detach().cpu().item())\n",
        "\n",
        "    return np.mean(losses)"
      ]
    },
    {
      "cell_type": "markdown",
      "metadata": {
        "id": "FumFb6Yh6QRz"
      },
      "source": [
        "При вызове метода `wandb.log` происходит обновление внутреннего счетчика шагов системы логирования, который не зависит от номера итерации обучения или валидации. \n",
        "Для обеспечения корректного сравнения различных метрик рекомендуется совместно записывать значения функций потерь, метрик качества, а также номер шага обучения или эпохи.\n",
        "\n",
        "Кроме того, мы переходим к более продвинутой стратегии управления процессом обучения, чем простое сохранение последнего состояния модели.\n",
        "Будем отслеживать значение целевой метрики (в данном случае `val_loss`) и сохранять контрольные точки модели только при достижении наилучших результатов."
      ]
    },
    {
      "cell_type": "code",
      "execution_count": null,
      "metadata": {
        "id": "wQfX64IgXT2t"
      },
      "outputs": [],
      "source": [
        "def save_checkpoint(model, filename):\n",
        "    with open(filename, \"wb\") as fp:\n",
        "        torch.save(model.state_dict(), fp)\n",
        "\n",
        "def load_checkpoint(model, filename):\n",
        "    with open(filename, \"rb\") as fp:\n",
        "        state_dict = torch.load(fp, map_location=\"cpu\")\n",
        "    model.load_state_dict(state_dict)"
      ]
    },
    {
      "cell_type": "code",
      "execution_count": null,
      "metadata": {
        "colab": {
          "base_uri": "https://localhost:8080/"
        },
        "id": "DZvT4IqTX2pX",
        "outputId": "0497d215-b0d5-427a-a91e-1a9693df0339"
      },
      "outputs": [],
      "source": [
        "my_model = nn.Linear(100, 1)\n",
        "my_model.weight.data *= 1e6\n",
        "save_checkpoint(my_model, \"test.pth.tar\")\n",
        "\n",
        "my_model_new = nn.Linear(100, 1)\n",
        "load_checkpoint(my_model_new, \"test.pth.tar\")\n",
        "\n",
        "torch.testing.assert_allclose(my_model.weight, my_model_new.weight)"
      ]
    },
    {
      "cell_type": "markdown",
      "metadata": {
        "id": "zDatBujm6QRz"
      },
      "source": [
        "Учитывая планируемое количество экспериментов, для избежания дублирования кода инкапсулируем всю логику процесса обучения в функцию `run_experiment()`:"
      ]
    },
    {
      "cell_type": "code",
      "execution_count": null,
      "metadata": {
        "id": "3yNx14QWT5Ff"
      },
      "outputs": [],
      "source": [
        "def run_experiment(\n",
        "    model, dataloader_train, dataloader_val, loss_fn, optimizer, num_epochs, device, output_dir, start_epoch=0\n",
        "):\n",
        "    train_losses = []\n",
        "    val_losses = []\n",
        "\n",
        "    best_val_loss = np.inf\n",
        "    best_val_loss_epoch = -1\n",
        "    best_val_loss_fn = None\n",
        "\n",
        "    os.makedirs(output_dir, exist_ok=True)\n",
        "\n",
        "    for epoch in range(start_epoch, num_epochs):\n",
        "        train_loss = run_epoch(\"train\", model, dataloader_train, loss_fn, optimizer, epoch, device)\n",
        "        train_losses.append(train_loss)\n",
        "\n",
        "        val_loss = run_epoch(\"val\", model, dataloader_val, loss_fn, optimizer, epoch, device)\n",
        "        val_losses.append(val_loss)\n",
        "\n",
        "        wandb.log({\"epoch_loss_train\": train_loss, \"epoch_loss_val\": val_loss, \"epoch\": epoch})\n",
        "\n",
        "        if val_loss < best_val_loss:\n",
        "            best_val_loss = val_loss\n",
        "            best_val_loss_epoch = epoch\n",
        "\n",
        "            output_fn = os.path.join(output_dir, f\"epoch={str(epoch).zfill(2)}_valloss={best_val_loss:.3f}.pth.tar\")\n",
        "            save_checkpoint(model, output_fn)\n",
        "            print(f\"New checkpoint saved to {output_fn}\\n\")\n",
        "\n",
        "            best_val_loss_fn = output_fn\n",
        "\n",
        "    print(f\"Best val_loss = {best_val_loss:.3f} reached at epoch {best_val_loss_epoch}\")\n",
        "    load_checkpoint(model, best_val_loss_fn)\n",
        "\n",
        "    return train_losses, val_losses, best_val_loss, model"
      ]
    },
    {
      "cell_type": "markdown",
      "metadata": {
        "id": "vZnCLsY36QRz"
      },
      "source": [
        "Запустим:"
      ]
    },
    {
      "cell_type": "code",
      "execution_count": null,
      "metadata": {
        "colab": {
          "base_uri": "https://localhost:8080/"
        },
        "id": "JJeIJj6ShR3o",
        "outputId": "23119ce7-a29c-4aa3-d048-81859faa210c"
      },
      "outputs": [],
      "source": [
        "train_losses_baseline, val_losses_baseline, best_val_loss_baseline, cnn_baseline = run_experiment(\n",
        "    cnn_baseline,\n",
        "    dataloader_train,\n",
        "    dataloader_val,\n",
        "    loss_fn,\n",
        "    optimizer,\n",
        "    config[\"num_epochs\"],\n",
        "    device,\n",
        "    \"checkpoints_baseline\",\n",
        ")"
      ]
    },
    {
      "cell_type": "code",
      "execution_count": null,
      "metadata": {
        "colab": {
          "base_uri": "https://localhost:8080/",
          "height": 496,
          "referenced_widgets": [
            "a549802a1afe4450a879852b8f342912",
            "8477f7d81cbf4b37911e7f3bbe3fe374",
            "03a388b48e654ff290b8feb68db4d485",
            "d63424fbadd045849c7b560237c3478d",
            "5d4a452596294fca902262239384aed4",
            "1e4fa81256194053a2b5c737aa61217c",
            "b56a063b412c4c97812da3f8e69a21ef",
            "76238b4216d74cf89c3664a4ad385dbc"
          ]
        },
        "id": "0B4hHmkeE_N4",
        "outputId": "1c6945a4-5267-4c22-b747-b5c25dfafb5e"
      },
      "outputs": [],
      "source": [
        "wandb.finish()"
      ]
    },
    {
      "cell_type": "markdown",
      "metadata": {
        "id": "7eMHWYrg6QRz"
      },
      "source": [
        "Анализ результатов обучения:"
      ]
    },
    {
      "cell_type": "code",
      "execution_count": null,
      "metadata": {
        "id": "bNCzakbVgTea"
      },
      "outputs": [],
      "source": [
        "def plot_losses(train_losses, val_losses, title):\n",
        "    plt.figure(figsize=(12, 5))\n",
        "    plt.title(title)\n",
        "    plt.plot(train_losses, label=\"train\")\n",
        "    plt.plot(val_losses, label=\"val\")\n",
        "    plt.xlabel(\"epoch\")\n",
        "    plt.ylabel(\"loss\")\n",
        "    plt.grid(True)\n",
        "    plt.legend()\n",
        "    plt.show()"
      ]
    },
    {
      "cell_type": "code",
      "execution_count": null,
      "metadata": {
        "colab": {
          "base_uri": "https://localhost:8080/",
          "height": 486
        },
        "id": "8aAy0lgUgj9i",
        "outputId": "1f7a4a1f-82bb-4047-d1ea-9ec8e3411139"
      },
      "outputs": [],
      "source": [
        "plot_losses(train_losses_baseline, val_losses_baseline, title=\"cnn_baseline\")"
      ]
    },
    {
      "cell_type": "markdown",
      "metadata": {
        "id": "NFDx67X36QR0"
      },
      "source": [
        "Вычисление метрик качества:"
      ]
    },
    {
      "cell_type": "code",
      "execution_count": null,
      "metadata": {
        "id": "p7Qte_Auem9C"
      },
      "outputs": [],
      "source": [
        "def collect_predictions(model, dataloader, device):\n",
        "    model.eval()\n",
        "    model = model.to(device)\n",
        "    torch.set_grad_enabled(False)\n",
        "\n",
        "    labels_all = []\n",
        "    probs_all = []\n",
        "    preds_all = []\n",
        "    for batch in tqdm.tqdm(dataloader, total=len(dataloader)):\n",
        "        images, labels = batch\n",
        "\n",
        "        logits = model(images.to(device))\n",
        "        # softmax вычислительно неэффективен, поэтому не стоит лишний раз им пользоваться\n",
        "        # probs = logits.softmax(dim=1)\n",
        "        probs = logits.to(device=\"cpu\")\n",
        "        max_prob, max_prob_index = torch.max(probs, dim=1)\n",
        "\n",
        "        labels_all.extend(labels.numpy().tolist())\n",
        "        probs_all.extend(max_prob.numpy().tolist())\n",
        "        preds_all.extend(max_prob_index.numpy().tolist())\n",
        "\n",
        "    return labels_all, probs_all, preds_all"
      ]
    },
    {
      "cell_type": "code",
      "execution_count": null,
      "metadata": {
        "colab": {
          "base_uri": "https://localhost:8080/"
        },
        "id": "mhfxMqxrfR-1",
        "outputId": "799a0f12-8ff8-4d80-e27e-ade64c7ecd73"
      },
      "outputs": [],
      "source": [
        "train_labels, train_probs, train_preds = collect_predictions(cnn_baseline, dataloader_train, device)\n",
        "\n",
        "accuracy_train = accuracy_score(train_labels, train_preds)\n",
        "accuracy_train"
      ]
    },
    {
      "cell_type": "code",
      "execution_count": null,
      "metadata": {
        "colab": {
          "base_uri": "https://localhost:8080/"
        },
        "id": "CYgbiM2gfxTh",
        "outputId": "ebe00a17-d430-439a-f8e1-5c47487213f0"
      },
      "outputs": [],
      "source": [
        "train_labels[:5], train_preds[:5], train_probs[:5]"
      ]
    },
    {
      "cell_type": "code",
      "execution_count": null,
      "metadata": {
        "colab": {
          "base_uri": "https://localhost:8080/"
        },
        "id": "GaPkI0jBgGvs",
        "outputId": "71a9aa21-41f5-4129-9964-afe6e8ece37a"
      },
      "outputs": [],
      "source": [
        "val_labels, val_probs, val_preds = collect_predictions(cnn_baseline, dataloader_val, device)\n",
        "\n",
        "accuracy_val = accuracy_score(val_labels, val_preds)\n",
        "accuracy_val"
      ]
    },
    {
      "cell_type": "code",
      "execution_count": null,
      "metadata": {
        "colab": {
          "base_uri": "https://localhost:8080/"
        },
        "id": "5mSvwzVx6QR0",
        "outputId": "df67bf8e-c55b-43b9-bd68-57910a593b9d"
      },
      "outputs": [],
      "source": [
        "val_labels[:5], val_probs[:5], val_preds[:5]"
      ]
    },
    {
      "cell_type": "markdown",
      "metadata": {
        "id": "OChJZXzj6QR0"
      },
      "source": [
        "## 2. Применение аугментаций данных"
      ]
    },
    {
      "cell_type": "markdown",
      "metadata": {
        "id": "YQKzUWIE6QR0"
      },
      "source": [
        "Аугментация данных представляет собой один из фундаментальных методов повышения обобщающей способности моделей. \n",
        "Для реализации аугментаций можно использовать как встроенный модуль `torchvision.transforms`, так и специализированные библиотеки, например, [`albumentations`](https://albumentations.ai/). \n",
        "Существуют также [автоматические методы аугментации](https://pytorch.org/vision/main/generated/torchvision.transforms.AutoAugment.html), выходящие за рамки данного семинара.\n",
        "\n",
        "Чрезмерно агрессивные аугментации могут негативно сказаться на процессе обучения, поэтому начнем с умеренных преобразований:"
      ]
    },
    {
      "cell_type": "code",
      "execution_count": null,
      "metadata": {
        "id": "3QoW-82c6QR0"
      },
      "outputs": [],
      "source": [
        "config[\"transforms\"] = T.Compose(\n",
        "    [\n",
        "        T.ToTensor(),\n",
        "        ### YOUR CODE HERE\n",
        "        \n",
        "        ### END OF YOUR CODE\n",
        "        T.Normalize([0.5, 0.5, 0.5], [0.25, 0.25, 0.25]),\n",
        "    ]\n",
        ")"
      ]
    },
    {
      "cell_type": "code",
      "execution_count": null,
      "metadata": {
        "id": "XvSdSOiv6QR0"
      },
      "outputs": [],
      "source": [
        "dataset_aug_train = CIFAR10(\"./\", train=True, download=False, transform=config[\"transforms\"])"
      ]
    },
    {
      "cell_type": "code",
      "execution_count": null,
      "metadata": {
        "colab": {
          "base_uri": "https://localhost:8080/",
          "height": 1000
        },
        "id": "TSTrAgrL6QR0",
        "outputId": "9259859c-50d5-4584-ea21-5c0c6583ab5f"
      },
      "outputs": [],
      "source": [
        "indexes_to_show = np.random.choice(len(dataset_aug_train), size=64, replace=False)\n",
        "\n",
        "plt.figure(figsize=(18, 14))\n",
        "for i, index in enumerate(indexes_to_show):\n",
        "    tensor, label = dataset_aug_train[index]\n",
        "    image = tensor_to_image(tensor)\n",
        "    plt.subplot(8, 8, i + 1)\n",
        "    plt.imshow(image)\n",
        "    plt.axis(False)\n",
        "    plt.title(f\"GT: {label} ({cifar10_class_map[label]})\")\n",
        "plt.show()"
      ]
    },
    {
      "cell_type": "markdown",
      "metadata": {
        "id": "v0b4A_P36QR0"
      },
      "source": [
        "Оценим эффект от применения аугментаций, сохраняя валидационный набор данных без изменений:"
      ]
    },
    {
      "cell_type": "code",
      "execution_count": null,
      "metadata": {
        "id": "Ot5snJL56QR0"
      },
      "outputs": [],
      "source": [
        "cnn_aug = nn.Sequential(\n",
        "    CNNBlock(3, 32),\n",
        "    CNNBlock(32, 64),\n",
        "    CNNBlock(64, 128),\n",
        "    CNNBlock(128, 256),\n",
        "    CNNBlock(256, 512),\n",
        "    # v NOTE THIS\n",
        "    nn.AdaptiveAvgPool2d((1, 1)),  # B x 512 x 1 x 1\n",
        "    # ^ NOTE THIS ^\n",
        "    nn.Flatten(),  # B x 512\n",
        "    nn.Linear(512, 10),\n",
        ").eval()"
      ]
    },
    {
      "cell_type": "markdown",
      "metadata": {
        "id": "djsTeNOc6QR0"
      },
      "source": [
        "Увеличим количество эпох обучения, поскольку применение аугментаций позволяет снизить степень переобучения и обеспечивает целесообразность дополнительных итераций обучения."
      ]
    },
    {
      "cell_type": "code",
      "execution_count": null,
      "metadata": {
        "id": "oRwsiWnx6QR0"
      },
      "outputs": [],
      "source": [
        "dataloader_aug_train = DataLoader(\n",
        "    dataset_aug_train,\n",
        "    batch_size=config[\"batch_size\"],\n",
        "    shuffle=True,\n",
        "    drop_last=True,\n",
        "    num_workers=num_workers,\n",
        "    pin_memory=True,\n",
        "    prefetch_factor=4,\n",
        ")\n",
        "\n",
        "dataloader_val = DataLoader(\n",
        "    dataset_val,\n",
        "    batch_size=config[\"batch_size\"],\n",
        "    shuffle=False,\n",
        "    drop_last=False,\n",
        "    num_workers=num_workers,\n",
        "    pin_memory=True,\n",
        "    prefetch_factor=4,\n",
        ")"
      ]
    },
    {
      "cell_type": "code",
      "execution_count": null,
      "metadata": {
        "id": "ZNRuwFHD6QR0"
      },
      "outputs": [],
      "source": [
        "loss_fn = nn.CrossEntropyLoss()\n",
        "\n",
        "optimizer = config[\"optimizer\"](cnn_aug.parameters(), lr=config[\"learning_rate\"], weight_decay=config[\"weight_decay\"])"
      ]
    },
    {
      "cell_type": "code",
      "execution_count": null,
      "metadata": {
        "colab": {
          "base_uri": "https://localhost:8080/",
          "height": 458
        },
        "id": "gSVKz2CW6QR1",
        "outputId": "18161f64-80fa-4a5c-d1b6-14a7ab0c1eab"
      },
      "outputs": [],
      "source": [
        "wandb.init(\n",
        "    # set the wandb project where this run will be logged\n",
        "    project=\"seminar-05-cnn-2025\",\n",
        "    name=\"baseline_augs\",\n",
        "    reinit=True,\n",
        "    # track hyperparameters and run metadata\n",
        "    config=config,\n",
        ")"
      ]
    },
    {
      "cell_type": "code",
      "execution_count": null,
      "metadata": {
        "colab": {
          "base_uri": "https://localhost:8080/"
        },
        "id": "0qtgNLXB6QR1",
        "outputId": "c0514765-bd24-4155-87a6-de10dac7b0ea"
      },
      "outputs": [],
      "source": [
        "train_losses_aug, val_losses_aug, best_val_loss_aug, cnn_aug = run_experiment(\n",
        "    cnn_aug, dataloader_aug_train, dataloader_val, loss_fn, optimizer, config[\"num_epochs\"], device, \"checkpoints_aug\"\n",
        ")"
      ]
    },
    {
      "cell_type": "code",
      "execution_count": null,
      "metadata": {
        "colab": {
          "base_uri": "https://localhost:8080/",
          "height": 486
        },
        "id": "MbA8s6en6QR1",
        "outputId": "f822b4fc-f55a-4923-e8ce-a0787aeda48b"
      },
      "outputs": [],
      "source": [
        "plot_losses(train_losses_aug, val_losses_aug, title=\"cnn_aug\")"
      ]
    },
    {
      "cell_type": "code",
      "execution_count": null,
      "metadata": {
        "colab": {
          "base_uri": "https://localhost:8080/"
        },
        "id": "ZxcVx7bj6QR1",
        "outputId": "f3ebb6c7-cfdb-4dc1-a2b4-4dcf634bb7cc"
      },
      "outputs": [],
      "source": [
        "train_labels, train_probs, train_preds = collect_predictions(cnn_aug, dataloader_aug_train, device)\n",
        "\n",
        "accuracy_train = accuracy_score(train_labels, train_preds)\n",
        "accuracy_train"
      ]
    },
    {
      "cell_type": "code",
      "execution_count": null,
      "metadata": {
        "colab": {
          "base_uri": "https://localhost:8080/"
        },
        "id": "tC4HjADw6QR1",
        "outputId": "e6b645e5-dec4-48fa-cb34-e91f5b0f2b5f"
      },
      "outputs": [],
      "source": [
        "val_labels, val_probs, val_preds = collect_predictions(cnn_aug, dataloader_val, device)\n",
        "\n",
        "accuracy_val = accuracy_score(val_labels, val_preds)\n",
        "accuracy_val"
      ]
    },
    {
      "cell_type": "markdown",
      "metadata": {
        "id": "34SESg9FeCLU"
      },
      "source": [
        "Анализ функций потерь и метрик качества на валидационной выборке демонстрирует снижение степени переобучения модели и указывает на необходимость увеличения количества итераций для достижения сходимости.\n",
        "\n",
        "В рамках самостоятельной работы рекомендуется дополнить систему логирования метриками качества для более комплексной оценки результатов."
      ]
    },
    {
      "cell_type": "markdown",
      "metadata": {
        "id": "ywY7w6wm6QR1"
      },
      "source": [
        "## 3. Использование предобученных моделей (Fine-tuning)"
      ]
    },
    {
      "cell_type": "markdown",
      "metadata": {
        "id": "QD90o3TU6QR1"
      },
      "source": [
        "Использование предобученных моделей представляет собой стандартную практику в современном глубоком обучении.\n",
        "\n",
        "В большинстве случаев инициализация весов предобученной моделью демонстрирует более высокую эффективность по сравнению со случайной инициализацией, особенно когда исходная модель обучалась на домене, родственном целевому.\n",
        "\n",
        "Доступные источники предобученных моделей включают:\n",
        "* [`torchvision.models`](https://pytorch.org/vision/0.8/models.html)\n",
        "* [`timm`](https://github.com/rwightman/pytorch-image-models)\n",
        "* [`transformers`](https://github.com/huggingface/transformers)\n"
      ]
    },
    {
      "cell_type": "code",
      "execution_count": null,
      "metadata": {
        "id": "Zfv3MEps6QR1"
      },
      "outputs": [],
      "source": [
        "from torchvision import models as M"
      ]
    },
    {
      "cell_type": "markdown",
      "metadata": {
        "id": "d8cWXh9t6QR1"
      },
      "source": [
        "Архитектура ResNet является фундаментальной в области компьютерного зрения. В рамках эксперимента мы используем 18-слойную модификацию данной архитектуры:\n",
        "\n",
        "![Схема архитектуры ResNet-18](https://velog.velcdn.com/images%2Fe_sin528%2Fpost%2Fe272c056-3dfa-4bb6-bfc9-b309d82df932%2FResNet18.png)"
      ]
    },
    {
      "cell_type": "code",
      "execution_count": null,
      "metadata": {
        "colab": {
          "base_uri": "https://localhost:8080/"
        },
        "id": "FW79Orug6QR1",
        "outputId": "458d82f0-778c-42b9-b986-944f84c47eef"
      },
      "outputs": [],
      "source": [
        "resnet18 = M.resnet18(pretrained=True)"
      ]
    },
    {
      "cell_type": "code",
      "execution_count": null,
      "metadata": {
        "id": "LNFvyM-JquAH"
      },
      "outputs": [],
      "source": [
        "import torchvision"
      ]
    },
    {
      "cell_type": "code",
      "execution_count": null,
      "metadata": {
        "colab": {
          "base_uri": "https://localhost:8080/"
        },
        "id": "d8nuRGLNqrxU",
        "outputId": "c99d77a3-16a7-4ec7-9c8e-a5c46a9e1407"
      },
      "outputs": [],
      "source": [
        "torchvision.models.ResNet18_Weights.DEFAULT"
      ]
    },
    {
      "cell_type": "code",
      "execution_count": null,
      "metadata": {
        "id": "sSIrSO_Y6QR1"
      },
      "outputs": [],
      "source": [
        "resnet18.eval();"
      ]
    },
    {
      "cell_type": "code",
      "execution_count": null,
      "metadata": {
        "colab": {
          "base_uri": "https://localhost:8080/"
        },
        "id": "6rVKp1_Wq6iQ",
        "outputId": "44dc25ac-4a02-4d7c-f9a9-b60515b03ed1"
      },
      "outputs": [],
      "source": [
        "resnet18"
      ]
    },
    {
      "cell_type": "code",
      "execution_count": null,
      "metadata": {
        "colab": {
          "base_uri": "https://localhost:8080/"
        },
        "id": "0UDBGM7K6QR1",
        "outputId": "38c16722-2680-4852-ae90-19aacb3e3dcb"
      },
      "outputs": [],
      "source": [
        "x = torch.randn(1, 3, 224, 224)\n",
        "\n",
        "y = resnet18(x)\n",
        "y.size()"
      ]
    },
    {
      "cell_type": "markdown",
      "metadata": {
        "id": "np3XoPGC6QR2"
      },
      "source": [
        "**Стратегии адаптации предобученных моделей**\n",
        "\n",
        "Для интеграции предобученных моделей в целевые задачи применяются следующие подходы:\n",
        "\n",
        "* **Модификация классификатора** - замена выходного полносвязного слоя на слой с количеством нейронов, соответствующим числу классов целевой задачи\n",
        "   * Библиотека `timm` предоставляет встроенные механизмы для данной модификации при инициализации модели\n",
        "\n",
        "* **Использование экстрактора признаков** - применение convolutional backbone модели в качестве фиксированного экстрактора признаков с последующим добавлением пользовательских слоев для классификации\n",
        "   * Библиотека `timm` также упрощает реализацию данного подхода\n",
        "\n",
        "Особенность нашего случая заключается в том, что стандартная архитектура ResNet18 предполагает уменьшение пространственного разрешения входного изображения в 64 раза, тогда как размер изображений в нашем датасете составляет 32×32 пикселя. Это создает технические сложности, требующие специальных решений для адаптации модели."
      ]
    },
    {
      "cell_type": "code",
      "execution_count": null,
      "metadata": {
        "colab": {
          "base_uri": "https://localhost:8080/"
        },
        "id": "--qDzfIl6QR2",
        "outputId": "3584bc03-a2a8-4574-bb79-2db552b84eb9"
      },
      "outputs": [],
      "source": [
        "x = torch.randn(1, 3, 32, 32)\n",
        "\n",
        "y = resnet18(x)\n",
        "y.size()"
      ]
    },
    {
      "cell_type": "markdown",
      "metadata": {
        "id": "crP_b1W76QR2"
      },
      "source": [
        "Один из **распространенных подходов** предполагает *декомпозицию* предобученной модели на **структурные компоненты** с последующим *формированием* новой архитектуры на основе `nn.Sequential` и *интеграцией* дополнительных **пользовательских слоев**:"
      ]
    },
    {
      "cell_type": "code",
      "execution_count": null,
      "metadata": {
        "colab": {
          "base_uri": "https://localhost:8080/"
        },
        "id": "7r783wwUfE1c",
        "outputId": "563b4b2e-11ef-402b-bcb0-1277d23dafa9"
      },
      "outputs": [],
      "source": [
        "resnet18"
      ]
    },
    {
      "cell_type": "code",
      "execution_count": null,
      "metadata": {
        "id": "AVux6FMT6QR2"
      },
      "outputs": [],
      "source": [
        "cnn_finetuned = nn.Sequential(\n",
        "    resnet18.conv1,\n",
        "    resnet18.bn1,\n",
        "    resnet18.relu,\n",
        "    resnet18.maxpool,\n",
        "    resnet18.layer1,\n",
        "    resnet18.layer2,\n",
        "    nn.AdaptiveAvgPool2d((1, 1)),\n",
        "    nn.Flatten(),\n",
        "    nn.Linear(128, 10),\n",
        ").eval()"
      ]
    },
    {
      "cell_type": "code",
      "execution_count": null,
      "metadata": {
        "colab": {
          "base_uri": "https://localhost:8080/"
        },
        "id": "4IK2KLL86QR2",
        "outputId": "acea1707-a631-471e-bddc-642218fc8a77"
      },
      "outputs": [],
      "source": [
        "cnn_finetuned(x)"
      ]
    },
    {
      "cell_type": "markdown",
      "metadata": {
        "id": "vc-T7UmS6QR2"
      },
      "source": [
        "**Стратегия обучения** модели требует особого подхода. Наличие *частично обученных весов* в начальных слоях (из ResNet) и *полностью необученных весов* в выходных слоях создает ситуацию, когда **градиенты в конечных слоях** могут характеризоваться *высоким уровнем шума*. \n",
        "\n",
        "Для решения этой проблемы применяется **двухэтапная процедура обучения**: на первом этапе осуществляется *обучение исключительно новых головных слоев* в течение нескольких эпох, после чего выполняется *полное обучение* всей архитектуры:"
      ]
    },
    {
      "cell_type": "code",
      "execution_count": null,
      "metadata": {
        "colab": {
          "base_uri": "https://localhost:8080/"
        },
        "id": "3F2HHtGe6QR2",
        "outputId": "7904c85c-d542-4290-e807-7c77814e9b2f"
      },
      "outputs": [],
      "source": [
        "cnn_finetuned[0].weight.requires_grad, cnn_finetuned[-1].weight.requires_grad"
      ]
    },
    {
      "cell_type": "markdown",
      "metadata": {
        "id": "W9PGP4hb6QR2"
      },
      "source": [
        "**Управление обучаемостью параметров** модели может быть осуществлено *вручную* через механизм **заморозки весов** слоев:"
      ]
    },
    {
      "cell_type": "code",
      "execution_count": null,
      "metadata": {
        "id": "06BTs8gA6QR2"
      },
      "outputs": [],
      "source": [
        "for p in cnn_finetuned.parameters():\n",
        "    p.requires_grad_(False)"
      ]
    },
    {
      "cell_type": "code",
      "execution_count": null,
      "metadata": {
        "colab": {
          "base_uri": "https://localhost:8080/"
        },
        "id": "CmYOXzQ_6QR2",
        "outputId": "22464463-3454-4459-ceaa-0162c4de2b99"
      },
      "outputs": [],
      "source": [
        "cnn_finetuned[0].weight.requires_grad, cnn_finetuned[-1].weight.requires_grad"
      ]
    },
    {
      "cell_type": "code",
      "execution_count": null,
      "metadata": {
        "colab": {
          "base_uri": "https://localhost:8080/"
        },
        "id": "i0iZUILh6QR2",
        "outputId": "799f2a67-2d27-4b1b-9649-d706df06b6f8"
      },
      "outputs": [],
      "source": [
        "cnn_finetuned[-1].requires_grad_(True)\n",
        "cnn_finetuned[-1].weight.requires_grad"
      ]
    },
    {
      "cell_type": "code",
      "execution_count": null,
      "metadata": {
        "colab": {
          "base_uri": "https://localhost:8080/"
        },
        "id": "oqMocsgDfqfb",
        "outputId": "3987e6de-7475-4475-de1b-67ea0f667c9b"
      },
      "outputs": [],
      "source": [
        "cnn_finetuned[-1]"
      ]
    },
    {
      "cell_type": "code",
      "execution_count": null,
      "metadata": {
        "colab": {
          "base_uri": "https://localhost:8080/"
        },
        "id": "97rjjReifzNr",
        "outputId": "593dc509-540d-4b34-83cd-fcd3fce06480"
      },
      "outputs": [],
      "source": [
        "[(n, p.requires_grad) for (n, p) in cnn_finetuned.named_parameters()]"
      ]
    },
    {
      "cell_type": "markdown",
      "metadata": {
        "id": "COXiP3k06QR2"
      },
      "source": [
        "**Переходим к этапу обучения модели:**"
      ]
    },
    {
      "cell_type": "code",
      "execution_count": null,
      "metadata": {
        "id": "ihvsc8WL6QR2"
      },
      "outputs": [],
      "source": [
        "loss_fn = nn.CrossEntropyLoss()\n",
        "optimizer = config[\"optimizer\"](\n",
        "    cnn_finetuned[-1].parameters(), lr=config[\"learning_rate\"], weight_decay=config[\"weight_decay\"]\n",
        ")"
      ]
    },
    {
      "cell_type": "markdown",
      "metadata": {
        "id": "8Cj9n9_n6QR3"
      },
      "source": [
        "**На первом этапе** выполняем обучение *исключительно последнего слоя* в течение **трех эпох**:"
      ]
    },
    {
      "cell_type": "code",
      "execution_count": null,
      "metadata": {
        "colab": {
          "base_uri": "https://localhost:8080/",
          "height": 314
        },
        "id": "U2S9MFJvsA38",
        "outputId": "c5a0814d-5d44-41f3-c190-05bf18a40779"
      },
      "outputs": [],
      "source": [
        "wandb.finish()"
      ]
    },
    {
      "cell_type": "code",
      "execution_count": null,
      "metadata": {
        "colab": {
          "base_uri": "https://localhost:8080/",
          "height": 127
        },
        "id": "siNXIzif6QR3",
        "outputId": "9d096595-d6c6-4f26-bd27-df63be3b8bda"
      },
      "outputs": [],
      "source": [
        "wandb.init(\n",
        "    # set the wandb project where this run will be logged\n",
        "    project=\"seminar-05-cnn-2025\",\n",
        "    name=\"resnet\",\n",
        "    reinit=True,\n",
        "    # track hyperparameters and run metadata\n",
        "    config=config,\n",
        ")"
      ]
    },
    {
      "cell_type": "code",
      "execution_count": null,
      "metadata": {
        "colab": {
          "base_uri": "https://localhost:8080/"
        },
        "id": "9xrSu7Rk6QR3",
        "outputId": "2f13d547-5c22-4d37-fbcd-ef86e1cccf71"
      },
      "outputs": [],
      "source": [
        "train_losses_finetuned, val_losses_finetuned, best_val_loss_finetuned, cnn_finetuned = run_experiment(\n",
        "    cnn_finetuned, dataloader_aug_train, dataloader_val, loss_fn, optimizer, 3, device, \"checkpoints_finetuned\"\n",
        ")"
      ]
    },
    {
      "cell_type": "markdown",
      "metadata": {
        "id": "uDsms_9R6QR3"
      },
      "source": [
        "**На втором этапе** выполняем *полную разморозку сети* и осуществляем *обучение всей архитектуры*:"
      ]
    },
    {
      "cell_type": "code",
      "execution_count": null,
      "metadata": {
        "id": "58OvJh0I6QR3"
      },
      "outputs": [],
      "source": [
        "for p in cnn_finetuned.parameters():\n",
        "    p.requires_grad_(True)\n",
        "\n",
        "\n",
        "optimizer = config[\"optimizer\"](\n",
        "    cnn_finetuned.parameters(), lr=config[\"learning_rate\"], weight_decay=config[\"weight_decay\"]\n",
        ")"
      ]
    },
    {
      "cell_type": "code",
      "execution_count": null,
      "metadata": {
        "colab": {
          "base_uri": "https://localhost:8080/"
        },
        "id": "6w-dbVG16QR3",
        "outputId": "73197f53-d117-4704-b029-48ea209a0b9d"
      },
      "outputs": [],
      "source": [
        "train_losses_finetuned, val_losses_finetuned, best_val_loss_finetuned, cnn_finetuned = run_experiment(\n",
        "    cnn_finetuned,\n",
        "    dataloader_aug_train,\n",
        "    dataloader_val,\n",
        "    loss_fn,\n",
        "    optimizer,\n",
        "    config[\"num_epochs\"],\n",
        "    device,\n",
        "    \"checkpoints_finetuned\",\n",
        "    start_epoch=3,\n",
        ")"
      ]
    },
    {
      "cell_type": "code",
      "execution_count": null,
      "metadata": {
        "colab": {
          "base_uri": "https://localhost:8080/",
          "height": 486
        },
        "id": "LRbF4P1l6QR3",
        "outputId": "3a582a06-5132-4c83-e525-9e6da63fd3bc"
      },
      "outputs": [],
      "source": [
        "plot_losses(train_losses_finetuned, val_losses_finetuned, title=\"cnn_finetuned\")"
      ]
    },
    {
      "cell_type": "code",
      "execution_count": null,
      "metadata": {
        "colab": {
          "base_uri": "https://localhost:8080/"
        },
        "id": "tyX4T1BZ6QR3",
        "outputId": "0e8ea3f7-4a65-4a88-c9f3-d68bcbc66935"
      },
      "outputs": [],
      "source": [
        "train_labels, train_probs, train_preds = collect_predictions(cnn_finetuned, dataloader_aug_train, device)\n",
        "\n",
        "accuracy_train = accuracy_score(train_labels, train_preds)\n",
        "accuracy_train"
      ]
    },
    {
      "cell_type": "code",
      "execution_count": null,
      "metadata": {
        "colab": {
          "base_uri": "https://localhost:8080/"
        },
        "id": "8dICj8mm6QR3",
        "outputId": "8c85d0a0-a08b-4126-9413-55674ea9fb99"
      },
      "outputs": [],
      "source": [
        "val_labels, val_probs, val_preds = collect_predictions(cnn_finetuned, dataloader_val, device)\n",
        "\n",
        "accuracy_val = accuracy_score(val_labels, val_preds)\n",
        "accuracy_val"
      ]
    },
    {
      "cell_type": "code",
      "execution_count": null,
      "metadata": {
        "colab": {
          "base_uri": "https://localhost:8080/",
          "height": 314
        },
        "id": "MLDcV9astVXw",
        "outputId": "225b258b-6f71-4a6b-8696-a804e1ec36c6"
      },
      "outputs": [],
      "source": [
        "wandb.finish()"
      ]
    },
    {
      "cell_type": "markdown",
      "metadata": {
        "id": "3HP3351j6QR3"
      },
      "source": [
        "## 4. Стратегии планирования скорости обучения"
      ]
    },
    {
      "cell_type": "markdown",
      "metadata": {
        "id": "liKkJVmX6QR3"
      },
      "source": [
        "**Завершающий аспект** нашего рассмотрения - *управление скоростью обучения* (Learning Rate).\n",
        "\n",
        "Как следует из материалов лекций, *динамическое изменение скорости обучения* в процессе тренировки (включая использование адаптивных методов оптимизации) способствует достижению **более высокого качества модели**.\n",
        "\n",
        "# ![Сравнение стратегий изменения скорости обучения](https://i.stack.imgur.com/UHYMw.png)\n",
        "\n",
        "Фреймворк `PyTorch` предоставляет *комплексный инструментарий* для реализации различных стратегий *управление скоростью обучения* (learning rate)."
      ]
    },
    {
      "cell_type": "markdown",
      "metadata": {
        "id": "mqmsbATu6QR3"
      },
      "source": [
        "### 4.1. Адаптивное изменение скорости обучения на основе метрик (ReduceLROnPlateau)"
      ]
    },
    {
      "cell_type": "markdown",
      "metadata": {
        "id": "3oezzO5P6QR3"
      },
      "source": [
        "**Метод адаптивного управления** скорость обучения (learning rate) основывается на *мониторинге изменений целевых показателей*.\n",
        "\n",
        "Например, при *стагнации функции потерь* на протяжении нескольких эпох, рекомендуется **уменьшение значения скорости обучения (learning rate)**:"
      ]
    },
    {
      "cell_type": "code",
      "execution_count": null,
      "metadata": {
        "id": "DoUmEoce6QR3"
      },
      "outputs": [],
      "source": [
        "from torch.optim.lr_scheduler import ReduceLROnPlateau"
      ]
    },
    {
      "cell_type": "code",
      "execution_count": null,
      "metadata": {
        "id": "si0Elox26QR3"
      },
      "outputs": [],
      "source": [
        "cnn_aug = nn.Sequential(\n",
        "    CNNBlock(3, 32), CNNBlock(32, 64), CNNBlock(64, 128), nn.AdaptiveAvgPool2d((1, 1)), nn.Flatten(), nn.Linear(128, 10)\n",
        ")"
      ]
    },
    {
      "cell_type": "code",
      "execution_count": null,
      "metadata": {
        "colab": {
          "base_uri": "https://localhost:8080/"
        },
        "id": "-brNp8Zw6QR3",
        "outputId": "98edca21-270f-4d9b-ef5b-3f6fa7a9b36e"
      },
      "outputs": [],
      "source": [
        "loss_fn = nn.CrossEntropyLoss()\n",
        "config[\"learning_rate\"] = 1.5\n",
        "\n",
        "optimizer = torch.optim.Adam(cnn_aug.parameters(), lr=config[\"learning_rate\"])\n",
        "\n",
        "scheduler = ReduceLROnPlateau(optimizer, mode=\"min\", factor=0.1, patience=1, verbose=True)"
      ]
    },
    {
      "cell_type": "code",
      "execution_count": null,
      "metadata": {
        "colab": {
          "base_uri": "https://localhost:8080/",
          "height": 127
        },
        "id": "iZ7faOd46QR4",
        "outputId": "8c02c82b-1c7b-4c0a-b3af-6a1497ac84d8"
      },
      "outputs": [],
      "source": [
        "wandb.init(\n",
        "    # set the wandb project where this run will be logged\n",
        "    project=\"seminar-05-cnn-2025\",\n",
        "    name=\"lr_reduce\",\n",
        "    reinit=True,\n",
        "    # track hyperparameters and run metadata\n",
        "    config=config,\n",
        ")"
      ]
    },
    {
      "cell_type": "code",
      "execution_count": null,
      "metadata": {
        "id": "zOqn-8gh6QR4"
      },
      "outputs": [],
      "source": [
        "def run_epoch(stage, model, dataloader, loss_fn, optimizer, epoch, device):\n",
        "    # v NOTE THIS v\n",
        "    if stage == \"train\":\n",
        "        model.train()\n",
        "        torch.set_grad_enabled(True)\n",
        "    else:\n",
        "        torch.set_grad_enabled(False)\n",
        "        model.eval()\n",
        "    # ^ NOTE THIS ^\n",
        "\n",
        "    model = model.to(device)\n",
        "    num_steps = len(dataloader)\n",
        "    losses = []\n",
        "    for i, batch in enumerate(tqdm.tqdm(dataloader, total=len(dataloader), desc=f\"epoch: {str(epoch).zfill(3)} | {stage:5}\")):\n",
        "        xs, ys_true = batch\n",
        "\n",
        "        ys_pred = model(xs.to(device))\n",
        "        loss = loss_fn(ys_pred, ys_true.to(device))\n",
        "\n",
        "        if stage == \"train\":\n",
        "            optimizer.zero_grad()\n",
        "            loss.backward()\n",
        "            optimizer.step()\n",
        "            # логгируем номер шага при обучении\n",
        "            wandb.log({\n",
        "                \"training_step\": i + num_steps * epoch,\n",
        "                \"lr\": optimizer.param_groups[0][\"lr\"],\n",
        "                \"loss\": loss,\n",
        "            })\n",
        "\n",
        "        losses.append(loss.detach().cpu().item())\n",
        "\n",
        "    if stage != \"train\":\n",
        "        scheduler.step(np.mean(losses))\n",
        "\n",
        "    return np.mean(losses)"
      ]
    },
    {
      "cell_type": "code",
      "execution_count": null,
      "metadata": {
        "colab": {
          "base_uri": "https://localhost:8080/"
        },
        "id": "Unxc757Y6QR4",
        "outputId": "2caed556-7630-41e6-bf58-7339f7a98b34"
      },
      "outputs": [],
      "source": [
        "train_losses_aug, val_losses_aug, best_val_loss_aug, cnn_aug = run_experiment(\n",
        "    cnn_aug, dataloader_aug_train, dataloader_val, loss_fn, optimizer, config[\"num_epochs\"], device, \"checkpoints_aug\"\n",
        ")"
      ]
    },
    {
      "cell_type": "code",
      "execution_count": null,
      "metadata": {
        "colab": {
          "base_uri": "https://localhost:8080/",
          "height": 314
        },
        "id": "2Of8f1uzrFsJ",
        "outputId": "ec8df1bb-1c8d-4ec9-e17f-d90134480732"
      },
      "outputs": [],
      "source": [
        "wandb.finish()"
      ]
    },
    {
      "cell_type": "markdown",
      "metadata": {
        "id": "tM94uR6d6QR4"
      },
      "source": [
        "### 4.2. Поэтапное изменение скорости обучения на каждой эпохе (StepLR)"
      ]
    },
    {
      "cell_type": "code",
      "execution_count": null,
      "metadata": {
        "id": "sBkGlZqu6QR4"
      },
      "outputs": [],
      "source": [
        "from torch.optim.lr_scheduler import StepLR"
      ]
    },
    {
      "cell_type": "code",
      "execution_count": null,
      "metadata": {
        "id": "GZ6CrT676QR4"
      },
      "outputs": [],
      "source": [
        "cnn_aug = nn.Sequential(\n",
        "    CNNBlock(3, 32), CNNBlock(32, 64), CNNBlock(64, 128), nn.AdaptiveAvgPool2d((1, 1)), nn.Flatten(), nn.Linear(128, 10)\n",
        ")"
      ]
    },
    {
      "cell_type": "code",
      "execution_count": null,
      "metadata": {
        "colab": {
          "base_uri": "https://localhost:8080/"
        },
        "id": "GAcyX2XK6QR4",
        "outputId": "e5488852-f475-4c46-852e-6c974a238cc6"
      },
      "outputs": [],
      "source": [
        "loss_fn = nn.CrossEntropyLoss()\n",
        "config[\"learning_rate\"] = 3e-4\n",
        "config[\"num_epochs\"] = 5\n",
        "\n",
        "optimizer = torch.optim.Adam(cnn_aug.parameters(), lr=config[\"learning_rate\"])\n",
        "\n",
        "scheduler = StepLR(optimizer, step_size=1, gamma=0.1, verbose=True)"
      ]
    },
    {
      "cell_type": "code",
      "execution_count": null,
      "metadata": {
        "colab": {
          "base_uri": "https://localhost:8080/",
          "height": 127
        },
        "id": "Tb0IFvoz6QR4",
        "outputId": "3717299f-df9a-4aa7-b0c7-63ece9bfafa0"
      },
      "outputs": [],
      "source": [
        "wandb.init(\n",
        "    # set the wandb project where this run will be logged\n",
        "    project=\"seminar-05-cnn-2025\",\n",
        "    name=\"lr_step\",\n",
        "    reinit=True,\n",
        "    # track hyperparameters and run metadata\n",
        "    config=config,\n",
        ")"
      ]
    },
    {
      "cell_type": "code",
      "execution_count": null,
      "metadata": {
        "id": "bfIKfoYdrCLP"
      },
      "outputs": [],
      "source": [
        "def run_epoch(stage, model, dataloader, loss_fn, optimizer, epoch, device):\n",
        "    # v NOTE THIS v\n",
        "    if stage == \"train\":\n",
        "        model.train()\n",
        "        torch.set_grad_enabled(True)\n",
        "    else:\n",
        "        torch.set_grad_enabled(False)\n",
        "        model.eval()\n",
        "    # ^ NOTE THIS ^\n",
        "\n",
        "    model = model.to(device)\n",
        "    num_steps = len(dataloader)\n",
        "    losses = []\n",
        "    for i, batch in enumerate(tqdm.tqdm(dataloader, total=len(dataloader), desc=f\"epoch: {str(epoch).zfill(3)} | {stage:5}\")):\n",
        "        xs, ys_true = batch\n",
        "\n",
        "        ys_pred = model(xs.to(device))\n",
        "        loss = loss_fn(ys_pred, ys_true.to(device))\n",
        "\n",
        "        if stage == \"train\":\n",
        "            optimizer.zero_grad()\n",
        "            loss.backward()\n",
        "            optimizer.step()\n",
        "            # логгируем номер шага при обучении\n",
        "            wandb.log({\n",
        "                \"training_step\": i + num_steps * epoch,\n",
        "                \"lr\": optimizer.param_groups[0][\"lr\"],\n",
        "                \"loss\": loss,\n",
        "            })\n",
        "\n",
        "        losses.append(loss.detach().cpu().item())\n",
        "\n",
        "    if stage != \"train\":\n",
        "        scheduler.step()\n",
        "\n",
        "    return np.mean(losses)"
      ]
    },
    {
      "cell_type": "code",
      "execution_count": null,
      "metadata": {
        "colab": {
          "base_uri": "https://localhost:8080/"
        },
        "id": "Z8LcWAHS6QR4",
        "outputId": "0ca62bd8-9e53-4794-b270-cfee7274956e"
      },
      "outputs": [],
      "source": [
        "train_losses_aug, val_losses_aug, best_val_loss_aug, cnn_aug = run_experiment(\n",
        "    cnn_aug, dataloader_aug_train, dataloader_val, loss_fn, optimizer, config[\"num_epochs\"], device, \"checkpoints_aug\"\n",
        ")"
      ]
    },
    {
      "cell_type": "code",
      "execution_count": null,
      "metadata": {
        "colab": {
          "base_uri": "https://localhost:8080/",
          "height": 314
        },
        "id": "tTQexipdK9e-",
        "outputId": "f8daba88-f56d-4856-92c1-8293c267fb53"
      },
      "outputs": [],
      "source": [
        "wandb.finish()"
      ]
    },
    {
      "cell_type": "markdown",
      "metadata": {
        "id": "3ka3JZED6QR4"
      },
      "source": [
        "### 4.3. Пошаговое изменение скорости обучения на каждой итерации (CosineAnnealingLR)"
      ]
    },
    {
      "cell_type": "markdown",
      "metadata": {
        "id": "n6JfGhjV6QR4"
      },
      "source": [
        "**Арсенал методов** регулировки скорости обучения включает подходы, основанные на *аналитических зависимостях*. \n",
        "\n",
        "Примером такой стратегии является алгоритм **[CosineAnnealing](https://paperswithcode.com/method/cosine-annealing)**, использующий косинусоидальную функцию для плавного изменения learning rate."
      ]
    },
    {
      "cell_type": "code",
      "execution_count": null,
      "metadata": {
        "id": "JcS-x0qg6QR4"
      },
      "outputs": [],
      "source": [
        "from torch.optim.lr_scheduler import CosineAnnealingLR"
      ]
    },
    {
      "cell_type": "code",
      "execution_count": null,
      "metadata": {
        "id": "bonB4vWk6QR4"
      },
      "outputs": [],
      "source": [
        "cnn_aug = nn.Sequential(\n",
        "    CNNBlock(3, 32), CNNBlock(32, 64), CNNBlock(64, 128), nn.AdaptiveAvgPool2d((1, 1)), nn.Flatten(), nn.Linear(128, 10)\n",
        ")"
      ]
    },
    {
      "cell_type": "code",
      "execution_count": null,
      "metadata": {
        "id": "xQJ8WMsp6QR4"
      },
      "outputs": [],
      "source": [
        "loss_fn = nn.CrossEntropyLoss()\n",
        "config[\"learning_rate\"] = 3e-4\n",
        "config[\"num_epochs\"] = 5\n",
        "\n",
        "optimizer = torch.optim.Adam(cnn_aug.parameters(), lr=config[\"learning_rate\"])\n",
        "\n",
        "scheduler = CosineAnnealingLR(optimizer, T_max=int(len(dataloader_aug_train)) * config[\"num_epochs\"])"
      ]
    },
    {
      "cell_type": "code",
      "execution_count": null,
      "metadata": {
        "colab": {
          "base_uri": "https://localhost:8080/",
          "height": 127
        },
        "id": "cJONtJFC6QR4",
        "outputId": "37a977b1-ecd3-4d9e-82db-6f153fd689a3"
      },
      "outputs": [],
      "source": [
        "wandb.init(\n",
        "    # set the wandb project where this run will be logged\n",
        "    project=\"seminar-05-cnn-2025\",\n",
        "    name=\"lr_cosine\",\n",
        "    reinit=True,\n",
        "    # track hyperparameters and run metadata\n",
        "    config=config,\n",
        ")"
      ]
    },
    {
      "cell_type": "code",
      "execution_count": null,
      "metadata": {
        "id": "DVvSQEBP6QR5"
      },
      "outputs": [],
      "source": [
        "def run_epoch(stage, model, dataloader, loss_fn, optimizer, epoch, device):\n",
        "    # v NOTE THIS v\n",
        "    if stage == \"train\":\n",
        "        model.train()\n",
        "        torch.set_grad_enabled(True)\n",
        "    else:\n",
        "        torch.set_grad_enabled(False)\n",
        "        model.eval()\n",
        "    # ^ NOTE THIS ^\n",
        "\n",
        "    model = model.to(device)\n",
        "    num_steps = len(dataloader)\n",
        "    losses = []\n",
        "    for i, batch in enumerate(tqdm.tqdm(dataloader, total=len(dataloader), desc=f\"epoch: {str(epoch).zfill(3)} | {stage:5}\")):\n",
        "        xs, ys_true = batch\n",
        "\n",
        "        ys_pred = model(xs.to(device))\n",
        "        loss = loss_fn(ys_pred, ys_true.to(device))\n",
        "\n",
        "        if stage == \"train\":\n",
        "            optimizer.zero_grad()\n",
        "            loss.backward()\n",
        "            optimizer.step()\n",
        "            # логгируем номер шага при обучении\n",
        "            wandb.log({\n",
        "                \"training_step\": i + num_steps * epoch,\n",
        "                \"lr\": optimizer.param_groups[0][\"lr\"],\n",
        "                \"loss\": loss,\n",
        "            })\n",
        "            # вызываем после каждого шага оптимизации\n",
        "            scheduler.step()\n",
        "\n",
        "        losses.append(loss.detach().cpu().item())\n",
        "\n",
        "    return np.mean(losses)"
      ]
    },
    {
      "cell_type": "code",
      "execution_count": null,
      "metadata": {
        "colab": {
          "base_uri": "https://localhost:8080/"
        },
        "id": "fYQ3WCeA6QR5",
        "outputId": "cf25449b-7362-473b-bbca-fb0f8f4c0905"
      },
      "outputs": [],
      "source": [
        "train_losses_aug, val_losses_aug, best_val_loss_aug, cnn_aug = run_experiment(\n",
        "    cnn_aug, dataloader_aug_train, dataloader_val, loss_fn, optimizer, config[\"num_epochs\"], device, \"checkpoints_aug\"\n",
        ")"
      ]
    },
    {
      "cell_type": "code",
      "execution_count": null,
      "metadata": {
        "colab": {
          "base_uri": "https://localhost:8080/",
          "height": 314
        },
        "id": "IK74qOXeY4jc",
        "outputId": "fbf5d873-f1e5-473c-8995-254088238b98"
      },
      "outputs": [],
      "source": [
        "wandb.finish()"
      ]
    },
    {
      "cell_type": "markdown",
      "metadata": {
        "id": "tLj5uFO66QR5"
      },
      "source": [
        "## Итоги занятия"
      ]
    },
    {
      "cell_type": "markdown",
      "metadata": {
        "id": "Sqdz_WLg6QR5"
      },
      "source": [
        "В рамках данного семинара были рассмотрены следующие ключевые аспекты:\n",
        "\n",
        "* **Применение аугментаций данных** для улучшения обобщающей способности моделей\n",
        "* **Методы использования предобученных моделей** и стратегии их адаптации к целевым задачам\n",
        "* **Реализация различных стратегий изменения скорости обучения** с использованием инструментария PyTorch\n",
        "\n",
        "**Рекомендуемая литература** для углубленного изучения:\n",
        "* [A Recipe for Training Neural Networks](https://karpathy.github.io/2019/04/25/recipe/) - Andrej Karpathy (фундаментальное руководство по обучению нейронных сетей)\n",
        "* [Bag of Tricks for Image Classification with Convolutional Neural Networks](https://arxiv.org/pdf/1812.01187v2.pdf) - обзор практических методов улучшения качества классификации изображений\n",
        "* [Google's Tuning Playbook](https://github.com/google-research/tuning_playbook) - методическое руководство по планированию и проведению экспериментов\n",
        "\n",
        "В рамках предстоящего соревнования по классификации изображений на Kaggle у вас будет возможность **применить на практике** полученные знания и освоить дополнительные методы в процессе решения реальной задачи."
      ]
    }
  ],
  "metadata": {
    "accelerator": "GPU",
    "colab": {
      "gpuType": "T4",
      "provenance": []
    },
    "kernelspec": {
      "display_name": "ML3",
      "language": "python",
      "name": "python3"
    },
    "language_info": {
      "codemirror_mode": {
        "name": "ipython",
        "version": 3
      },
      "file_extension": ".py",
      "mimetype": "text/x-python",
      "name": "python",
      "nbconvert_exporter": "python",
      "pygments_lexer": "ipython3",
      "version": "3.9.23"
    },
    "widgets": {
      "application/vnd.jupyter.widget-state+json": {
        "03a388b48e654ff290b8feb68db4d485": {
          "model_module": "@jupyter-widgets/controls",
          "model_module_version": "1.5.0",
          "model_name": "FloatProgressModel",
          "state": {
            "_dom_classes": [],
            "_model_module": "@jupyter-widgets/controls",
            "_model_module_version": "1.5.0",
            "_model_name": "FloatProgressModel",
            "_view_count": null,
            "_view_module": "@jupyter-widgets/controls",
            "_view_module_version": "1.5.0",
            "_view_name": "ProgressView",
            "bar_style": "",
            "description": "",
            "description_tooltip": null,
            "layout": "IPY_MODEL_b56a063b412c4c97812da3f8e69a21ef",
            "max": 1,
            "min": 0,
            "orientation": "horizontal",
            "style": "IPY_MODEL_76238b4216d74cf89c3664a4ad385dbc",
            "value": 1
          }
        },
        "1e4fa81256194053a2b5c737aa61217c": {
          "model_module": "@jupyter-widgets/controls",
          "model_module_version": "1.5.0",
          "model_name": "DescriptionStyleModel",
          "state": {
            "_model_module": "@jupyter-widgets/controls",
            "_model_module_version": "1.5.0",
            "_model_name": "DescriptionStyleModel",
            "_view_count": null,
            "_view_module": "@jupyter-widgets/base",
            "_view_module_version": "1.2.0",
            "_view_name": "StyleView",
            "description_width": ""
          }
        },
        "5d4a452596294fca902262239384aed4": {
          "model_module": "@jupyter-widgets/base",
          "model_module_version": "1.2.0",
          "model_name": "LayoutModel",
          "state": {
            "_model_module": "@jupyter-widgets/base",
            "_model_module_version": "1.2.0",
            "_model_name": "LayoutModel",
            "_view_count": null,
            "_view_module": "@jupyter-widgets/base",
            "_view_module_version": "1.2.0",
            "_view_name": "LayoutView",
            "align_content": null,
            "align_items": null,
            "align_self": null,
            "border": null,
            "bottom": null,
            "display": null,
            "flex": null,
            "flex_flow": null,
            "grid_area": null,
            "grid_auto_columns": null,
            "grid_auto_flow": null,
            "grid_auto_rows": null,
            "grid_column": null,
            "grid_gap": null,
            "grid_row": null,
            "grid_template_areas": null,
            "grid_template_columns": null,
            "grid_template_rows": null,
            "height": null,
            "justify_content": null,
            "justify_items": null,
            "left": null,
            "margin": null,
            "max_height": null,
            "max_width": null,
            "min_height": null,
            "min_width": null,
            "object_fit": null,
            "object_position": null,
            "order": null,
            "overflow": null,
            "overflow_x": null,
            "overflow_y": null,
            "padding": null,
            "right": null,
            "top": null,
            "visibility": null,
            "width": null
          }
        },
        "76238b4216d74cf89c3664a4ad385dbc": {
          "model_module": "@jupyter-widgets/controls",
          "model_module_version": "1.5.0",
          "model_name": "ProgressStyleModel",
          "state": {
            "_model_module": "@jupyter-widgets/controls",
            "_model_module_version": "1.5.0",
            "_model_name": "ProgressStyleModel",
            "_view_count": null,
            "_view_module": "@jupyter-widgets/base",
            "_view_module_version": "1.2.0",
            "_view_name": "StyleView",
            "bar_color": null,
            "description_width": ""
          }
        },
        "8477f7d81cbf4b37911e7f3bbe3fe374": {
          "model_module": "@jupyter-widgets/controls",
          "model_module_version": "1.5.0",
          "model_name": "LabelModel",
          "state": {
            "_dom_classes": [],
            "_model_module": "@jupyter-widgets/controls",
            "_model_module_version": "1.5.0",
            "_model_name": "LabelModel",
            "_view_count": null,
            "_view_module": "@jupyter-widgets/controls",
            "_view_module_version": "1.5.0",
            "_view_name": "LabelView",
            "description": "",
            "description_tooltip": null,
            "layout": "IPY_MODEL_5d4a452596294fca902262239384aed4",
            "placeholder": "​",
            "style": "IPY_MODEL_1e4fa81256194053a2b5c737aa61217c",
            "value": "0.015 MB of 0.015 MB uploaded\r"
          }
        },
        "a549802a1afe4450a879852b8f342912": {
          "model_module": "@jupyter-widgets/controls",
          "model_module_version": "1.5.0",
          "model_name": "VBoxModel",
          "state": {
            "_dom_classes": [],
            "_model_module": "@jupyter-widgets/controls",
            "_model_module_version": "1.5.0",
            "_model_name": "VBoxModel",
            "_view_count": null,
            "_view_module": "@jupyter-widgets/controls",
            "_view_module_version": "1.5.0",
            "_view_name": "VBoxView",
            "box_style": "",
            "children": [
              "IPY_MODEL_8477f7d81cbf4b37911e7f3bbe3fe374",
              "IPY_MODEL_03a388b48e654ff290b8feb68db4d485"
            ],
            "layout": "IPY_MODEL_d63424fbadd045849c7b560237c3478d"
          }
        },
        "b56a063b412c4c97812da3f8e69a21ef": {
          "model_module": "@jupyter-widgets/base",
          "model_module_version": "1.2.0",
          "model_name": "LayoutModel",
          "state": {
            "_model_module": "@jupyter-widgets/base",
            "_model_module_version": "1.2.0",
            "_model_name": "LayoutModel",
            "_view_count": null,
            "_view_module": "@jupyter-widgets/base",
            "_view_module_version": "1.2.0",
            "_view_name": "LayoutView",
            "align_content": null,
            "align_items": null,
            "align_self": null,
            "border": null,
            "bottom": null,
            "display": null,
            "flex": null,
            "flex_flow": null,
            "grid_area": null,
            "grid_auto_columns": null,
            "grid_auto_flow": null,
            "grid_auto_rows": null,
            "grid_column": null,
            "grid_gap": null,
            "grid_row": null,
            "grid_template_areas": null,
            "grid_template_columns": null,
            "grid_template_rows": null,
            "height": null,
            "justify_content": null,
            "justify_items": null,
            "left": null,
            "margin": null,
            "max_height": null,
            "max_width": null,
            "min_height": null,
            "min_width": null,
            "object_fit": null,
            "object_position": null,
            "order": null,
            "overflow": null,
            "overflow_x": null,
            "overflow_y": null,
            "padding": null,
            "right": null,
            "top": null,
            "visibility": null,
            "width": null
          }
        },
        "d63424fbadd045849c7b560237c3478d": {
          "model_module": "@jupyter-widgets/base",
          "model_module_version": "1.2.0",
          "model_name": "LayoutModel",
          "state": {
            "_model_module": "@jupyter-widgets/base",
            "_model_module_version": "1.2.0",
            "_model_name": "LayoutModel",
            "_view_count": null,
            "_view_module": "@jupyter-widgets/base",
            "_view_module_version": "1.2.0",
            "_view_name": "LayoutView",
            "align_content": null,
            "align_items": null,
            "align_self": null,
            "border": null,
            "bottom": null,
            "display": null,
            "flex": null,
            "flex_flow": null,
            "grid_area": null,
            "grid_auto_columns": null,
            "grid_auto_flow": null,
            "grid_auto_rows": null,
            "grid_column": null,
            "grid_gap": null,
            "grid_row": null,
            "grid_template_areas": null,
            "grid_template_columns": null,
            "grid_template_rows": null,
            "height": null,
            "justify_content": null,
            "justify_items": null,
            "left": null,
            "margin": null,
            "max_height": null,
            "max_width": null,
            "min_height": null,
            "min_width": null,
            "object_fit": null,
            "object_position": null,
            "order": null,
            "overflow": null,
            "overflow_x": null,
            "overflow_y": null,
            "padding": null,
            "right": null,
            "top": null,
            "visibility": null,
            "width": null
          }
        }
      }
    }
  },
  "nbformat": 4,
  "nbformat_minor": 0
}
