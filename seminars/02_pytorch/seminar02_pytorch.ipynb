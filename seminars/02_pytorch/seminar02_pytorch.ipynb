{
 "cells": [
  {
   "cell_type": "markdown",
   "metadata": {
    "id": "TDm6dCbbPfGy"
   },
   "source": [
    "# 02. Библиотека PyTorch"
   ]
  },
  {
   "cell_type": "markdown",
   "metadata": {
    "id": "MlRU0ZTkPs7_"
   },
   "source": [
    "## План\n",
    "1. `numpy` -> `pytorch`\n",
    "2. Автоматическое дифференцирование (`torch.autograd`)\n",
    "3. Пример: задача регрессии\n",
    "4. Переопределение `backward()`\n"
   ]
  },
  {
   "cell_type": "markdown",
   "metadata": {},
   "source": [
    "[PyTorch](https://pytorch.org) - это фреймворк для машинного обучения:\n",
    "* В первую очередь - для нейросетевых моделей\n",
    "* Большие возможности для работы с тензорами\n",
    "* Поддержка выполнения на CPU / GPU / TPU ([!](https://github.com/pytorch/xla))\n",
    "* Автоматическое дифференцирование вычислительных графов (`torch.autograd`)\n",
    "* Широкий набор строительных блоков для DL-моделей (`torch.nn`) и готовых архитектур (`torchvision.models`+)\n",
    "* Удобная поддержка реализации своих операций / слоев / функций потерь / ..."
   ]
  },
  {
   "cell_type": "raw",
   "metadata": {},
   "source": [
    "!pip install torch  \n",
    "# or goto https://pytorch.org/get-started/locally/"
   ]
  },
  {
   "cell_type": "code",
   "execution_count": 1,
   "metadata": {},
   "outputs": [],
   "source": [
    "import matplotlib.pyplot as plt\n",
    "import numpy             as np\n",
    "\n",
    "import torch\n",
    "import time\n",
    "import tqdm"
   ]
  },
  {
   "cell_type": "markdown",
   "metadata": {
    "tags": []
   },
   "source": [
    "## 1. `numpy` <-> `pytorch`"
   ]
  },
  {
   "cell_type": "markdown",
   "metadata": {
    "tags": [],
    "toc-hr-collapsed": true
   },
   "source": [
    "### 1.1. Работа с тензорами"
   ]
  },
  {
   "cell_type": "markdown",
   "metadata": {},
   "source": [
    "~Все, что можно делать с многомерными массивами в `numpy`, можно делать и в `pytorch`:\n",
    "* `np.ndarray` -> `torch.Tensor`\n",
    "    * [broadcasting](https://numpy.org/doc/stable/user/basics.broadcasting.html)\n",
    "* `np.zeros()` -> `torch.zeros()`\n",
    "* `np.stack()` -> `torch.stack()`\n",
    "* `np.concatenate` -> `torch.cat()` \n",
    "* `np.random.normal()` -> `torch.randn()`\n",
    "* ..."
   ]
  },
  {
   "cell_type": "markdown",
   "metadata": {},
   "source": [
    "#### `np.ndarray` <-> `torch.Tensor`"
   ]
  },
  {
   "cell_type": "code",
   "execution_count": 2,
   "metadata": {},
   "outputs": [
    {
     "data": {
      "text/plain": [
       "(3, 3)"
      ]
     },
     "execution_count": 2,
     "metadata": {},
     "output_type": "execute_result"
    }
   ],
   "source": [
    "data_np = np.random.uniform(size=(3, 3))\n",
    "data_np.shape"
   ]
  },
  {
   "cell_type": "code",
   "execution_count": 3,
   "metadata": {},
   "outputs": [
    {
     "data": {
      "text/plain": [
       "array([[0.32133202, 0.17759284, 0.10234686],\n",
       "       [0.22009367, 0.15718472, 0.21304307],\n",
       "       [0.12844578, 0.82052769, 0.47165544]])"
      ]
     },
     "execution_count": 3,
     "metadata": {},
     "output_type": "execute_result"
    }
   ],
   "source": [
    "data_np"
   ]
  },
  {
   "cell_type": "markdown",
   "metadata": {},
   "source": [
    "Создание тензора из данных в форме `numpy.ndarray` через [`torch.from_numpy()`](https://pytorch.org/docs/stable/generated/torch.from_numpy.html):"
   ]
  },
  {
   "cell_type": "code",
   "execution_count": 4,
   "metadata": {},
   "outputs": [
    {
     "data": {
      "text/plain": [
       "torch.Size([3, 3])"
      ]
     },
     "execution_count": 4,
     "metadata": {},
     "output_type": "execute_result"
    }
   ],
   "source": [
    "data_pt = torch.from_numpy(data_np)\n",
    "data_pt.shape"
   ]
  },
  {
   "cell_type": "code",
   "execution_count": 5,
   "metadata": {},
   "outputs": [
    {
     "data": {
      "text/plain": [
       "array([[ True,  True,  True],\n",
       "       [ True,  True,  True],\n",
       "       [ True,  True,  True]])"
      ]
     },
     "execution_count": 5,
     "metadata": {},
     "output_type": "execute_result"
    }
   ],
   "source": [
    "data_np == data_pt.numpy()  # <- get data from Tensor as numpy array"
   ]
  },
  {
   "cell_type": "code",
   "execution_count": 6,
   "metadata": {},
   "outputs": [
    {
     "data": {
      "text/plain": [
       "dtype('float64')"
      ]
     },
     "execution_count": 6,
     "metadata": {},
     "output_type": "execute_result"
    }
   ],
   "source": [
    "data_np.dtype"
   ]
  },
  {
   "cell_type": "code",
   "execution_count": 7,
   "metadata": {},
   "outputs": [
    {
     "data": {
      "text/plain": [
       "torch.float64"
      ]
     },
     "execution_count": 7,
     "metadata": {},
     "output_type": "execute_result"
    }
   ],
   "source": [
    "data_pt.dtype"
   ]
  },
  {
   "cell_type": "markdown",
   "metadata": {},
   "source": [
    "Важно: при создании тензора через `torch.from_numpy()` данные шарятся между объектами:"
   ]
  },
  {
   "cell_type": "code",
   "execution_count": 8,
   "metadata": {},
   "outputs": [
    {
     "data": {
      "text/plain": [
       "tensor([[-999.6787, -999.8224, -999.8977],\n",
       "        [-999.7799, -999.8428, -999.7870],\n",
       "        [-999.8716, -999.1795, -999.5283]], dtype=torch.float64)"
      ]
     },
     "execution_count": 8,
     "metadata": {},
     "output_type": "execute_result"
    }
   ],
   "source": [
    "t = data_pt.numpy() \n",
    "t -= 1000\n",
    "data_pt"
   ]
  },
  {
   "cell_type": "code",
   "execution_count": 9,
   "metadata": {},
   "outputs": [
    {
     "data": {
      "text/plain": [
       "array([[-999.67866798, -999.82240716, -999.89765314],\n",
       "       [-999.77990633, -999.84281528, -999.78695693],\n",
       "       [-999.87155422, -999.17947231, -999.52834456]])"
      ]
     },
     "execution_count": 9,
     "metadata": {},
     "output_type": "execute_result"
    }
   ],
   "source": [
    "data_np"
   ]
  },
  {
   "cell_type": "markdown",
   "metadata": {},
   "source": [
    "Создание тензора через конструктор `torch.tensor()`:"
   ]
  },
  {
   "cell_type": "code",
   "execution_count": 10,
   "metadata": {},
   "outputs": [
    {
     "data": {
      "text/plain": [
       "(3, 3)"
      ]
     },
     "execution_count": 10,
     "metadata": {},
     "output_type": "execute_result"
    }
   ],
   "source": [
    "data_np = np.random.uniform(size=(3, 3))\n",
    "data_np.shape"
   ]
  },
  {
   "cell_type": "code",
   "execution_count": 11,
   "metadata": {},
   "outputs": [
    {
     "data": {
      "text/plain": [
       "torch.Size([3, 3])"
      ]
     },
     "execution_count": 11,
     "metadata": {},
     "output_type": "execute_result"
    }
   ],
   "source": [
    "data_pt = torch.tensor(data_np)\n",
    "data_pt.shape"
   ]
  },
  {
   "cell_type": "code",
   "execution_count": 12,
   "metadata": {},
   "outputs": [
    {
     "data": {
      "text/plain": [
       "array([[ True,  True,  True],\n",
       "       [ True,  True,  True],\n",
       "       [ True,  True,  True]])"
      ]
     },
     "execution_count": 12,
     "metadata": {},
     "output_type": "execute_result"
    }
   ],
   "source": [
    "data_np == data_pt.numpy()"
   ]
  },
  {
   "cell_type": "markdown",
   "metadata": {},
   "source": [
    "При создании тензора через `torch.tensor()` данные копируются:"
   ]
  },
  {
   "cell_type": "code",
   "execution_count": 13,
   "metadata": {},
   "outputs": [
    {
     "data": {
      "text/plain": [
       "tensor([[-999.4248, -999.4409, -999.5938],\n",
       "        [-999.0535, -999.5569, -999.6539],\n",
       "        [-999.0826, -999.3112, -999.9473]], dtype=torch.float64)"
      ]
     },
     "execution_count": 13,
     "metadata": {},
     "output_type": "execute_result"
    }
   ],
   "source": [
    "t = data_pt.numpy()\n",
    "t -= 1000\n",
    "data_pt"
   ]
  },
  {
   "cell_type": "code",
   "execution_count": 14,
   "metadata": {},
   "outputs": [
    {
     "data": {
      "text/plain": [
       "array([[0.57516217, 0.55905217, 0.40620084],\n",
       "       [0.94651405, 0.44310566, 0.34608724],\n",
       "       [0.91740777, 0.68877942, 0.05273644]])"
      ]
     },
     "execution_count": 14,
     "metadata": {},
     "output_type": "execute_result"
    }
   ],
   "source": [
    "data_np"
   ]
  },
  {
   "cell_type": "markdown",
   "metadata": {},
   "source": [
    "**NB**: [`torch.Tensor()`](https://glaringlee.github.io/tensors.html?highlight=torch%20tensor#torch.Tensor) != [`torch.tensor()`](https://glaringlee.github.io/generated/torch.tensor.html?highlight=torch%20tensor#torch.tensor)!"
   ]
  },
  {
   "cell_type": "markdown",
   "metadata": {
    "tags": []
   },
   "source": [
    "#### Типы данных"
   ]
  },
  {
   "cell_type": "code",
   "execution_count": 15,
   "metadata": {},
   "outputs": [
    {
     "data": {
      "text/plain": [
       "dtype('float64')"
      ]
     },
     "execution_count": 15,
     "metadata": {},
     "output_type": "execute_result"
    }
   ],
   "source": [
    "data_np.dtype"
   ]
  },
  {
   "cell_type": "markdown",
   "metadata": {},
   "source": [
    "floats"
   ]
  },
  {
   "cell_type": "code",
   "execution_count": 16,
   "metadata": {},
   "outputs": [
    {
     "data": {
      "text/plain": [
       "torch.float64"
      ]
     },
     "execution_count": 16,
     "metadata": {},
     "output_type": "execute_result"
    }
   ],
   "source": [
    "data_pt = torch.tensor(data_np)\n",
    "data_pt.dtype"
   ]
  },
  {
   "cell_type": "code",
   "execution_count": 17,
   "metadata": {},
   "outputs": [
    {
     "data": {
      "text/plain": [
       "torch.float32"
      ]
     },
     "execution_count": 17,
     "metadata": {},
     "output_type": "execute_result"
    }
   ],
   "source": [
    "data_pt = torch.tensor(data_np, dtype=torch.float)\n",
    "data_pt.dtype"
   ]
  },
  {
   "cell_type": "code",
   "execution_count": 18,
   "metadata": {},
   "outputs": [
    {
     "data": {
      "text/plain": [
       "torch.float16"
      ]
     },
     "execution_count": 18,
     "metadata": {},
     "output_type": "execute_result"
    }
   ],
   "source": [
    "data_pt = torch.tensor(data_np, dtype=torch.float16)\n",
    "data_pt.dtype"
   ]
  },
  {
   "cell_type": "code",
   "execution_count": 19,
   "metadata": {},
   "outputs": [
    {
     "data": {
      "text/plain": [
       "torch.float16"
      ]
     },
     "execution_count": 19,
     "metadata": {},
     "output_type": "execute_result"
    }
   ],
   "source": [
    "data_pt = torch.tensor(data_np, dtype=torch.half)\n",
    "data_pt.dtype"
   ]
  },
  {
   "cell_type": "code",
   "execution_count": 20,
   "metadata": {},
   "outputs": [
    {
     "data": {
      "text/plain": [
       "torch.float64"
      ]
     },
     "execution_count": 20,
     "metadata": {},
     "output_type": "execute_result"
    }
   ],
   "source": [
    "data_pt = torch.tensor(data_np, dtype=torch.double)\n",
    "data_pt.dtype"
   ]
  },
  {
   "cell_type": "markdown",
   "metadata": {},
   "source": [
    "ints"
   ]
  },
  {
   "cell_type": "code",
   "execution_count": 21,
   "metadata": {},
   "outputs": [
    {
     "data": {
      "text/plain": [
       "torch.int32"
      ]
     },
     "execution_count": 21,
     "metadata": {},
     "output_type": "execute_result"
    }
   ],
   "source": [
    "data_pt = torch.tensor(data_np, dtype=torch.int)\n",
    "data_pt.dtype"
   ]
  },
  {
   "cell_type": "code",
   "execution_count": 22,
   "metadata": {},
   "outputs": [
    {
     "data": {
      "text/plain": [
       "torch.int64"
      ]
     },
     "execution_count": 22,
     "metadata": {},
     "output_type": "execute_result"
    }
   ],
   "source": [
    "data_pt = torch.tensor(data_np, dtype=torch.long)\n",
    "data_pt.dtype"
   ]
  },
  {
   "cell_type": "code",
   "execution_count": 23,
   "metadata": {},
   "outputs": [
    {
     "data": {
      "text/plain": [
       "torch.int8"
      ]
     },
     "execution_count": 23,
     "metadata": {},
     "output_type": "execute_result"
    }
   ],
   "source": [
    "data_pt = torch.tensor(data_np, dtype=torch.int8)\n",
    "data_pt.dtype"
   ]
  },
  {
   "cell_type": "markdown",
   "metadata": {},
   "source": [
    "Больше - [тут](https://pytorch.org/docs/stable/tensors.html)."
   ]
  },
  {
   "cell_type": "markdown",
   "metadata": {},
   "source": [
    "Можно и без `numpy`, разумеется:"
   ]
  },
  {
   "cell_type": "code",
   "execution_count": 24,
   "metadata": {},
   "outputs": [
    {
     "data": {
      "text/plain": [
       "tensor(2)"
      ]
     },
     "execution_count": 24,
     "metadata": {},
     "output_type": "execute_result"
    }
   ],
   "source": [
    "torch.tensor(2)"
   ]
  },
  {
   "cell_type": "code",
   "execution_count": 25,
   "metadata": {},
   "outputs": [
    {
     "data": {
      "text/plain": [
       "tensor([1, 2, 3, 4, 5])"
      ]
     },
     "execution_count": 25,
     "metadata": {},
     "output_type": "execute_result"
    }
   ],
   "source": [
    "torch.tensor([1, 2, 3, 4, 5])"
   ]
  },
  {
   "cell_type": "code",
   "execution_count": 26,
   "metadata": {},
   "outputs": [
    {
     "data": {
      "text/plain": [
       "tensor([[0., 1.],\n",
       "        [2., 3.]])"
      ]
     },
     "execution_count": 26,
     "metadata": {},
     "output_type": "execute_result"
    }
   ],
   "source": [
    "torch.tensor([[0., 1], [2, 3]])"
   ]
  },
  {
   "cell_type": "markdown",
   "metadata": {},
   "source": [
    "Если в тензоре один-единственный элемент, извлечь его численное значение можно через `.item()`:"
   ]
  },
  {
   "cell_type": "code",
   "execution_count": 27,
   "metadata": {},
   "outputs": [
    {
     "data": {
      "text/plain": [
       "10"
      ]
     },
     "execution_count": 27,
     "metadata": {},
     "output_type": "execute_result"
    }
   ],
   "source": [
    "x = torch.tensor(10)\n",
    "x.item()"
   ]
  },
  {
   "cell_type": "code",
   "execution_count": 28,
   "metadata": {},
   "outputs": [
    {
     "ename": "RuntimeError",
     "evalue": "a Tensor with 2 elements cannot be converted to Scalar",
     "output_type": "error",
     "traceback": [
      "\u001b[0;31m---------------------------------------------------------------------------\u001b[0m",
      "\u001b[0;31mRuntimeError\u001b[0m                              Traceback (most recent call last)",
      "Cell \u001b[0;32mIn[28], line 2\u001b[0m\n\u001b[1;32m      1\u001b[0m x \u001b[38;5;241m=\u001b[39m torch\u001b[38;5;241m.\u001b[39mtensor([\u001b[38;5;241m10\u001b[39m, \u001b[38;5;241m11\u001b[39m])\n\u001b[0;32m----> 2\u001b[0m \u001b[43mx\u001b[49m\u001b[38;5;241;43m.\u001b[39;49m\u001b[43mitem\u001b[49m\u001b[43m(\u001b[49m\u001b[43m)\u001b[49m\n",
      "\u001b[0;31mRuntimeError\u001b[0m: a Tensor with 2 elements cannot be converted to Scalar"
     ]
    }
   ],
   "source": [
    "x = torch.tensor([10, 11])\n",
    "x.item()"
   ]
  },
  {
   "cell_type": "markdown",
   "metadata": {},
   "source": [
    "**NB**: поведение конструкторов `torch.tensor()` и `torch.Tensor()` - разное:"
   ]
  },
  {
   "cell_type": "code",
   "execution_count": 29,
   "metadata": {},
   "outputs": [
    {
     "data": {
      "text/plain": [
       "tensor([1., 2., 3.])"
      ]
     },
     "execution_count": 29,
     "metadata": {},
     "output_type": "execute_result"
    }
   ],
   "source": [
    "torch.Tensor([1, 2, 3])"
   ]
  },
  {
   "cell_type": "code",
   "execution_count": 30,
   "metadata": {},
   "outputs": [
    {
     "data": {
      "text/plain": [
       "tensor([-1.5548e+11])"
      ]
     },
     "execution_count": 30,
     "metadata": {},
     "output_type": "execute_result"
    }
   ],
   "source": [
    "torch.Tensor(1)"
   ]
  },
  {
   "cell_type": "code",
   "execution_count": 31,
   "metadata": {},
   "outputs": [
    {
     "data": {
      "text/plain": [
       "tensor([1.7761e-26, 0.0000e+00])"
      ]
     },
     "execution_count": 31,
     "metadata": {},
     "output_type": "execute_result"
    }
   ],
   "source": [
    "torch.Tensor(2)"
   ]
  },
  {
   "cell_type": "markdown",
   "metadata": {
    "tags": []
   },
   "source": [
    "#### Broadcasting"
   ]
  },
  {
   "cell_type": "code",
   "execution_count": 32,
   "metadata": {},
   "outputs": [
    {
     "data": {
      "text/plain": [
       "tensor([[0.4326, 0.1749, 0.1324],\n",
       "        [0.2801, 0.9359, 0.1248],\n",
       "        [0.8755, 0.8754, 0.4124]], dtype=torch.float64)"
      ]
     },
     "execution_count": 32,
     "metadata": {},
     "output_type": "execute_result"
    }
   ],
   "source": [
    "data_np = np.random.uniform(size=(3, 3))\n",
    "data_pt = torch.from_numpy(data_np)\n",
    "data_pt"
   ]
  },
  {
   "cell_type": "code",
   "execution_count": 33,
   "metadata": {},
   "outputs": [
    {
     "data": {
      "text/plain": [
       "tensor([[-99.5674, -99.8251, -99.8676],\n",
       "        [-99.7199, -99.0641, -99.8752],\n",
       "        [-99.1245, -99.1246, -99.5876]], dtype=torch.float64)"
      ]
     },
     "execution_count": 33,
     "metadata": {},
     "output_type": "execute_result"
    }
   ],
   "source": [
    "data_pt -= 100\n",
    "data_pt"
   ]
  },
  {
   "cell_type": "markdown",
   "metadata": {},
   "source": [
    "Обратите внимание на особенности broadcasting в \"неочевидных\" случаях (часто лучше перепроверить):"
   ]
  },
  {
   "cell_type": "code",
   "execution_count": 34,
   "metadata": {},
   "outputs": [
    {
     "data": {
      "text/plain": [
       "tensor([[0.6008, 0.0776, 0.3631],\n",
       "        [0.7649, 0.2466, 0.8861],\n",
       "        [0.1253, 0.2529, 0.4161]])"
      ]
     },
     "execution_count": 34,
     "metadata": {},
     "output_type": "execute_result"
    }
   ],
   "source": [
    "data_np = np.random.uniform(size=(3, 3)).astype(np.float32)\n",
    "data_pt = torch.from_numpy(data_np)\n",
    "data_pt"
   ]
  },
  {
   "cell_type": "code",
   "execution_count": 35,
   "metadata": {},
   "outputs": [
    {
     "data": {
      "text/plain": [
       "torch.Size([3])"
      ]
     },
     "execution_count": 35,
     "metadata": {},
     "output_type": "execute_result"
    }
   ],
   "source": [
    "b = torch.Tensor([100, 50, 0])\n",
    "b.shape"
   ]
  },
  {
   "cell_type": "code",
   "execution_count": 36,
   "metadata": {},
   "outputs": [
    {
     "data": {
      "text/plain": [
       "tensor([[100.6008,  50.0776,   0.3631],\n",
       "        [100.7649,  50.2466,   0.8861],\n",
       "        [100.1253,  50.2529,   0.4161]])"
      ]
     },
     "execution_count": 36,
     "metadata": {},
     "output_type": "execute_result"
    }
   ],
   "source": [
    "data_pt + b"
   ]
  },
  {
   "cell_type": "code",
   "execution_count": null,
   "metadata": {},
   "outputs": [],
   "source": []
  },
  {
   "cell_type": "code",
   "execution_count": 37,
   "metadata": {},
   "outputs": [
    {
     "data": {
      "text/plain": [
       "torch.Size([1, 3])"
      ]
     },
     "execution_count": 37,
     "metadata": {},
     "output_type": "execute_result"
    }
   ],
   "source": [
    "b = torch.Tensor([100, 50, 0]).view(1, 3)\n",
    "b.shape"
   ]
  },
  {
   "cell_type": "code",
   "execution_count": 38,
   "metadata": {},
   "outputs": [
    {
     "data": {
      "text/plain": [
       "tensor([[100.6008,  50.0776,   0.3631],\n",
       "        [100.7649,  50.2466,   0.8861],\n",
       "        [100.1253,  50.2529,   0.4161]])"
      ]
     },
     "execution_count": 38,
     "metadata": {},
     "output_type": "execute_result"
    }
   ],
   "source": [
    "data_pt + b"
   ]
  },
  {
   "cell_type": "code",
   "execution_count": null,
   "metadata": {},
   "outputs": [],
   "source": []
  },
  {
   "cell_type": "code",
   "execution_count": 39,
   "metadata": {},
   "outputs": [
    {
     "data": {
      "text/plain": [
       "torch.Size([3, 1])"
      ]
     },
     "execution_count": 39,
     "metadata": {},
     "output_type": "execute_result"
    }
   ],
   "source": [
    "b = torch.Tensor([100, 50, 0]).view(3, 1)\n",
    "b.shape"
   ]
  },
  {
   "cell_type": "code",
   "execution_count": 40,
   "metadata": {},
   "outputs": [
    {
     "data": {
      "text/plain": [
       "tensor([[100.6008, 100.0776, 100.3631],\n",
       "        [ 50.7649,  50.2466,  50.8861],\n",
       "        [  0.1253,   0.2529,   0.4161]])"
      ]
     },
     "execution_count": 40,
     "metadata": {},
     "output_type": "execute_result"
    }
   ],
   "source": [
    "data_pt + b"
   ]
  },
  {
   "cell_type": "markdown",
   "metadata": {},
   "source": [
    "#### Векторные и матричные операции"
   ]
  },
  {
   "cell_type": "code",
   "execution_count": 41,
   "metadata": {},
   "outputs": [],
   "source": [
    "data_np = np.random.uniform(size=(16, 16))\n",
    "data_pt = torch.from_numpy(data_np)"
   ]
  },
  {
   "cell_type": "code",
   "execution_count": 42,
   "metadata": {},
   "outputs": [
    {
     "name": "stdout",
     "output_type": "stream",
     "text": [
      "1.57 µs ± 26.5 ns per loop (mean ± std. dev. of 7 runs, 1,000,000 loops each)\n"
     ]
    }
   ],
   "source": [
    "%timeit data_np @ data_np"
   ]
  },
  {
   "cell_type": "code",
   "execution_count": 43,
   "metadata": {},
   "outputs": [
    {
     "name": "stdout",
     "output_type": "stream",
     "text": [
      "2.37 µs ± 27.6 ns per loop (mean ± std. dev. of 7 runs, 100,000 loops each)\n"
     ]
    }
   ],
   "source": [
    "%timeit data_pt @ data_pt"
   ]
  },
  {
   "cell_type": "code",
   "execution_count": null,
   "metadata": {},
   "outputs": [],
   "source": []
  },
  {
   "cell_type": "code",
   "execution_count": 44,
   "metadata": {},
   "outputs": [],
   "source": [
    "x = torch.randn(4, 1)\n",
    "A = torch.randn(8, 4)"
   ]
  },
  {
   "cell_type": "markdown",
   "metadata": {},
   "source": [
    "Умножение матрицы на вектор:"
   ]
  },
  {
   "cell_type": "code",
   "execution_count": 45,
   "metadata": {},
   "outputs": [
    {
     "data": {
      "text/plain": [
       "(torch.Size([8, 1]),\n",
       " tensor([[-0.9254],\n",
       "         [-1.7605],\n",
       "         [-4.9325],\n",
       "         [ 2.0264],\n",
       "         [-1.9675],\n",
       "         [ 0.6838],\n",
       "         [ 0.4198],\n",
       "         [ 1.8454]]))"
      ]
     },
     "execution_count": 45,
     "metadata": {},
     "output_type": "execute_result"
    }
   ],
   "source": [
    "y = A @ x\n",
    "y.shape, y"
   ]
  },
  {
   "cell_type": "code",
   "execution_count": 46,
   "metadata": {},
   "outputs": [
    {
     "data": {
      "text/plain": [
       "(torch.Size([8, 1]),\n",
       " tensor([[-0.9254],\n",
       "         [-1.7605],\n",
       "         [-4.9325],\n",
       "         [ 2.0264],\n",
       "         [-1.9675],\n",
       "         [ 0.6838],\n",
       "         [ 0.4198],\n",
       "         [ 1.8454]]))"
      ]
     },
     "execution_count": 46,
     "metadata": {},
     "output_type": "execute_result"
    }
   ],
   "source": [
    "y = A.matmul(x)\n",
    "y.shape, y"
   ]
  },
  {
   "cell_type": "markdown",
   "metadata": {},
   "source": [
    "Тоже повнимательнее с размерностями:"
   ]
  },
  {
   "cell_type": "code",
   "execution_count": 47,
   "metadata": {},
   "outputs": [],
   "source": [
    "x = torch.randn(4)\n",
    "A = torch.randn(8, 4)"
   ]
  },
  {
   "cell_type": "code",
   "execution_count": 48,
   "metadata": {},
   "outputs": [
    {
     "data": {
      "text/plain": [
       "(torch.Size([8]),\n",
       " tensor([ 1.9798,  2.6892, -0.6969, -1.0262,  4.0903, -1.4460,  1.0483,  6.7532]))"
      ]
     },
     "execution_count": 48,
     "metadata": {},
     "output_type": "execute_result"
    }
   ],
   "source": [
    "y = A @ x\n",
    "y.shape, y"
   ]
  },
  {
   "cell_type": "markdown",
   "metadata": {
    "tags": []
   },
   "source": [
    "#### Задание:"
   ]
  },
  {
   "cell_type": "markdown",
   "metadata": {},
   "source": [
    "* Даны два набора векторов одинаковой размерности, `X` (`m x dim`) и `Y` (`n x dim`)\n",
    "* Требуется посчитать (без циклов!) попарные значения косинуса углов для всех пар (`x`, `y`)\n",
    "    * На выходе ожидается матрица размером (`m x n`)"
   ]
  },
  {
   "cell_type": "code",
   "execution_count": 49,
   "metadata": {},
   "outputs": [],
   "source": [
    "dim = 8\n",
    "m = 11\n",
    "n = 17\n",
    "X = torch.randn(m, dim)\n",
    "Y = torch.randn(n, dim)\n",
    "\n",
    "# YOUR CODE HERE\n",
    "X_n = X / torch.norm( X, dim = 1, keepdim=True)\n",
    "Y_n = Y / torch.norm( Y, dim = 1, keepdim=True)\n",
    "cos_mat = X_n @ Y_n.T\n",
    "\n",
    "# END OF YOUR CODE"
   ]
  },
  {
   "cell_type": "code",
   "execution_count": 50,
   "metadata": {},
   "outputs": [
    {
     "name": "stderr",
     "output_type": "stream",
     "text": [
      "/tmp/ipykernel_104399/177103824.py:4: FutureWarning: `torch.testing.assert_allclose()` is deprecated since 1.12 and will be removed in a future release. Please use `torch.testing.assert_close()` instead. You can find detailed upgrade instructions in https://github.com/pytorch/pytorch/issues/61844.\n",
      "  torch.testing.assert_allclose(cos_mat, cos_mat_expected)\n"
     ]
    }
   ],
   "source": [
    "from scipy.spatial.distance import cdist\n",
    "cos_mat_expected = 1 - cdist(X, Y, metric=\"cosine\")\n",
    "\n",
    "torch.testing.assert_allclose(cos_mat, cos_mat_expected)"
   ]
  },
  {
   "cell_type": "markdown",
   "metadata": {},
   "source": [
    "#### Работа с размерностями"
   ]
  },
  {
   "cell_type": "code",
   "execution_count": 51,
   "metadata": {},
   "outputs": [
    {
     "data": {
      "text/plain": [
       "(torch.Size([3, 1]),\n",
       " tensor([[ 1.0402],\n",
       "         [-1.0248],\n",
       "         [-0.6671]]))"
      ]
     },
     "execution_count": 51,
     "metadata": {},
     "output_type": "execute_result"
    }
   ],
   "source": [
    "x = torch.randn(3, 1)\n",
    "x.shape, x"
   ]
  },
  {
   "cell_type": "markdown",
   "metadata": {},
   "source": [
    "Транспонирование:"
   ]
  },
  {
   "cell_type": "code",
   "execution_count": 52,
   "metadata": {},
   "outputs": [
    {
     "data": {
      "text/plain": [
       "(torch.Size([1, 3]), tensor([[ 1.0402, -1.0248, -0.6671]]))"
      ]
     },
     "execution_count": 52,
     "metadata": {},
     "output_type": "execute_result"
    }
   ],
   "source": [
    "xT = x.T\n",
    "xT.shape, xT"
   ]
  },
  {
   "cell_type": "markdown",
   "metadata": {},
   "source": [
    "Если не указано явно, то данные НЕ копируются:"
   ]
  },
  {
   "cell_type": "code",
   "execution_count": 53,
   "metadata": {},
   "outputs": [
    {
     "data": {
      "text/plain": [
       "tensor([[ 104.0178, -102.4785,  -66.7126]])"
      ]
     },
     "execution_count": 53,
     "metadata": {},
     "output_type": "execute_result"
    }
   ],
   "source": [
    "xT *= 100\n",
    "xT"
   ]
  },
  {
   "cell_type": "code",
   "execution_count": 54,
   "metadata": {},
   "outputs": [
    {
     "data": {
      "text/plain": [
       "tensor([[ 104.0178],\n",
       "        [-102.4785],\n",
       "        [ -66.7126]])"
      ]
     },
     "execution_count": 54,
     "metadata": {},
     "output_type": "execute_result"
    }
   ],
   "source": [
    "x"
   ]
  },
  {
   "cell_type": "markdown",
   "metadata": {},
   "source": [
    "С копированием:"
   ]
  },
  {
   "cell_type": "code",
   "execution_count": 55,
   "metadata": {},
   "outputs": [
    {
     "data": {
      "text/plain": [
       "(torch.Size([1, 3]), tensor([[ 104.0178, -102.4785,  -66.7126]]))"
      ]
     },
     "execution_count": 55,
     "metadata": {},
     "output_type": "execute_result"
    }
   ],
   "source": [
    "xT_clone = x.T.clone()\n",
    "xT_clone.shape, xT_clone"
   ]
  },
  {
   "cell_type": "code",
   "execution_count": 56,
   "metadata": {},
   "outputs": [
    {
     "data": {
      "text/plain": [
       "tensor([[True, True, True]])"
      ]
     },
     "execution_count": 56,
     "metadata": {},
     "output_type": "execute_result"
    }
   ],
   "source": [
    "xT_clone == xT"
   ]
  },
  {
   "cell_type": "code",
   "execution_count": 57,
   "metadata": {},
   "outputs": [
    {
     "data": {
      "text/plain": [
       "tensor([[ 10401.7793, -10247.8535,  -6671.2568]])"
      ]
     },
     "execution_count": 57,
     "metadata": {},
     "output_type": "execute_result"
    }
   ],
   "source": [
    "xT_clone *= 100\n",
    "xT_clone"
   ]
  },
  {
   "cell_type": "code",
   "execution_count": 58,
   "metadata": {},
   "outputs": [
    {
     "data": {
      "text/plain": [
       "tensor([[ 104.0178],\n",
       "        [-102.4785],\n",
       "        [ -66.7126]])"
      ]
     },
     "execution_count": 58,
     "metadata": {},
     "output_type": "execute_result"
    }
   ],
   "source": [
    "x"
   ]
  },
  {
   "cell_type": "markdown",
   "metadata": {},
   "source": [
    "Доступны и более сложные операции над размерностями.\n",
    "\n",
    "`permute()`:"
   ]
  },
  {
   "cell_type": "code",
   "execution_count": 59,
   "metadata": {},
   "outputs": [
    {
     "data": {
      "text/plain": [
       "torch.Size([3, 64, 256])"
      ]
     },
     "execution_count": 59,
     "metadata": {},
     "output_type": "execute_result"
    }
   ],
   "source": [
    "x = torch.randn(3, 64, 256)\n",
    "x.shape"
   ]
  },
  {
   "cell_type": "code",
   "execution_count": 60,
   "metadata": {},
   "outputs": [
    {
     "data": {
      "text/plain": [
       "torch.Size([64, 256, 3])"
      ]
     },
     "execution_count": 60,
     "metadata": {},
     "output_type": "execute_result"
    }
   ],
   "source": [
    "x.permute(1, 2, 0).shape"
   ]
  },
  {
   "cell_type": "code",
   "execution_count": 61,
   "metadata": {},
   "outputs": [
    {
     "data": {
      "text/plain": [
       "torch.Size([3, 256, 64])"
      ]
     },
     "execution_count": 61,
     "metadata": {},
     "output_type": "execute_result"
    }
   ],
   "source": [
    "x.transpose(1, 2).shape"
   ]
  },
  {
   "cell_type": "markdown",
   "metadata": {},
   "source": [
    "`view()`:"
   ]
  },
  {
   "cell_type": "code",
   "execution_count": 62,
   "metadata": {},
   "outputs": [
    {
     "data": {
      "text/plain": [
       "torch.Size([3, 64, 256])"
      ]
     },
     "execution_count": 62,
     "metadata": {},
     "output_type": "execute_result"
    }
   ],
   "source": [
    "x = torch.randn(3, 64, 256)\n",
    "x.shape"
   ]
  },
  {
   "cell_type": "code",
   "execution_count": 63,
   "metadata": {},
   "outputs": [
    {
     "data": {
      "text/plain": [
       "torch.Size([3, 256, 64])"
      ]
     },
     "execution_count": 63,
     "metadata": {},
     "output_type": "execute_result"
    }
   ],
   "source": [
    "x.view(3, 256, 64).shape"
   ]
  },
  {
   "cell_type": "code",
   "execution_count": 64,
   "metadata": {},
   "outputs": [
    {
     "data": {
      "text/plain": [
       "torch.Size([3, 16384])"
      ]
     },
     "execution_count": 64,
     "metadata": {},
     "output_type": "execute_result"
    }
   ],
   "source": [
    "x.view(3, -1).shape"
   ]
  },
  {
   "cell_type": "code",
   "execution_count": 65,
   "metadata": {},
   "outputs": [
    {
     "data": {
      "text/plain": [
       "torch.Size([49152])"
      ]
     },
     "execution_count": 65,
     "metadata": {},
     "output_type": "execute_result"
    }
   ],
   "source": [
    "x.view(-1).shape"
   ]
  },
  {
   "cell_type": "code",
   "execution_count": 66,
   "metadata": {},
   "outputs": [
    {
     "data": {
      "text/plain": [
       "tensor([ 0.0281, -0.8783,  1.8240,  ..., -1.3343,  1.3898, -0.0208])"
      ]
     },
     "execution_count": 66,
     "metadata": {},
     "output_type": "execute_result"
    }
   ],
   "source": [
    "z = x.view(-1)\n",
    "z"
   ]
  },
  {
   "cell_type": "code",
   "execution_count": 67,
   "metadata": {},
   "outputs": [],
   "source": [
    "z *= 0"
   ]
  },
  {
   "cell_type": "code",
   "execution_count": 68,
   "metadata": {},
   "outputs": [
    {
     "data": {
      "text/plain": [
       "tensor([0., -0., 0.,  ..., -0., 0., -0.])"
      ]
     },
     "execution_count": 68,
     "metadata": {},
     "output_type": "execute_result"
    }
   ],
   "source": [
    "z"
   ]
  },
  {
   "cell_type": "code",
   "execution_count": 69,
   "metadata": {},
   "outputs": [],
   "source": [
    "x = torch.randn(3, 64, 256)"
   ]
  },
  {
   "cell_type": "code",
   "execution_count": 70,
   "metadata": {},
   "outputs": [],
   "source": [
    "y = x[:,:3,:3]"
   ]
  },
  {
   "cell_type": "code",
   "execution_count": 71,
   "metadata": {},
   "outputs": [
    {
     "name": "stdout",
     "output_type": "stream",
     "text": [
      "tensor([[[-0.8660,  0.1796,  0.2405],\n",
      "         [ 0.8825,  1.9213, -1.3671],\n",
      "         [ 1.6990, -0.0608,  1.2993]],\n",
      "\n",
      "        [[ 0.0567, -1.7323, -1.0839],\n",
      "         [-0.6172,  2.4191, -0.2643],\n",
      "         [-2.0991,  0.3816, -0.8947]],\n",
      "\n",
      "        [[-0.2988, -0.5220, -0.7879],\n",
      "         [ 0.9238, -0.7895, -2.8830],\n",
      "         [ 0.7377, -2.4123, -0.1285]]])\n"
     ]
    }
   ],
   "source": [
    "print(y)"
   ]
  },
  {
   "cell_type": "code",
   "execution_count": 72,
   "metadata": {},
   "outputs": [
    {
     "name": "stdout",
     "output_type": "stream",
     "text": [
      "140156916502256\n"
     ]
    },
    {
     "ename": "RuntimeError",
     "evalue": "view size is not compatible with input tensor's size and stride (at least one dimension spans across two contiguous subspaces). Use .reshape(...) instead.",
     "output_type": "error",
     "traceback": [
      "\u001b[0;31m---------------------------------------------------------------------------\u001b[0m",
      "\u001b[0;31mRuntimeError\u001b[0m                              Traceback (most recent call last)",
      "Cell \u001b[0;32mIn[72], line 2\u001b[0m\n\u001b[1;32m      1\u001b[0m \u001b[38;5;28mprint\u001b[39m(\u001b[38;5;28mid\u001b[39m(y\u001b[38;5;241m.\u001b[39mdata))\n\u001b[0;32m----> 2\u001b[0m \u001b[38;5;28mprint\u001b[39m(\u001b[43my\u001b[49m\u001b[38;5;241;43m.\u001b[39;49m\u001b[43mview\u001b[49m\u001b[43m(\u001b[49m\u001b[38;5;241;43m-\u001b[39;49m\u001b[38;5;241;43m1\u001b[39;49m\u001b[43m)\u001b[49m)\n",
      "\u001b[0;31mRuntimeError\u001b[0m: view size is not compatible with input tensor's size and stride (at least one dimension spans across two contiguous subspaces). Use .reshape(...) instead."
     ]
    }
   ],
   "source": [
    "print(id(y.data))\n",
    "print(y.view(-1))\n"
   ]
  },
  {
   "cell_type": "code",
   "execution_count": 73,
   "metadata": {},
   "outputs": [
    {
     "name": "stdout",
     "output_type": "stream",
     "text": [
      "140156366599888\n",
      "tensor([-0.8660,  0.1796,  0.2405,  0.8825,  1.9213, -1.3671,  1.6990, -0.0608,\n",
      "         1.2993,  0.0567, -1.7323, -1.0839, -0.6172,  2.4191, -0.2643, -2.0991,\n",
      "         0.3816, -0.8947, -0.2988, -0.5220, -0.7879,  0.9238, -0.7895, -2.8830,\n",
      "         0.7377, -2.4123, -0.1285])\n"
     ]
    }
   ],
   "source": [
    "z = y.reshape(-1)\n",
    "print(id(z.data))\n",
    "print(z)"
   ]
  },
  {
   "cell_type": "markdown",
   "metadata": {
    "tags": []
   },
   "source": [
    "#### Задание:"
   ]
  },
  {
   "cell_type": "markdown",
   "metadata": {},
   "source": [
    "* Создать тензор размером `1x3x224x224` (имитируем батч из одной картинки с 3 каналами RGB размером `224х224`)\n",
    "    * Все значения в тензоре = `0.5`\n",
    "* Выполнить нормализацию через mean / std из датасета Imagenet:\n",
    "    * mean = `[0.485, 0.456, 0.406]`\n",
    "    * std = `[0.229, 0.224, 0.225]`\n",
    "* Посчитать среднее значение по каждому из 3-х каналов полученного тензора\n",
    "    * Ответ (`output`) должен иметь размерность (3,)\n",
    "\n",
    "\n",
    "NB: агрегирующие операции типа `min`/`max`/`mean`/... устроены аналогично в `numpy` и `torch`, но отличаютеся ключевым словом для уточнения размерностей:\n",
    "* в `numpy` - `axis`\n",
    "* в `torch` - `dim`"
   ]
  },
  {
   "cell_type": "code",
   "execution_count": 74,
   "metadata": {},
   "outputs": [],
   "source": [
    "# YOUR CODE HERE\n",
    "\n",
    "x    = torch.ones(1,3,224,224)*0.5\n",
    "mean = torch.tensor([0.485, 0.456, 0.406]).view(1,-1,1,1)\n",
    "std  = torch.tensor([0.229, 0.224, 0.225]).view(1,-1,1,1)\n",
    "\n",
    "x = (x - mean)/std\n",
    "output = torch.mean(x, dim=(2,3)).view(-1)\n",
    "# END OF YOUR CODE"
   ]
  },
  {
   "cell_type": "code",
   "execution_count": 75,
   "metadata": {},
   "outputs": [
    {
     "name": "stderr",
     "output_type": "stream",
     "text": [
      "/tmp/ipykernel_104399/3123574474.py:2: FutureWarning: `torch.testing.assert_allclose()` is deprecated since 1.12 and will be removed in a future release. Please use `torch.testing.assert_close()` instead. You can find detailed upgrade instructions in https://github.com/pytorch/pytorch/issues/61844.\n",
      "  torch.testing.assert_allclose(output, expected_output)\n"
     ]
    }
   ],
   "source": [
    "expected_output = torch.Tensor([0.0655, 0.1964, 0.4178])\n",
    "torch.testing.assert_allclose(output, expected_output)"
   ]
  },
  {
   "cell_type": "markdown",
   "metadata": {
    "tags": [],
    "toc-hr-collapsed": true
   },
   "source": [
    "### 1.2. CPU <-> GPU"
   ]
  },
  {
   "cell_type": "markdown",
   "metadata": {},
   "source": [
    "`CUDA` - это библиотека для вычислений на графических ускорителях (от NVidia).\n",
    "`torch` умеет работать с GPU, но для этого в системе должны быть установлены совместимые версии `torch` / `cudatoolkit`. \n",
    "Подробнее можно почитать на [официальном сайте](https://pytorch.org/get-started/locally/)."
   ]
  },
  {
   "cell_type": "markdown",
   "metadata": {},
   "source": [
    "#### Получение информации о доступных \"девайсах\""
   ]
  },
  {
   "cell_type": "code",
   "execution_count": 76,
   "metadata": {},
   "outputs": [
    {
     "data": {
      "text/plain": [
       "True"
      ]
     },
     "execution_count": 76,
     "metadata": {},
     "output_type": "execute_result"
    }
   ],
   "source": [
    "torch.cuda.is_available()"
   ]
  },
  {
   "cell_type": "code",
   "execution_count": 77,
   "metadata": {},
   "outputs": [
    {
     "data": {
      "text/plain": [
       "1"
      ]
     },
     "execution_count": 77,
     "metadata": {},
     "output_type": "execute_result"
    }
   ],
   "source": [
    "torch.cuda.device_count()"
   ]
  },
  {
   "cell_type": "code",
   "execution_count": 78,
   "metadata": {},
   "outputs": [],
   "source": [
    "device_alias = \"cuda:0\"\n",
    "# device_alias = \"cpu\""
   ]
  },
  {
   "cell_type": "code",
   "execution_count": 79,
   "metadata": {},
   "outputs": [
    {
     "data": {
      "text/plain": [
       "'NVIDIA GeForce RTX 2060'"
      ]
     },
     "execution_count": 79,
     "metadata": {},
     "output_type": "execute_result"
    }
   ],
   "source": [
    "torch.cuda.get_device_name(device_alias)"
   ]
  },
  {
   "cell_type": "code",
   "execution_count": 80,
   "metadata": {},
   "outputs": [],
   "source": [
    "device = torch.device(device_alias)"
   ]
  },
  {
   "cell_type": "code",
   "execution_count": 81,
   "metadata": {},
   "outputs": [
    {
     "data": {
      "text/plain": [
       "device(type='cuda', index=0)"
      ]
     },
     "execution_count": 81,
     "metadata": {},
     "output_type": "execute_result"
    }
   ],
   "source": [
    "device"
   ]
  },
  {
   "cell_type": "markdown",
   "metadata": {},
   "source": [
    "#### Перемещение тензоров между девайсами: `.to(...)`"
   ]
  },
  {
   "cell_type": "code",
   "execution_count": 82,
   "metadata": {},
   "outputs": [
    {
     "data": {
      "text/plain": [
       "device(type='cpu')"
      ]
     },
     "execution_count": 82,
     "metadata": {},
     "output_type": "execute_result"
    }
   ],
   "source": [
    "data_pt = torch.randn(8, 8)\n",
    "data_pt.device"
   ]
  },
  {
   "cell_type": "code",
   "execution_count": 83,
   "metadata": {},
   "outputs": [
    {
     "data": {
      "text/plain": [
       "device(type='cuda', index=0)"
      ]
     },
     "execution_count": 83,
     "metadata": {},
     "output_type": "execute_result"
    }
   ],
   "source": [
    "data_pt = data_pt.to(device)\n",
    "data_pt.device"
   ]
  },
  {
   "cell_type": "code",
   "execution_count": 84,
   "metadata": {},
   "outputs": [
    {
     "data": {
      "text/plain": [
       "(device(type='cpu'), device(type='cpu'), device(type='cpu'))"
      ]
     },
     "execution_count": 84,
     "metadata": {},
     "output_type": "execute_result"
    }
   ],
   "source": [
    "a = data_pt.to(torch.device(\"cpu\"))\n",
    "b = data_pt.to(\"cpu\")\n",
    "c = data_pt.cpu()\n",
    "\n",
    "a.device, b.device, c.device"
   ]
  },
  {
   "cell_type": "markdown",
   "metadata": {},
   "source": [
    "#### Скорость вычислений"
   ]
  },
  {
   "cell_type": "markdown",
   "metadata": {},
   "source": [
    "`8х8` @ `8x8`"
   ]
  },
  {
   "cell_type": "code",
   "execution_count": 85,
   "metadata": {},
   "outputs": [
    {
     "data": {
      "text/plain": [
       "device(type='cpu')"
      ]
     },
     "execution_count": 85,
     "metadata": {},
     "output_type": "execute_result"
    }
   ],
   "source": [
    "data_pt = torch.randn(8, 8)\n",
    "data_pt.device"
   ]
  },
  {
   "cell_type": "code",
   "execution_count": 86,
   "metadata": {},
   "outputs": [
    {
     "name": "stdout",
     "output_type": "stream",
     "text": [
      "2.32 µs ± 74.6 ns per loop (mean ± std. dev. of 7 runs, 100,000 loops each)\n"
     ]
    }
   ],
   "source": [
    "%timeit data_pt @ data_pt"
   ]
  },
  {
   "cell_type": "code",
   "execution_count": 87,
   "metadata": {},
   "outputs": [
    {
     "data": {
      "text/plain": [
       "device(type='cuda', index=0)"
      ]
     },
     "execution_count": 87,
     "metadata": {},
     "output_type": "execute_result"
    }
   ],
   "source": [
    "data_pt = data_pt.to(device)\n",
    "data_pt.device"
   ]
  },
  {
   "cell_type": "code",
   "execution_count": 88,
   "metadata": {},
   "outputs": [],
   "source": [
    "data_pt @ data_pt;"
   ]
  },
  {
   "cell_type": "code",
   "execution_count": 89,
   "metadata": {},
   "outputs": [
    {
     "name": "stdout",
     "output_type": "stream",
     "text": [
      "9.64 µs ± 134 ns per loop (mean ± std. dev. of 7 runs, 100,000 loops each)\n"
     ]
    }
   ],
   "source": [
    "%timeit data_pt @ data_pt"
   ]
  },
  {
   "cell_type": "markdown",
   "metadata": {},
   "source": [
    "`64х64` @ `64x64`"
   ]
  },
  {
   "cell_type": "code",
   "execution_count": 90,
   "metadata": {},
   "outputs": [
    {
     "data": {
      "text/plain": [
       "device(type='cpu')"
      ]
     },
     "execution_count": 90,
     "metadata": {},
     "output_type": "execute_result"
    }
   ],
   "source": [
    "data_pt = torch.randn(64, 64)\n",
    "data_pt.device"
   ]
  },
  {
   "cell_type": "code",
   "execution_count": 91,
   "metadata": {},
   "outputs": [
    {
     "name": "stdout",
     "output_type": "stream",
     "text": [
      "5.83 µs ± 175 ns per loop (mean ± std. dev. of 7 runs, 100,000 loops each)\n"
     ]
    }
   ],
   "source": [
    "%timeit data_pt @ data_pt"
   ]
  },
  {
   "cell_type": "code",
   "execution_count": 92,
   "metadata": {},
   "outputs": [
    {
     "data": {
      "text/plain": [
       "device(type='cuda', index=0)"
      ]
     },
     "execution_count": 92,
     "metadata": {},
     "output_type": "execute_result"
    }
   ],
   "source": [
    "data_pt = data_pt.to(device)\n",
    "data_pt.device"
   ]
  },
  {
   "cell_type": "code",
   "execution_count": 93,
   "metadata": {},
   "outputs": [
    {
     "name": "stdout",
     "output_type": "stream",
     "text": [
      "10 µs ± 141 ns per loop (mean ± std. dev. of 7 runs, 100,000 loops each)\n"
     ]
    }
   ],
   "source": [
    "%timeit data_pt @ data_pt"
   ]
  },
  {
   "cell_type": "markdown",
   "metadata": {},
   "source": [
    "`256х256` @ `256x256`"
   ]
  },
  {
   "cell_type": "code",
   "execution_count": 94,
   "metadata": {},
   "outputs": [
    {
     "data": {
      "text/plain": [
       "device(type='cpu')"
      ]
     },
     "execution_count": 94,
     "metadata": {},
     "output_type": "execute_result"
    }
   ],
   "source": [
    "data_pt = torch.randn(256, 256)\n",
    "data_pt.device"
   ]
  },
  {
   "cell_type": "code",
   "execution_count": 95,
   "metadata": {},
   "outputs": [
    {
     "name": "stdout",
     "output_type": "stream",
     "text": [
      "86.6 µs ± 7.32 µs per loop (mean ± std. dev. of 7 runs, 10,000 loops each)\n"
     ]
    }
   ],
   "source": [
    "%timeit data_pt @ data_pt"
   ]
  },
  {
   "cell_type": "code",
   "execution_count": 96,
   "metadata": {},
   "outputs": [
    {
     "data": {
      "text/plain": [
       "device(type='cuda', index=0)"
      ]
     },
     "execution_count": 96,
     "metadata": {},
     "output_type": "execute_result"
    }
   ],
   "source": [
    "data_pt = data_pt.to(device)\n",
    "data_pt.device"
   ]
  },
  {
   "cell_type": "code",
   "execution_count": 97,
   "metadata": {},
   "outputs": [
    {
     "name": "stdout",
     "output_type": "stream",
     "text": [
      "18.6 µs ± 791 ns per loop (mean ± std. dev. of 7 runs, 10,000 loops each)\n"
     ]
    }
   ],
   "source": [
    "%timeit data_pt @ data_pt"
   ]
  },
  {
   "cell_type": "markdown",
   "metadata": {},
   "source": [
    "#### Объекты с разных устройств"
   ]
  },
  {
   "cell_type": "code",
   "execution_count": 98,
   "metadata": {},
   "outputs": [
    {
     "data": {
      "text/plain": [
       "device(type='cuda', index=0)"
      ]
     },
     "execution_count": 98,
     "metadata": {},
     "output_type": "execute_result"
    }
   ],
   "source": [
    "data_pt = torch.randn(3, 3)\n",
    "data_pt = data_pt.to(device)\n",
    "data_pt.device"
   ]
  },
  {
   "cell_type": "code",
   "execution_count": 99,
   "metadata": {},
   "outputs": [
    {
     "ename": "TypeError",
     "evalue": "can't convert cuda:0 device type tensor to numpy. Use Tensor.cpu() to copy the tensor to host memory first.",
     "output_type": "error",
     "traceback": [
      "\u001b[0;31m---------------------------------------------------------------------------\u001b[0m",
      "\u001b[0;31mTypeError\u001b[0m                                 Traceback (most recent call last)",
      "Cell \u001b[0;32mIn[99], line 1\u001b[0m\n\u001b[0;32m----> 1\u001b[0m \u001b[43mdata_pt\u001b[49m\u001b[38;5;241;43m.\u001b[39;49m\u001b[43mnumpy\u001b[49m\u001b[43m(\u001b[49m\u001b[43m)\u001b[49m\n",
      "\u001b[0;31mTypeError\u001b[0m: can't convert cuda:0 device type tensor to numpy. Use Tensor.cpu() to copy the tensor to host memory first."
     ]
    }
   ],
   "source": [
    "data_pt.numpy()"
   ]
  },
  {
   "cell_type": "code",
   "execution_count": 100,
   "metadata": {},
   "outputs": [
    {
     "data": {
      "text/plain": [
       "array([[-1.5900167 ,  0.55062884,  0.6036541 ],\n",
       "       [-0.6019529 ,  0.32946712,  0.31758794],\n",
       "       [ 0.7859583 ,  0.8296162 , -0.5939238 ]], dtype=float32)"
      ]
     },
     "execution_count": 100,
     "metadata": {},
     "output_type": "execute_result"
    }
   ],
   "source": [
    "data_pt.to(torch.device(\"cpu\")).numpy()"
   ]
  },
  {
   "cell_type": "markdown",
   "metadata": {},
   "source": [
    "Взаимодействовать друг с другом могут только объекты, лежащие на одном девайсе"
   ]
  },
  {
   "cell_type": "code",
   "execution_count": 101,
   "metadata": {},
   "outputs": [
    {
     "data": {
      "text/plain": [
       "device(type='cuda', index=0)"
      ]
     },
     "execution_count": 101,
     "metadata": {},
     "output_type": "execute_result"
    }
   ],
   "source": [
    "data_pt_1 = torch.randn(3, 3)\n",
    "data_pt_1 = data_pt_1.to(device)\n",
    "data_pt_1.device"
   ]
  },
  {
   "cell_type": "code",
   "execution_count": 102,
   "metadata": {},
   "outputs": [
    {
     "data": {
      "text/plain": [
       "device(type='cpu')"
      ]
     },
     "execution_count": 102,
     "metadata": {},
     "output_type": "execute_result"
    }
   ],
   "source": [
    "data_pt_2 = torch.randn(3, 3)\n",
    "data_pt_2 = data_pt_2#.to(\"cpu\")\n",
    "data_pt_2.device"
   ]
  },
  {
   "cell_type": "code",
   "execution_count": 103,
   "metadata": {},
   "outputs": [
    {
     "ename": "RuntimeError",
     "evalue": "Expected all tensors to be on the same device, but found at least two devices, cuda:0 and cpu!",
     "output_type": "error",
     "traceback": [
      "\u001b[0;31m---------------------------------------------------------------------------\u001b[0m",
      "\u001b[0;31mRuntimeError\u001b[0m                              Traceback (most recent call last)",
      "Cell \u001b[0;32mIn[103], line 1\u001b[0m\n\u001b[0;32m----> 1\u001b[0m \u001b[43mdata_pt_1\u001b[49m\u001b[43m \u001b[49m\u001b[38;5;241;43m+\u001b[39;49m\u001b[43m \u001b[49m\u001b[43mdata_pt_2\u001b[49m\n",
      "\u001b[0;31mRuntimeError\u001b[0m: Expected all tensors to be on the same device, but found at least two devices, cuda:0 and cpu!"
     ]
    }
   ],
   "source": [
    "data_pt_1 + data_pt_2"
   ]
  },
  {
   "cell_type": "code",
   "execution_count": 104,
   "metadata": {},
   "outputs": [
    {
     "data": {
      "text/plain": [
       "tensor([[ 0.8643, -2.8000, -2.4780],\n",
       "        [-0.5027, -1.5791, -0.4286],\n",
       "        [-0.7976,  1.9486, -0.2462]], device='cuda:0')"
      ]
     },
     "execution_count": 104,
     "metadata": {},
     "output_type": "execute_result"
    }
   ],
   "source": [
    "data_pt_1 + data_pt_2.to(data_pt_1.device)"
   ]
  },
  {
   "cell_type": "code",
   "execution_count": 105,
   "metadata": {},
   "outputs": [
    {
     "data": {
      "text/plain": [
       "device(type='cpu')"
      ]
     },
     "execution_count": 105,
     "metadata": {},
     "output_type": "execute_result"
    }
   ],
   "source": [
    "data_pt_2.device"
   ]
  },
  {
   "cell_type": "markdown",
   "metadata": {},
   "source": [
    "#### Поддержка \"особенных\" типов на GPU"
   ]
  },
  {
   "cell_type": "markdown",
   "metadata": {},
   "source": [
    "https://docs.nvidia.com/deeplearning/tensorrt/support-matrix/index.html#hardware-precision-matrix"
   ]
  },
  {
   "cell_type": "code",
   "execution_count": 106,
   "metadata": {},
   "outputs": [],
   "source": [
    "data_pt = torch.randn(3, 3).type(torch.float16).to(device)"
   ]
  },
  {
   "cell_type": "code",
   "execution_count": 107,
   "metadata": {},
   "outputs": [
    {
     "data": {
      "text/plain": [
       "tensor([[ 2.6211,  0.2642,  1.3672],\n",
       "        [ 0.8579,  1.2900,  1.3311],\n",
       "        [ 0.7129, -0.4365,  0.6406]], device='cuda:0', dtype=torch.float16)"
      ]
     },
     "execution_count": 107,
     "metadata": {},
     "output_type": "execute_result"
    }
   ],
   "source": [
    "data_pt + 1"
   ]
  },
  {
   "cell_type": "code",
   "execution_count": 108,
   "metadata": {},
   "outputs": [],
   "source": [
    "data_pt = torch.randn(3, 3).type(torch.int8).to(device)"
   ]
  },
  {
   "cell_type": "code",
   "execution_count": 109,
   "metadata": {},
   "outputs": [
    {
     "data": {
      "text/plain": [
       "tensor([[2, 1, 1],\n",
       "        [1, 2, 0],\n",
       "        [1, 2, 1]], device='cuda:0', dtype=torch.int8)"
      ]
     },
     "execution_count": 109,
     "metadata": {},
     "output_type": "execute_result"
    }
   ],
   "source": [
    "data_pt + 1"
   ]
  },
  {
   "cell_type": "markdown",
   "metadata": {},
   "source": [
    "Прекрасно, что `pytorch` умеет делать все то же, что и `numpy`.\n",
    "Но зачем он нужен, если *уже есть* `numpy`?"
   ]
  },
  {
   "cell_type": "markdown",
   "metadata": {
    "tags": []
   },
   "source": [
    "## 2. Автоматическое дифференцирование"
   ]
  },
  {
   "cell_type": "markdown",
   "metadata": {},
   "source": [
    "Вспомним, что алгебраические выражения можно интерпретировать как вычислительные графы:\n",
    "\n",
    "* $f(x) = w1 \\times x + w2 \\times y + w3 \\rightarrow $\n",
    "\n",
    "![comp_graph_03](https://i.ibb.co/f8yv1Kc/aim-seminar01-compgraphs-11-1.png)\n",
    "\n",
    "На прошлом семинаре мы считали градиенты руками, а теперь у нас есть `torch`:"
   ]
  },
  {
   "cell_type": "markdown",
   "metadata": {},
   "source": [
    "#### `.backward()`"
   ]
  },
  {
   "cell_type": "code",
   "execution_count": 110,
   "metadata": {},
   "outputs": [],
   "source": [
    "def f(x, y, w1, w2, w3):\n",
    "    return w1 * x + w2 * y + w3"
   ]
  },
  {
   "cell_type": "code",
   "execution_count": 111,
   "metadata": {},
   "outputs": [
    {
     "data": {
      "text/plain": [
       "False"
      ]
     },
     "execution_count": 111,
     "metadata": {},
     "output_type": "execute_result"
    }
   ],
   "source": [
    "x = torch.tensor([1.])\n",
    "x.requires_grad"
   ]
  },
  {
   "cell_type": "code",
   "execution_count": 112,
   "metadata": {},
   "outputs": [
    {
     "data": {
      "text/plain": [
       "False"
      ]
     },
     "execution_count": 112,
     "metadata": {},
     "output_type": "execute_result"
    }
   ],
   "source": [
    "y = torch.tensor([2.])\n",
    "y.requires_grad"
   ]
  },
  {
   "cell_type": "markdown",
   "metadata": {},
   "source": [
    "Для \"включения\" градиентов у переменной, нужно об этом прямо заявить: "
   ]
  },
  {
   "cell_type": "code",
   "execution_count": 113,
   "metadata": {},
   "outputs": [
    {
     "data": {
      "text/plain": [
       "True"
      ]
     },
     "execution_count": 113,
     "metadata": {},
     "output_type": "execute_result"
    }
   ],
   "source": [
    "w1 = torch.tensor([0.33])\n",
    "w1.requires_grad_(True)\n",
    "w1.requires_grad"
   ]
  },
  {
   "cell_type": "code",
   "execution_count": 114,
   "metadata": {},
   "outputs": [
    {
     "data": {
      "text/plain": [
       "True"
      ]
     },
     "execution_count": 114,
     "metadata": {},
     "output_type": "execute_result"
    }
   ],
   "source": [
    "w2 = torch.tensor([-1.5]).requires_grad_(True)\n",
    "w2.requires_grad"
   ]
  },
  {
   "cell_type": "code",
   "execution_count": 115,
   "metadata": {},
   "outputs": [
    {
     "data": {
      "text/plain": [
       "True"
      ]
     },
     "execution_count": 115,
     "metadata": {},
     "output_type": "execute_result"
    }
   ],
   "source": [
    "w3 = torch.tensor([0.01], requires_grad=True)\n",
    "w3.requires_grad"
   ]
  },
  {
   "cell_type": "code",
   "execution_count": 116,
   "metadata": {},
   "outputs": [],
   "source": [
    "variables = [x, y, w1, w2, w3]\n",
    "names = [\"x\", \"y\", \"w1\", \"w2\", \"w3\"]"
   ]
  },
  {
   "cell_type": "code",
   "execution_count": 117,
   "metadata": {},
   "outputs": [
    {
     "name": "stdout",
     "output_type": "stream",
     "text": [
      "name\tval\tgrad\n",
      "x\t1.000\tNone\n",
      "y\t2.000\tNone\n",
      "w1\t0.330\tNone\n",
      "w2\t-1.500\tNone\n",
      "w3\t0.010\tNone\n"
     ]
    }
   ],
   "source": [
    "print(\"name\\tval\\tgrad\")\n",
    "for n, v in zip(names, variables):\n",
    "    print(f\"{n}\\t{v.item():2.3f}\\t{v.grad}\")"
   ]
  },
  {
   "cell_type": "markdown",
   "metadata": {},
   "source": [
    "Еще раз насладимся магией автоматического дифференцирования:"
   ]
  },
  {
   "cell_type": "code",
   "execution_count": 118,
   "metadata": {},
   "outputs": [
    {
     "data": {
      "text/plain": [
       "tensor([-2.6600], grad_fn=<AddBackward0>)"
      ]
     },
     "execution_count": 118,
     "metadata": {},
     "output_type": "execute_result"
    }
   ],
   "source": [
    "output = f(x, y, w1, w2, w3)\n",
    "output"
   ]
  },
  {
   "cell_type": "code",
   "execution_count": 119,
   "metadata": {},
   "outputs": [
    {
     "name": "stdout",
     "output_type": "stream",
     "text": [
      "name\tval\tgrad\n",
      "x\t1.000\tNone\n",
      "y\t2.000\tNone\n",
      "w1\t0.330\tNone\n",
      "w2\t-1.500\tNone\n",
      "w3\t0.010\tNone\n"
     ]
    }
   ],
   "source": [
    "print(\"name\\tval\\tgrad\")\n",
    "for n, v in zip(names, variables):\n",
    "    print(f\"{n}\\t{v.item():2.3f}\\t{v.grad}\")"
   ]
  },
  {
   "cell_type": "code",
   "execution_count": 120,
   "metadata": {},
   "outputs": [],
   "source": [
    "output.backward()"
   ]
  },
  {
   "cell_type": "code",
   "execution_count": 121,
   "metadata": {},
   "outputs": [
    {
     "name": "stdout",
     "output_type": "stream",
     "text": [
      "name\tval\tgrad\n",
      "x\t1.000\tNone\n",
      "y\t2.000\tNone\n",
      "w1\t0.330\ttensor([1.])\n",
      "w2\t-1.500\ttensor([2.])\n",
      "w3\t0.010\ttensor([1.])\n"
     ]
    }
   ],
   "source": [
    "print(\"name\\tval\\tgrad\")\n",
    "for n, v in zip(names, variables):\n",
    "    print(f\"{n}\\t{v.item():2.3f}\\t{v.grad}\")"
   ]
  },
  {
   "cell_type": "markdown",
   "metadata": {},
   "source": [
    "Попробуем вызвать `backward()` еще раз:"
   ]
  },
  {
   "cell_type": "code",
   "execution_count": 122,
   "metadata": {},
   "outputs": [
    {
     "ename": "RuntimeError",
     "evalue": "Trying to backward through the graph a second time (or directly access saved tensors after they have already been freed). Saved intermediate values of the graph are freed when you call .backward() or autograd.grad(). Specify retain_graph=True if you need to backward through the graph a second time or if you need to access saved tensors after calling backward.",
     "output_type": "error",
     "traceback": [
      "\u001b[0;31m---------------------------------------------------------------------------\u001b[0m",
      "\u001b[0;31mRuntimeError\u001b[0m                              Traceback (most recent call last)",
      "Cell \u001b[0;32mIn[122], line 1\u001b[0m\n\u001b[0;32m----> 1\u001b[0m \u001b[43moutput\u001b[49m\u001b[38;5;241;43m.\u001b[39;49m\u001b[43mbackward\u001b[49m\u001b[43m(\u001b[49m\u001b[43m)\u001b[49m\n",
      "File \u001b[0;32m~/anaconda3/envs/work/lib/python3.8/site-packages/torch/_tensor.py:521\u001b[0m, in \u001b[0;36mTensor.backward\u001b[0;34m(self, gradient, retain_graph, create_graph, inputs)\u001b[0m\n\u001b[1;32m    511\u001b[0m \u001b[38;5;28;01mif\u001b[39;00m has_torch_function_unary(\u001b[38;5;28mself\u001b[39m):\n\u001b[1;32m    512\u001b[0m     \u001b[38;5;28;01mreturn\u001b[39;00m handle_torch_function(\n\u001b[1;32m    513\u001b[0m         Tensor\u001b[38;5;241m.\u001b[39mbackward,\n\u001b[1;32m    514\u001b[0m         (\u001b[38;5;28mself\u001b[39m,),\n\u001b[0;32m   (...)\u001b[0m\n\u001b[1;32m    519\u001b[0m         inputs\u001b[38;5;241m=\u001b[39minputs,\n\u001b[1;32m    520\u001b[0m     )\n\u001b[0;32m--> 521\u001b[0m \u001b[43mtorch\u001b[49m\u001b[38;5;241;43m.\u001b[39;49m\u001b[43mautograd\u001b[49m\u001b[38;5;241;43m.\u001b[39;49m\u001b[43mbackward\u001b[49m\u001b[43m(\u001b[49m\n\u001b[1;32m    522\u001b[0m \u001b[43m    \u001b[49m\u001b[38;5;28;43mself\u001b[39;49m\u001b[43m,\u001b[49m\u001b[43m \u001b[49m\u001b[43mgradient\u001b[49m\u001b[43m,\u001b[49m\u001b[43m \u001b[49m\u001b[43mretain_graph\u001b[49m\u001b[43m,\u001b[49m\u001b[43m \u001b[49m\u001b[43mcreate_graph\u001b[49m\u001b[43m,\u001b[49m\u001b[43m \u001b[49m\u001b[43minputs\u001b[49m\u001b[38;5;241;43m=\u001b[39;49m\u001b[43minputs\u001b[49m\n\u001b[1;32m    523\u001b[0m \u001b[43m\u001b[49m\u001b[43m)\u001b[49m\n",
      "File \u001b[0;32m~/anaconda3/envs/work/lib/python3.8/site-packages/torch/autograd/__init__.py:289\u001b[0m, in \u001b[0;36mbackward\u001b[0;34m(tensors, grad_tensors, retain_graph, create_graph, grad_variables, inputs)\u001b[0m\n\u001b[1;32m    284\u001b[0m     retain_graph \u001b[38;5;241m=\u001b[39m create_graph\n\u001b[1;32m    286\u001b[0m \u001b[38;5;66;03m# The reason we repeat the same comment below is that\u001b[39;00m\n\u001b[1;32m    287\u001b[0m \u001b[38;5;66;03m# some Python versions print out the first line of a multi-line function\u001b[39;00m\n\u001b[1;32m    288\u001b[0m \u001b[38;5;66;03m# calls in the traceback and some print out the last line\u001b[39;00m\n\u001b[0;32m--> 289\u001b[0m \u001b[43m_engine_run_backward\u001b[49m\u001b[43m(\u001b[49m\n\u001b[1;32m    290\u001b[0m \u001b[43m    \u001b[49m\u001b[43mtensors\u001b[49m\u001b[43m,\u001b[49m\n\u001b[1;32m    291\u001b[0m \u001b[43m    \u001b[49m\u001b[43mgrad_tensors_\u001b[49m\u001b[43m,\u001b[49m\n\u001b[1;32m    292\u001b[0m \u001b[43m    \u001b[49m\u001b[43mretain_graph\u001b[49m\u001b[43m,\u001b[49m\n\u001b[1;32m    293\u001b[0m \u001b[43m    \u001b[49m\u001b[43mcreate_graph\u001b[49m\u001b[43m,\u001b[49m\n\u001b[1;32m    294\u001b[0m \u001b[43m    \u001b[49m\u001b[43minputs\u001b[49m\u001b[43m,\u001b[49m\n\u001b[1;32m    295\u001b[0m \u001b[43m    \u001b[49m\u001b[43mallow_unreachable\u001b[49m\u001b[38;5;241;43m=\u001b[39;49m\u001b[38;5;28;43;01mTrue\u001b[39;49;00m\u001b[43m,\u001b[49m\n\u001b[1;32m    296\u001b[0m \u001b[43m    \u001b[49m\u001b[43maccumulate_grad\u001b[49m\u001b[38;5;241;43m=\u001b[39;49m\u001b[38;5;28;43;01mTrue\u001b[39;49;00m\u001b[43m,\u001b[49m\n\u001b[1;32m    297\u001b[0m \u001b[43m\u001b[49m\u001b[43m)\u001b[49m\n",
      "File \u001b[0;32m~/anaconda3/envs/work/lib/python3.8/site-packages/torch/autograd/graph.py:769\u001b[0m, in \u001b[0;36m_engine_run_backward\u001b[0;34m(t_outputs, *args, **kwargs)\u001b[0m\n\u001b[1;32m    767\u001b[0m     unregister_hooks \u001b[38;5;241m=\u001b[39m _register_logging_hooks_on_whole_graph(t_outputs)\n\u001b[1;32m    768\u001b[0m \u001b[38;5;28;01mtry\u001b[39;00m:\n\u001b[0;32m--> 769\u001b[0m     \u001b[38;5;28;01mreturn\u001b[39;00m \u001b[43mVariable\u001b[49m\u001b[38;5;241;43m.\u001b[39;49m\u001b[43m_execution_engine\u001b[49m\u001b[38;5;241;43m.\u001b[39;49m\u001b[43mrun_backward\u001b[49m\u001b[43m(\u001b[49m\u001b[43m  \u001b[49m\u001b[38;5;66;43;03m# Calls into the C++ engine to run the backward pass\u001b[39;49;00m\n\u001b[1;32m    770\u001b[0m \u001b[43m        \u001b[49m\u001b[43mt_outputs\u001b[49m\u001b[43m,\u001b[49m\u001b[43m \u001b[49m\u001b[38;5;241;43m*\u001b[39;49m\u001b[43margs\u001b[49m\u001b[43m,\u001b[49m\u001b[43m \u001b[49m\u001b[38;5;241;43m*\u001b[39;49m\u001b[38;5;241;43m*\u001b[39;49m\u001b[43mkwargs\u001b[49m\n\u001b[1;32m    771\u001b[0m \u001b[43m    \u001b[49m\u001b[43m)\u001b[49m  \u001b[38;5;66;03m# Calls into the C++ engine to run the backward pass\u001b[39;00m\n\u001b[1;32m    772\u001b[0m \u001b[38;5;28;01mfinally\u001b[39;00m:\n\u001b[1;32m    773\u001b[0m     \u001b[38;5;28;01mif\u001b[39;00m attach_logging_hooks:\n",
      "\u001b[0;31mRuntimeError\u001b[0m: Trying to backward through the graph a second time (or directly access saved tensors after they have already been freed). Saved intermediate values of the graph are freed when you call .backward() or autograd.grad(). Specify retain_graph=True if you need to backward through the graph a second time or if you need to access saved tensors after calling backward."
     ]
    }
   ],
   "source": [
    "output.backward()"
   ]
  },
  {
   "cell_type": "markdown",
   "metadata": {},
   "source": [
    "**Вопрос:** зачем может быть нужно делать `backward()` больше одного раза?"
   ]
  },
  {
   "cell_type": "code",
   "execution_count": 123,
   "metadata": {},
   "outputs": [],
   "source": [
    "del output\n",
    "for var in variables:\n",
    "    var.grad = None"
   ]
  },
  {
   "cell_type": "code",
   "execution_count": 124,
   "metadata": {},
   "outputs": [
    {
     "name": "stdout",
     "output_type": "stream",
     "text": [
      "name\tval\tgrad\n",
      "x\t1.000\tNone\n",
      "y\t2.000\tNone\n",
      "w1\t0.330\tNone\n",
      "w2\t-1.500\tNone\n",
      "w3\t0.010\tNone\n"
     ]
    }
   ],
   "source": [
    "print(\"name\\tval\\tgrad\")\n",
    "for n, v in zip(names, variables):\n",
    "    print(f\"{n}\\t{v.item():2.3f}\\t{v.grad}\")"
   ]
  },
  {
   "cell_type": "code",
   "execution_count": 125,
   "metadata": {},
   "outputs": [
    {
     "data": {
      "text/plain": [
       "tensor([-2.6600], grad_fn=<AddBackward0>)"
      ]
     },
     "execution_count": 125,
     "metadata": {},
     "output_type": "execute_result"
    }
   ],
   "source": [
    "output = f(x, y, w1, w2, w3)\n",
    "output"
   ]
  },
  {
   "cell_type": "code",
   "execution_count": 126,
   "metadata": {},
   "outputs": [],
   "source": [
    "output.backward(retain_graph=True)"
   ]
  },
  {
   "cell_type": "code",
   "execution_count": 127,
   "metadata": {},
   "outputs": [
    {
     "name": "stdout",
     "output_type": "stream",
     "text": [
      "name\tval\tgrad\n",
      "x\t1.000\tNone\n",
      "y\t2.000\tNone\n",
      "w1\t0.330\ttensor([1.])\n",
      "w2\t-1.500\ttensor([2.])\n",
      "w3\t0.010\ttensor([1.])\n"
     ]
    }
   ],
   "source": [
    "print(\"name\\tval\\tgrad\")\n",
    "for n, v in zip(names, variables):\n",
    "    print(f\"{n}\\t{v.item():2.3f}\\t{v.grad}\")"
   ]
  },
  {
   "cell_type": "code",
   "execution_count": 128,
   "metadata": {},
   "outputs": [],
   "source": [
    "output.backward()"
   ]
  },
  {
   "cell_type": "code",
   "execution_count": 129,
   "metadata": {},
   "outputs": [
    {
     "name": "stdout",
     "output_type": "stream",
     "text": [
      "name\tval\tgrad\n",
      "x\t1.000\tNone\n",
      "y\t2.000\tNone\n",
      "w1\t0.330\ttensor([2.])\n",
      "w2\t-1.500\ttensor([4.])\n",
      "w3\t0.010\ttensor([2.])\n"
     ]
    }
   ],
   "source": [
    "print(\"name\\tval\\tgrad\")\n",
    "for n, v in zip(names, variables):\n",
    "    print(f\"{n}\\t{v.item():2.3f}\\t{v.grad}\")"
   ]
  },
  {
   "cell_type": "code",
   "execution_count": 130,
   "metadata": {},
   "outputs": [
    {
     "ename": "RuntimeError",
     "evalue": "Trying to backward through the graph a second time (or directly access saved tensors after they have already been freed). Saved intermediate values of the graph are freed when you call .backward() or autograd.grad(). Specify retain_graph=True if you need to backward through the graph a second time or if you need to access saved tensors after calling backward.",
     "output_type": "error",
     "traceback": [
      "\u001b[0;31m---------------------------------------------------------------------------\u001b[0m",
      "\u001b[0;31mRuntimeError\u001b[0m                              Traceback (most recent call last)",
      "Cell \u001b[0;32mIn[130], line 1\u001b[0m\n\u001b[0;32m----> 1\u001b[0m \u001b[43moutput\u001b[49m\u001b[38;5;241;43m.\u001b[39;49m\u001b[43mbackward\u001b[49m\u001b[43m(\u001b[49m\u001b[43m)\u001b[49m\n",
      "File \u001b[0;32m~/anaconda3/envs/work/lib/python3.8/site-packages/torch/_tensor.py:521\u001b[0m, in \u001b[0;36mTensor.backward\u001b[0;34m(self, gradient, retain_graph, create_graph, inputs)\u001b[0m\n\u001b[1;32m    511\u001b[0m \u001b[38;5;28;01mif\u001b[39;00m has_torch_function_unary(\u001b[38;5;28mself\u001b[39m):\n\u001b[1;32m    512\u001b[0m     \u001b[38;5;28;01mreturn\u001b[39;00m handle_torch_function(\n\u001b[1;32m    513\u001b[0m         Tensor\u001b[38;5;241m.\u001b[39mbackward,\n\u001b[1;32m    514\u001b[0m         (\u001b[38;5;28mself\u001b[39m,),\n\u001b[0;32m   (...)\u001b[0m\n\u001b[1;32m    519\u001b[0m         inputs\u001b[38;5;241m=\u001b[39minputs,\n\u001b[1;32m    520\u001b[0m     )\n\u001b[0;32m--> 521\u001b[0m \u001b[43mtorch\u001b[49m\u001b[38;5;241;43m.\u001b[39;49m\u001b[43mautograd\u001b[49m\u001b[38;5;241;43m.\u001b[39;49m\u001b[43mbackward\u001b[49m\u001b[43m(\u001b[49m\n\u001b[1;32m    522\u001b[0m \u001b[43m    \u001b[49m\u001b[38;5;28;43mself\u001b[39;49m\u001b[43m,\u001b[49m\u001b[43m \u001b[49m\u001b[43mgradient\u001b[49m\u001b[43m,\u001b[49m\u001b[43m \u001b[49m\u001b[43mretain_graph\u001b[49m\u001b[43m,\u001b[49m\u001b[43m \u001b[49m\u001b[43mcreate_graph\u001b[49m\u001b[43m,\u001b[49m\u001b[43m \u001b[49m\u001b[43minputs\u001b[49m\u001b[38;5;241;43m=\u001b[39;49m\u001b[43minputs\u001b[49m\n\u001b[1;32m    523\u001b[0m \u001b[43m\u001b[49m\u001b[43m)\u001b[49m\n",
      "File \u001b[0;32m~/anaconda3/envs/work/lib/python3.8/site-packages/torch/autograd/__init__.py:289\u001b[0m, in \u001b[0;36mbackward\u001b[0;34m(tensors, grad_tensors, retain_graph, create_graph, grad_variables, inputs)\u001b[0m\n\u001b[1;32m    284\u001b[0m     retain_graph \u001b[38;5;241m=\u001b[39m create_graph\n\u001b[1;32m    286\u001b[0m \u001b[38;5;66;03m# The reason we repeat the same comment below is that\u001b[39;00m\n\u001b[1;32m    287\u001b[0m \u001b[38;5;66;03m# some Python versions print out the first line of a multi-line function\u001b[39;00m\n\u001b[1;32m    288\u001b[0m \u001b[38;5;66;03m# calls in the traceback and some print out the last line\u001b[39;00m\n\u001b[0;32m--> 289\u001b[0m \u001b[43m_engine_run_backward\u001b[49m\u001b[43m(\u001b[49m\n\u001b[1;32m    290\u001b[0m \u001b[43m    \u001b[49m\u001b[43mtensors\u001b[49m\u001b[43m,\u001b[49m\n\u001b[1;32m    291\u001b[0m \u001b[43m    \u001b[49m\u001b[43mgrad_tensors_\u001b[49m\u001b[43m,\u001b[49m\n\u001b[1;32m    292\u001b[0m \u001b[43m    \u001b[49m\u001b[43mretain_graph\u001b[49m\u001b[43m,\u001b[49m\n\u001b[1;32m    293\u001b[0m \u001b[43m    \u001b[49m\u001b[43mcreate_graph\u001b[49m\u001b[43m,\u001b[49m\n\u001b[1;32m    294\u001b[0m \u001b[43m    \u001b[49m\u001b[43minputs\u001b[49m\u001b[43m,\u001b[49m\n\u001b[1;32m    295\u001b[0m \u001b[43m    \u001b[49m\u001b[43mallow_unreachable\u001b[49m\u001b[38;5;241;43m=\u001b[39;49m\u001b[38;5;28;43;01mTrue\u001b[39;49;00m\u001b[43m,\u001b[49m\n\u001b[1;32m    296\u001b[0m \u001b[43m    \u001b[49m\u001b[43maccumulate_grad\u001b[49m\u001b[38;5;241;43m=\u001b[39;49m\u001b[38;5;28;43;01mTrue\u001b[39;49;00m\u001b[43m,\u001b[49m\n\u001b[1;32m    297\u001b[0m \u001b[43m\u001b[49m\u001b[43m)\u001b[49m\n",
      "File \u001b[0;32m~/anaconda3/envs/work/lib/python3.8/site-packages/torch/autograd/graph.py:769\u001b[0m, in \u001b[0;36m_engine_run_backward\u001b[0;34m(t_outputs, *args, **kwargs)\u001b[0m\n\u001b[1;32m    767\u001b[0m     unregister_hooks \u001b[38;5;241m=\u001b[39m _register_logging_hooks_on_whole_graph(t_outputs)\n\u001b[1;32m    768\u001b[0m \u001b[38;5;28;01mtry\u001b[39;00m:\n\u001b[0;32m--> 769\u001b[0m     \u001b[38;5;28;01mreturn\u001b[39;00m \u001b[43mVariable\u001b[49m\u001b[38;5;241;43m.\u001b[39;49m\u001b[43m_execution_engine\u001b[49m\u001b[38;5;241;43m.\u001b[39;49m\u001b[43mrun_backward\u001b[49m\u001b[43m(\u001b[49m\u001b[43m  \u001b[49m\u001b[38;5;66;43;03m# Calls into the C++ engine to run the backward pass\u001b[39;49;00m\n\u001b[1;32m    770\u001b[0m \u001b[43m        \u001b[49m\u001b[43mt_outputs\u001b[49m\u001b[43m,\u001b[49m\u001b[43m \u001b[49m\u001b[38;5;241;43m*\u001b[39;49m\u001b[43margs\u001b[49m\u001b[43m,\u001b[49m\u001b[43m \u001b[49m\u001b[38;5;241;43m*\u001b[39;49m\u001b[38;5;241;43m*\u001b[39;49m\u001b[43mkwargs\u001b[49m\n\u001b[1;32m    771\u001b[0m \u001b[43m    \u001b[49m\u001b[43m)\u001b[49m  \u001b[38;5;66;03m# Calls into the C++ engine to run the backward pass\u001b[39;00m\n\u001b[1;32m    772\u001b[0m \u001b[38;5;28;01mfinally\u001b[39;00m:\n\u001b[1;32m    773\u001b[0m     \u001b[38;5;28;01mif\u001b[39;00m attach_logging_hooks:\n",
      "\u001b[0;31mRuntimeError\u001b[0m: Trying to backward through the graph a second time (or directly access saved tensors after they have already been freed). Saved intermediate values of the graph are freed when you call .backward() or autograd.grad(). Specify retain_graph=True if you need to backward through the graph a second time or if you need to access saved tensors after calling backward."
     ]
    }
   ],
   "source": [
    "output.backward()"
   ]
  },
  {
   "cell_type": "markdown",
   "metadata": {},
   "source": [
    "#### `torch.no_grad()`"
   ]
  },
  {
   "cell_type": "markdown",
   "metadata": {},
   "source": [
    "Данный контекст гарантирует, что во всех вычислениях внутри него будут отключены градиенты."
   ]
  },
  {
   "cell_type": "code",
   "execution_count": 131,
   "metadata": {},
   "outputs": [],
   "source": [
    "x = torch.randn(64, 512, 16, 16)\n",
    "x.requires_grad_(True);"
   ]
  },
  {
   "cell_type": "code",
   "execution_count": 132,
   "metadata": {},
   "outputs": [],
   "source": [
    "y = (10 * x).sum()"
   ]
  },
  {
   "cell_type": "code",
   "execution_count": 133,
   "metadata": {},
   "outputs": [
    {
     "data": {
      "text/plain": [
       "True"
      ]
     },
     "execution_count": 133,
     "metadata": {},
     "output_type": "execute_result"
    }
   ],
   "source": [
    "y.requires_grad"
   ]
  },
  {
   "cell_type": "code",
   "execution_count": 134,
   "metadata": {},
   "outputs": [],
   "source": [
    "with torch.no_grad():\n",
    "    z = (100 * x).sum()"
   ]
  },
  {
   "cell_type": "code",
   "execution_count": 135,
   "metadata": {},
   "outputs": [
    {
     "data": {
      "text/plain": [
       "False"
      ]
     },
     "execution_count": 135,
     "metadata": {},
     "output_type": "execute_result"
    }
   ],
   "source": [
    "z.requires_grad"
   ]
  },
  {
   "cell_type": "code",
   "execution_count": 136,
   "metadata": {},
   "outputs": [
    {
     "data": {
      "text/plain": [
       "True"
      ]
     },
     "execution_count": 136,
     "metadata": {},
     "output_type": "execute_result"
    }
   ],
   "source": [
    "x.requires_grad"
   ]
  },
  {
   "cell_type": "markdown",
   "metadata": {},
   "source": [
    "Зачем это может быть нужно?\n",
    "\n",
    "Посмотрим на потребление памяти при использовании функции активации сигмоида:"
   ]
  },
  {
   "cell_type": "code",
   "execution_count": 137,
   "metadata": {},
   "outputs": [],
   "source": [
    "import torch\n",
    "\n",
    "device = torch.device(\"cuda:0\")\n",
    "\n",
    "from torch.nn import Sigmoid"
   ]
  },
  {
   "cell_type": "code",
   "execution_count": 138,
   "metadata": {},
   "outputs": [],
   "source": [
    "bytes_in_kilobyte = 1024\n",
    "\n",
    "def get_allocated_memory():\n",
    "    mem_MB = torch.cuda.memory_allocated(device=device) / bytes_in_kilobyte\n",
    "    return round(mem_MB, 3)\n",
    "\n",
    "def get_tensor_memory(t):\n",
    "    mem_MB = t.nelement() * t.element_size() / bytes_in_kilobyte\n",
    "    return round(mem_MB, 3)"
   ]
  },
  {
   "cell_type": "code",
   "execution_count": 139,
   "metadata": {},
   "outputs": [
    {
     "data": {
      "text/plain": [
       "8322.5"
      ]
     },
     "execution_count": 139,
     "metadata": {},
     "output_type": "execute_result"
    }
   ],
   "source": [
    "torch.cuda.empty_cache()\n",
    "get_allocated_memory()"
   ]
  },
  {
   "cell_type": "code",
   "execution_count": 140,
   "metadata": {},
   "outputs": [
    {
     "data": {
      "text/plain": [
       "8322.5"
      ]
     },
     "execution_count": 140,
     "metadata": {},
     "output_type": "execute_result"
    }
   ],
   "source": [
    "s = Sigmoid().to(device)\n",
    "get_allocated_memory()"
   ]
  },
  {
   "cell_type": "code",
   "execution_count": 141,
   "metadata": {},
   "outputs": [
    {
     "data": {
      "text/plain": [
       "32768.0"
      ]
     },
     "execution_count": 141,
     "metadata": {},
     "output_type": "execute_result"
    }
   ],
   "source": [
    "x = torch.randn(64, 512, 16, 16).to(device)\n",
    "x.requires_grad_(True);\n",
    "get_tensor_memory(x)"
   ]
  },
  {
   "cell_type": "code",
   "execution_count": 142,
   "metadata": {},
   "outputs": [
    {
     "data": {
      "text/plain": [
       "32768.0"
      ]
     },
     "execution_count": 142,
     "metadata": {},
     "output_type": "execute_result"
    }
   ],
   "source": [
    "64 * 512 * 16 * 16 * 4 / 1024"
   ]
  },
  {
   "cell_type": "code",
   "execution_count": 143,
   "metadata": {},
   "outputs": [
    {
     "data": {
      "text/plain": [
       "41090.5"
      ]
     },
     "execution_count": 143,
     "metadata": {},
     "output_type": "execute_result"
    }
   ],
   "source": [
    "get_allocated_memory()"
   ]
  },
  {
   "cell_type": "code",
   "execution_count": 144,
   "metadata": {},
   "outputs": [
    {
     "data": {
      "text/plain": [
       "0.004"
      ]
     },
     "execution_count": 144,
     "metadata": {},
     "output_type": "execute_result"
    }
   ],
   "source": [
    "y = s(x).mean()\n",
    "get_tensor_memory(y)"
   ]
  },
  {
   "cell_type": "code",
   "execution_count": 145,
   "metadata": {},
   "outputs": [
    {
     "data": {
      "text/plain": [
       "73859.0"
      ]
     },
     "execution_count": 145,
     "metadata": {},
     "output_type": "execute_result"
    }
   ],
   "source": [
    "get_allocated_memory()"
   ]
  },
  {
   "cell_type": "code",
   "execution_count": 146,
   "metadata": {},
   "outputs": [
    {
     "data": {
      "text/plain": [
       "73859.0"
      ]
     },
     "execution_count": 146,
     "metadata": {},
     "output_type": "execute_result"
    }
   ],
   "source": [
    "y.backward()\n",
    "get_allocated_memory()"
   ]
  },
  {
   "cell_type": "markdown",
   "metadata": {},
   "source": [
    "Сделаем то же самое, но с `torch.no_grad()`:"
   ]
  },
  {
   "cell_type": "code",
   "execution_count": 147,
   "metadata": {},
   "outputs": [
    {
     "data": {
      "text/plain": [
       "73859.0"
      ]
     },
     "execution_count": 147,
     "metadata": {},
     "output_type": "execute_result"
    }
   ],
   "source": [
    "# torch.cuda.empty_cache()\n",
    "get_allocated_memory()"
   ]
  },
  {
   "cell_type": "code",
   "execution_count": 148,
   "metadata": {},
   "outputs": [
    {
     "data": {
      "text/plain": [
       "73859.0"
      ]
     },
     "execution_count": 148,
     "metadata": {},
     "output_type": "execute_result"
    }
   ],
   "source": [
    "s = Sigmoid().to(device)\n",
    "get_allocated_memory()"
   ]
  },
  {
   "cell_type": "code",
   "execution_count": 149,
   "metadata": {},
   "outputs": [
    {
     "data": {
      "text/plain": [
       "32768.0"
      ]
     },
     "execution_count": 149,
     "metadata": {},
     "output_type": "execute_result"
    }
   ],
   "source": [
    "x = torch.randn(64, 512, 16, 16).to(device)\n",
    "x.requires_grad_(True);\n",
    "get_tensor_memory(x)"
   ]
  },
  {
   "cell_type": "code",
   "execution_count": 150,
   "metadata": {},
   "outputs": [
    {
     "data": {
      "text/plain": [
       "106627.0"
      ]
     },
     "execution_count": 150,
     "metadata": {},
     "output_type": "execute_result"
    }
   ],
   "source": [
    "get_allocated_memory()"
   ]
  },
  {
   "cell_type": "code",
   "execution_count": 151,
   "metadata": {},
   "outputs": [
    {
     "data": {
      "text/plain": [
       "0.004"
      ]
     },
     "execution_count": 151,
     "metadata": {},
     "output_type": "execute_result"
    }
   ],
   "source": [
    "with torch.no_grad():\n",
    "    y = s(x).mean()\n",
    "get_tensor_memory(y)"
   ]
  },
  {
   "cell_type": "code",
   "execution_count": 152,
   "metadata": {},
   "outputs": [
    {
     "data": {
      "text/plain": [
       "41091.0"
      ]
     },
     "execution_count": 152,
     "metadata": {},
     "output_type": "execute_result"
    }
   ],
   "source": [
    "get_allocated_memory()"
   ]
  },
  {
   "cell_type": "markdown",
   "metadata": {},
   "source": [
    "Почему потребление памяти уменьшилось?\n",
    "Подробнее [тут](https://medium.com/deep-learning-for-protein-design/a-comprehensive-guide-to-memory-usage-in-pytorch-b9b7c78031d3) или [тут](https://pytorch.org/tutorials/recipes/recipes/tuning_guide.html)."
   ]
  },
  {
   "cell_type": "markdown",
   "metadata": {},
   "source": [
    "## 3. Пример задачи регрессии"
   ]
  },
  {
   "cell_type": "code",
   "execution_count": 153,
   "metadata": {},
   "outputs": [
    {
     "data": {
      "image/png": "[encoded data removed]",
      "text/plain": [
       "<Figure size 1200x500 with 1 Axes>"
      ]
     },
     "metadata": {},
     "output_type": "display_data"
    }
   ],
   "source": [
    "np.random.seed(1234)\n",
    "_a = np.random.uniform(1, 5)\n",
    "_b = np.random.uniform(-3, 3)\n",
    "_c = np.random.uniform(-3, 3)\n",
    "\n",
    "num_samples = 100\n",
    "\n",
    "xs = np.random.uniform(-3, 3, size=num_samples)\n",
    "ys_clean = _a * xs ** 2 + _b * xs + _c\n",
    "ys_noise = np.random.normal(0, 1, size=len(ys_clean))\n",
    "ys = ys_clean + ys_noise\n",
    "\n",
    "plt.figure(figsize=(12, 5))\n",
    "plt.scatter(xs, ys, label=\"gt\", s=5)\n",
    "plt.xlabel(\"x\")\n",
    "plt.ylabel(\"y\")\n",
    "plt.legend()\n",
    "plt.grid(True)"
   ]
  },
  {
   "cell_type": "code",
   "execution_count": 154,
   "metadata": {},
   "outputs": [],
   "source": [
    "def model(x, a, b, c):\n",
    "    return a * x ** 2 + b * x + c"
   ]
  },
  {
   "cell_type": "code",
   "execution_count": 155,
   "metadata": {},
   "outputs": [],
   "source": [
    "# device = torch.device(\"cuda:0\")\n",
    "device = torch.device(\"cpu\")"
   ]
  },
  {
   "cell_type": "markdown",
   "metadata": {},
   "source": [
    "Создадим переменные `xs_device` и `ys_device`, которые будут содержать обучающие данные сразу на нужном девайсе в виде тензоров.\n",
    "\n",
    "**Вопрос:** `requires_grad=True` или `requires_grad=False`?"
   ]
  },
  {
   "cell_type": "code",
   "execution_count": 156,
   "metadata": {},
   "outputs": [],
   "source": [
    "# YOUR CODE HERE\n",
    "xs_device = torch.tensor(xs, device=device, requires_grad=False)\n",
    "ys_device = torch.tensor(ys, device=device, requires_grad=False)\n",
    "# END OF YOUR CODE"
   ]
  },
  {
   "cell_type": "markdown",
   "metadata": {},
   "source": [
    "Теперь инициализируем веса `a`, `b` и `c` нормальным распределением:"
   ]
  },
  {
   "cell_type": "code",
   "execution_count": 157,
   "metadata": {},
   "outputs": [],
   "source": [
    "# YOUR CODE HERE\n",
    "a = torch.randn(1, device=device, requires_grad=True)\n",
    "b = torch.randn(1, device=device, requires_grad=True)\n",
    "c = torch.randn(1, device=device, requires_grad=True)\n",
    "# END OF YOUR CODE"
   ]
  },
  {
   "cell_type": "markdown",
   "metadata": {},
   "source": [
    "Допишем рутину обучения, чтобы получить значения весов модели."
   ]
  },
  {
   "cell_type": "code",
   "execution_count": 158,
   "metadata": {},
   "outputs": [
    {
     "name": "stderr",
     "output_type": "stream",
     "text": [
      "100%|█████████████████████████████████████████████████████████████████████████████████████████████████████████████████████████████████████████████████████████████████████████████████████████████████████████████████████████████████████████████| 300/300 [00:04<00:00, 61.31it/s]\n"
     ]
    }
   ],
   "source": [
    "num_epochs = 300\n",
    "lr = 1e-4\n",
    "indices = np.arange(len(xs))\n",
    "\n",
    "loss_list, a_list, b_list, c_list = [], [], [], []\n",
    "\n",
    "for epoch in tqdm.trange(num_epochs):\n",
    "    np.random.shuffle(indices)\n",
    "\n",
    "    loss_epoch = []\n",
    "    for i in indices:\n",
    "        # YOUR CODE HERE\n",
    "        x      = xs_device[i]\n",
    "        y_true = ys_device[i]\n",
    "        y_pred = model(x,a,b,c)\n",
    "        loss = (y_true - y_pred)**2\n",
    "        loss.backward()\n",
    "        # END OF YOUR CODE\n",
    "        \n",
    "        with torch.no_grad():\n",
    "            #a.data -= lr * a.grad.data\n",
    "            #b.data -= lr * b.grad.data\n",
    "            #c.data -= lr * c.grad.data\n",
    "            a -= lr * a.grad\n",
    "            b -= lr * b.grad\n",
    "            c -= lr * c.grad\n",
    "            a.grad.zero_()\n",
    "            b.grad.zero_()\n",
    "            c.grad.zero_()\n",
    "            \n",
    "        loss_epoch.append(loss.item())\n",
    "        \n",
    "    loss_list.append(np.mean(loss_epoch))\n",
    "    a_list.append(a.item())\n",
    "    b_list.append(b.item())\n",
    "    c_list.append(c.item())"
   ]
  },
  {
   "cell_type": "markdown",
   "metadata": {},
   "source": [
    "А теперь посмотрим на результаты:"
   ]
  },
  {
   "cell_type": "code",
   "execution_count": 159,
   "metadata": {},
   "outputs": [],
   "source": [
    "xs_sorted = np.sort(xs)\n",
    "\n",
    "ys_pred_per_epoch = []\n",
    "for epoch in range(num_epochs):\n",
    "    a_epoch = a_list[epoch]\n",
    "    b_epoch = b_list[epoch]\n",
    "    c_epoch = c_list[epoch]\n",
    "    with torch.no_grad():\n",
    "        ys_pred_epoch = model(xs_sorted, a_epoch, b_epoch, c_epoch)\n",
    "    ys_pred_per_epoch.append(ys_pred_epoch)"
   ]
  },
  {
   "cell_type": "code",
   "execution_count": 160,
   "metadata": {},
   "outputs": [
    {
     "data": {
      "image/png": "[encoded data removed]",
      "text/plain": [
       "<Figure size 1200x500 with 1 Axes>"
      ]
     },
     "metadata": {},
     "output_type": "display_data"
    }
   ],
   "source": [
    "plt.figure(figsize=(12, 5))\n",
    "plt.scatter(xs, ys, label=\"gt\", s=5, c=\"r\")\n",
    "plt.plot(xs_sorted, ys_pred_per_epoch[-1], label=\"pred\", c=\"g\")\n",
    "plt.xlabel(\"x\")\n",
    "plt.ylabel(\"y\")\n",
    "plt.legend()\n",
    "plt.grid(True)\n",
    "plt.show()"
   ]
  },
  {
   "cell_type": "markdown",
   "metadata": {},
   "source": [
    "Если есть нужные зависимости у `jupyterlab` (**осторожно, может все сломать**), можно сделать интерактивно:"
   ]
  },
  {
   "cell_type": "code",
   "execution_count": 161,
   "metadata": {},
   "outputs": [],
   "source": [
    "#!pip install ipympl"
   ]
  },
  {
   "cell_type": "code",
   "execution_count": 162,
   "metadata": {},
   "outputs": [
    {
     "data": {
      "application/vnd.jupyter.widget-view+json": {
       "model_id": "307cee7edbf341b0bba47df57ffd2806",
       "version_major": 2,
       "version_minor": 0
      },
      "text/plain": [
       "interactive(children=(IntSlider(value=0, description='i', max=299), Output()), _dom_classes=('widget-interact'…"
      ]
     },
     "metadata": {},
     "output_type": "display_data"
    },
    {
     "data": {
      "application/vnd.jupyter.widget-view+json": {
       "model_id": "a4ac4cc6255942c48a64cbd3ab173c7e",
       "version_major": 2,
       "version_minor": 0
      },
      "image/png": "[encoded data removed]",
      "text/html": [
       "\n",
       "            <div style=\"display: inline-block;\">\n",
       "                <div class=\"jupyter-widgets widget-label\" style=\"text-align: center;\">\n",
       "                    Figure\n",
       "                </div>\n",
       "                <img src='data:image/png;base64,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' width=1200.0/>\n",
       "            </div>\n",
       "        "
      ],
      "text/plain": [
       "Canvas(toolbar=Toolbar(toolitems=[('Home', 'Reset original view', 'home', 'home'), ('Back', 'Back to previous …"
      ]
     },
     "metadata": {},
     "output_type": "display_data"
    }
   ],
   "source": [
    "%matplotlib ipympl\n",
    "from ipywidgets import *\n",
    "import numpy as np\n",
    "import matplotlib.pyplot as plt\n",
    "\n",
    "x = xs_sorted\n",
    "\n",
    "def f(x, i):\n",
    "    return model(x, a_list[i], b_list[i], c_list[i])\n",
    "\n",
    "fig = plt.figure(figsize=(12, 5))\n",
    "ax = fig.add_subplot(1, 1, 1)\n",
    "ax.set_xlabel(\"x\")\n",
    "ax.set_ylabel(\"y\")\n",
    "\n",
    "ax.scatter(xs, ys, label=\"gt\", s=5, c=\"r\")\n",
    "line, = ax.plot(x, f(x, i), label=\"pred\", c=\"g\")\n",
    "\n",
    "ax.legend()\n",
    "ax.grid(True)\n",
    "\n",
    "\n",
    "def update(i=0):\n",
    "    line.set_ydata(f(x, i))\n",
    "    fig.canvas.draw_idle()\n",
    "    \n",
    "interact(update, i=(0,num_epochs-1,1));"
   ]
  },
  {
   "cell_type": "code",
   "execution_count": 163,
   "metadata": {},
   "outputs": [
    {
     "data": {
      "application/vnd.jupyter.widget-view+json": {
       "model_id": "b50ced4c567745ec9c8f2aa80e982457",
       "version_major": 2,
       "version_minor": 0
      },
      "image/png": "[encoded data removed]",
      "text/html": [
       "\n",
       "            <div style=\"display: inline-block;\">\n",
       "                <div class=\"jupyter-widgets widget-label\" style=\"text-align: center;\">\n",
       "                    Figure\n",
       "                </div>\n",
       "                <img src='data:image/png;base64,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' width=1200.0/>\n",
       "            </div>\n",
       "        "
      ],
      "text/plain": [
       "Canvas(toolbar=Toolbar(toolitems=[('Home', 'Reset original view', 'home', 'home'), ('Back', 'Back to previous …"
      ]
     },
     "metadata": {},
     "output_type": "display_data"
    }
   ],
   "source": [
    "plt.figure(figsize=(12, 5))\n",
    "\n",
    "plt.subplot(1, 2, 1)\n",
    "plt.plot(loss_list)\n",
    "plt.xlabel(\"epoch\")\n",
    "plt.ylabel(\"loss\")\n",
    "plt.grid(True)\n",
    "plt.yscale(\"log\")\n",
    "\n",
    "plt.subplot(1, 2, 2)\n",
    "for p_name, p_gt, p_list, color in zip((\"a\", \"b\", \"c\"), (_a, _b, _c), (a_list, b_list, c_list), (\"r\", \"g\", \"b\")):\n",
    "    plt.hlines(y=p_gt, xmin=0, xmax=num_epochs, linestyles=\"dashed\", colors=color)\n",
    "    plt.scatter(range(len(p_list)), p_list, label=p_name, s=1, c=color)\n",
    "plt.xlabel(\"epoch\")\n",
    "plt.ylabel(\"param value\")\n",
    "plt.legend()\n",
    "plt.grid(True)\n",
    "\n",
    "plt.show()"
   ]
  },
  {
   "cell_type": "markdown",
   "metadata": {},
   "source": [
    "**Вопрос:** если бы это была \"настоящая\" задача, что следовало бы изменить в данном пайплайне?"
   ]
  },
  {
   "cell_type": "markdown",
   "metadata": {},
   "source": [
    "## 4. Переопределение `backward`"
   ]
  },
  {
   "cell_type": "markdown",
   "metadata": {
    "id": "g616ocbHv78t"
   },
   "source": [
    "Что, если нам хочется релизовать кстомный градиент для произвольной функции. \n",
    "\n",
    "Зачем?\n",
    "\n",
    " - Мы можем знать лучший способ посчитать градиент, чем делать бэкпроп для суперпозиции элементарных функций\n",
    " - Можем реализовать численно более устойчивый метод\n",
    " - Можем использовать функции из внешних библиотек\n",
    " - Использовать недифференцируемые функции?.."
   ]
  },
  {
   "cell_type": "markdown",
   "metadata": {
    "id": "nkYTgy6ZO_Ru"
   },
   "source": [
    "Рассмотрим сигмоиду:\n",
    "\n",
    "$$ \n",
    "  \\sigma(x) = \\frac{1}{1+e^{-x}}\n",
    "$$\n",
    "\n",
    "Если честно распишем суперпозицию функций, то получим:\n",
    "\n",
    "$$\n",
    "  \\sigma(x) = f_1 \\odot f_2  \\odot f_3 \\odot f_4(x), where \n",
    "$$\n",
    "\n",
    "$$\n",
    "f_1 = \\frac{1}{u}, f_2 = 1 + u, f_3 = \\exp(u), f_4 = -u\n",
    "$$\n",
    "\n",
    "Тогда:\n",
    "\n",
    "$$\n",
    "\\frac{\\partial \\sigma}{\\partial x} = \\frac{\\partial \\sigma}{\\partial f_2}\\frac{\\partial f_2}{\\partial f_3}\n",
    "\\frac{\\partial f_3}{\\partial f_4}\n",
    "\\frac{\\partial f_4}{\\partial x}\n",
    "$$\n",
    "\n",
    "Но зная как устроена производная можно упростить:\n",
    "\n",
    "$$\n",
    "\\frac{\\partial \\sigma}{\\partial x} = \\sigma(x)(1 - \\sigma(x))\n",
    "$$"
   ]
  },
  {
   "cell_type": "markdown",
   "metadata": {
    "id": "DRpFQBmuR-V_"
   },
   "source": [
    "Вручную задать градиени функции в библиотеке PyTorch можно создав дочерний класс от [`torch.autograd.Function`](https://pytorch.org/docs/stable/notes/extending.html#extending-torch-autograd).\n",
    "\n",
    "**NB**: Для того, чтобы сделать `backward()`, требуется знать результат `forward()`. Для этого у переменной контекста есть метод [`save_for_backward()`](https://pytorch.org/docs/stable/generated/torch.autograd.function.FunctionCtx.save_for_backward.html)."
   ]
  },
  {
   "cell_type": "code",
   "execution_count": 164,
   "metadata": {
    "executionInfo": {
     "elapsed": 244,
     "status": "ok",
     "timestamp": 1631815233191,
     "user": {
      "displayName": "Filipp Nikitin",
      "photoUrl": "https://lh3.googleusercontent.com/a-/AOh14Gib7R6zFSdJ1Mn4MWbQTRjNvdPBqipg3uQtaNBFNg=s64",
      "userId": "00003629133353694743"
     },
     "user_tz": -180
    },
    "id": "okxelJTDO9_L"
   },
   "outputs": [],
   "source": [
    "class MySigmoid(torch.autograd.Function):\n",
    "    @staticmethod\n",
    "    def forward(ctx, x):\n",
    "        # YOUR CODE HERE\n",
    "        val = 1./(1. + torch.exp(-x))\n",
    "        ctx.save_for_backward(val)\n",
    "        # END OF YOUR CODE\n",
    "        return val\n",
    "    \n",
    "    @staticmethod\n",
    "    def backward(ctx, grad_output):\n",
    "        # YOUR CODE HERE\n",
    "        val, = ctx.saved_tensors\n",
    "        grad = val*(1 - val)*grad_output\n",
    "        # END OF YOUR CODE\n",
    "        return grad"
   ]
  },
  {
   "cell_type": "code",
   "execution_count": 165,
   "metadata": {
    "executionInfo": {
     "elapsed": 211,
     "status": "ok",
     "timestamp": 1631815238628,
     "user": {
      "displayName": "Filipp Nikitin",
      "photoUrl": "https://lh3.googleusercontent.com/a-/AOh14Gib7R6zFSdJ1Mn4MWbQTRjNvdPBqipg3uQtaNBFNg=s64",
      "userId": "00003629133353694743"
     },
     "user_tz": -180
    },
    "id": "n89TIozkVt27"
   },
   "outputs": [],
   "source": [
    "from torch.autograd import gradcheck"
   ]
  },
  {
   "cell_type": "code",
   "execution_count": 166,
   "metadata": {
    "colab": {
     "base_uri": "https://localhost:8080/"
    },
    "executionInfo": {
     "elapsed": 227,
     "status": "ok",
     "timestamp": 1631815280552,
     "user": {
      "displayName": "Filipp Nikitin",
      "photoUrl": "https://lh3.googleusercontent.com/a-/AOh14Gib7R6zFSdJ1Mn4MWbQTRjNvdPBqipg3uQtaNBFNg=s64",
      "userId": "00003629133353694743"
     },
     "user_tz": -180
    },
    "id": "42MVi8npWlAR",
    "outputId": "15653e25-a437-4e4b-b093-5c610ee3e56f"
   },
   "outputs": [
    {
     "name": "stderr",
     "output_type": "stream",
     "text": [
      "/home/sergey/anaconda3/envs/work/lib/python3.8/site-packages/torch/autograd/gradcheck.py:920: UserWarning: Input #0 requires gradient and is not a double precision floating point or complex. This check will likely fail if all the inputs are not of double precision floating point or complex. \n",
      "  warnings.warn(\n"
     ]
    },
    {
     "name": "stdout",
     "output_type": "stream",
     "text": [
      "True\n",
      "True\n"
     ]
    }
   ],
   "source": [
    "sigmoid = MySigmoid.apply\n",
    "x = torch.rand(2, requires_grad=True)\n",
    "print(gradcheck(sigmoid, x, eps=1e-4, atol=1e-3))\n",
    "\n",
    "# be sure to use double for better approximation\n",
    "x = torch.rand(2, requires_grad=True).double()\n",
    "print(gradcheck(sigmoid, x, eps=1e-6, atol=1e-4))"
   ]
  },
  {
   "cell_type": "markdown",
   "metadata": {
    "id": "aXYgzHcz7E_1"
   },
   "source": [
    "PyTorch умеет считать матрицу Якоби или матрицу Гессе для заданной функции."
   ]
  },
  {
   "cell_type": "code",
   "execution_count": 167,
   "metadata": {
    "executionInfo": {
     "elapsed": 229,
     "status": "ok",
     "timestamp": 1631815491399,
     "user": {
      "displayName": "Filipp Nikitin",
      "photoUrl": "https://lh3.googleusercontent.com/a-/AOh14Gib7R6zFSdJ1Mn4MWbQTRjNvdPBqipg3uQtaNBFNg=s64",
      "userId": "00003629133353694743"
     },
     "user_tz": -180
    },
    "id": "a65TCapsZBlf"
   },
   "outputs": [],
   "source": [
    "from torch.autograd.functional import hessian, jacobian"
   ]
  },
  {
   "cell_type": "code",
   "execution_count": 168,
   "metadata": {
    "colab": {
     "base_uri": "https://localhost:8080/"
    },
    "executionInfo": {
     "elapsed": 246,
     "status": "ok",
     "timestamp": 1631815519585,
     "user": {
      "displayName": "Filipp Nikitin",
      "photoUrl": "https://lh3.googleusercontent.com/a-/AOh14Gib7R6zFSdJ1Mn4MWbQTRjNvdPBqipg3uQtaNBFNg=s64",
      "userId": "00003629133353694743"
     },
     "user_tz": -180
    },
    "id": "nS-DSoplZ6E_",
    "outputId": "db8a907c-8365-451f-d6f0-d1d186a54d97"
   },
   "outputs": [
    {
     "data": {
      "text/plain": [
       "tensor([[0.2324, 0.0000],\n",
       "        [0.0000, 0.2321]], dtype=torch.float64)"
      ]
     },
     "execution_count": 168,
     "metadata": {},
     "output_type": "execute_result"
    }
   ],
   "source": [
    "jacobian(sigmoid, x)"
   ]
  },
  {
   "cell_type": "code",
   "execution_count": 169,
   "metadata": {
    "executionInfo": {
     "elapsed": 215,
     "status": "ok",
     "timestamp": 1631815472226,
     "user": {
      "displayName": "Filipp Nikitin",
      "photoUrl": "https://lh3.googleusercontent.com/a-/AOh14Gib7R6zFSdJ1Mn4MWbQTRjNvdPBqipg3uQtaNBFNg=s64",
      "userId": "00003629133353694743"
     },
     "user_tz": -180
    },
    "id": "z_nXiJsFXoDR"
   },
   "outputs": [],
   "source": [
    "def sum_sigmoid(x):\n",
    "    return torch.sum(sigmoid(x))"
   ]
  },
  {
   "cell_type": "code",
   "execution_count": 170,
   "metadata": {},
   "outputs": [
    {
     "data": {
      "text/plain": [
       "tensor([[-0.0616,  0.0000],\n",
       "        [ 0.0000, -0.0621]], dtype=torch.float64)"
      ]
     },
     "execution_count": 170,
     "metadata": {},
     "output_type": "execute_result"
    }
   ],
   "source": [
    "hessian(sum_sigmoid, x)"
   ]
  },
  {
   "cell_type": "markdown",
   "metadata": {
    "id": "vLPPlL6Sj39B"
   },
   "source": [
    "## Итоги\n",
    "\n",
    "* Узнали, что такое `pytorch` и как в нем работать с тензорами\n",
    "* Немного погрели GPU, запустив вычисления на нем\n",
    "* Решили пример задачи, используя только библиотеку `pytorch`\n",
    "* Написали собственную реализацию сигмоидальной нелинейности"
   ]
  },
  {
   "cell_type": "markdown",
   "metadata": {},
   "source": [
    "Что еще почитать:\n",
    "* [A gentle introduction to `torch.autograd`](https://pytorch.org/tutorials/beginner/blitz/autograd_tutorial.html)\n",
    "* [Extending pytorch](https://pytorch.org/docs/stable/notes/extending.html#extending-torch-autograd)"
   ]
  },
  {
   "cell_type": "markdown",
   "metadata": {},
   "source": [
    "В следующий раз: \n",
    "* (наконец-то) нейросети на pytorch"
   ]
  },
  {
   "cell_type": "code",
   "execution_count": 171,
   "metadata": {},
   "outputs": [
    {
     "name": "stdout",
     "output_type": "stream",
     "text": [
      "Output: tensor([0.5000, 0.8808, 0.1192], grad_fn=<CustomSigmoidFunctionBackward>)\n",
      "Gradients: tensor([0.2500, 0.1050, 0.1050])\n"
     ]
    }
   ],
   "source": [
    "import torch\n",
    "import torch.nn as nn\n",
    "\n",
    "class CustomSigmoidFunction(torch.autograd.Function):\n",
    "    @staticmethod\n",
    "    def forward(ctx, x):\n",
    "        # Save the input for the backward pass\n",
    "        ctx.save_for_backward(x)\n",
    "        # Compute the sigmoid output\n",
    "        output = 1 / (1 + torch.exp(-x))\n",
    "        return output\n",
    "\n",
    "    @staticmethod\n",
    "    def backward(ctx, grad_output):\n",
    "        # Retrieve the input saved in the forward pass\n",
    "        x, = ctx.saved_tensors\n",
    "        # Compute the sigmoid output again\n",
    "        sigmoid_x = 1 / (1 + torch.exp(-x))\n",
    "        # Compute the gradient of the sigmoid function\n",
    "        grad_input = grad_output * sigmoid_x * (1 - sigmoid_x)\n",
    "        return grad_input\n",
    "\n",
    "class CustomSigmoid(nn.Module):\n",
    "    def __init__(self):\n",
    "        super(CustomSigmoid, self).__init__()\n",
    "\n",
    "    def forward(self, x):\n",
    "        return CustomSigmoidFunction.apply(x)\n",
    "\n",
    "# Example usage\n",
    "if __name__ == \"__main__\":\n",
    "    model = CustomSigmoid()\n",
    "    input_tensor = torch.tensor([0.0, 2.0, -2.0], requires_grad=True)\n",
    "    output_tensor = model(input_tensor)\n",
    "    print(f\"Output: {output_tensor}\")\n",
    "\n",
    "    # Perform a backward pass\n",
    "    output_tensor.sum().backward()\n",
    "    print(f\"Gradients: {input_tensor.grad}\")"
   ]
  },
  {
   "cell_type": "code",
   "execution_count": null,
   "metadata": {},
   "outputs": [],
   "source": []
  },
  {
   "cell_type": "code",
   "execution_count": null,
   "metadata": {},
   "outputs": [],
   "source": []
  },
  {
   "cell_type": "code",
   "execution_count": null,
   "metadata": {},
   "outputs": [],
   "source": []
  }
 ],
 "metadata": {
  "accelerator": "GPU",
  "colab": {
   "authorship_tag": "ABX9TyM3x5e0hXQ/KRZ2lfc2ew+0",
   "name": "02. PyTorch autograd (classwork).ipynb",
   "provenance": [
    {
     "file_id": "1ZysOsvyIEv_yWYw9vvt8yWt5Q0MgRA57",
     "timestamp": 1631790599254
    }
   ]
  },
  "kernelspec": {
   "display_name": "Python 3 (ipykernel)",
   "language": "python",
   "name": "python3"
  },
  "language_info": {
   "codemirror_mode": {
    "name": "ipython",
    "version": 3
   },
   "file_extension": ".py",
   "mimetype": "text/x-python",
   "name": "python",
   "nbconvert_exporter": "python",
   "pygments_lexer": "ipython3",
   "version": "3.8.16"
  }
 },
 "nbformat": 4,
 "nbformat_minor": 4
}
